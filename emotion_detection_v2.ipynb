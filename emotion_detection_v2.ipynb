{
 "cells": [
  {
   "cell_type": "code",
   "execution_count": 2,
   "metadata": {},
   "outputs": [],
   "source": [
    "import numpy as np \n",
    "import pandas as pd\n",
    "import os,cv2\n",
    "import numpy as np\n",
    "import matplotlib.pyplot as plt\n",
    "import matplotlib.image as mpimg\n",
    "\n",
    "from sklearn.utils import shuffle\n",
    "from sklearn.model_selection import train_test_split\n",
    "\n",
    "import tensorflow as tf\n",
    "import tensorflow.keras as keras\n",
    "from keras_visualizer import visualizer\n",
    "from tensorflow.keras import callbacks\n",
    "from tensorflow.keras import utils\n",
    "from tensorflow.keras.models import Sequential\n",
    "from tensorflow.keras.layers import Dense , Activation , Dropout ,Flatten\n",
    "from keras.layers.convolutional import Conv2D\n",
    "from keras.layers.convolutional import MaxPooling2D\n",
    "from tensorflow.keras.metrics import categorical_accuracy\n",
    "from tensorflow.keras.models import model_from_json\n",
    "from tensorflow.keras.callbacks import ModelCheckpoint\n",
    "from tensorflow.keras.optimizers import *\n",
    "from keras.layers import BatchNormalization\n",
    "import os"
   ]
  },
  {
   "cell_type": "markdown",
   "metadata": {},
   "source": [
    "# load data"
   ]
  },
  {
   "cell_type": "code",
   "execution_count": 3,
   "metadata": {},
   "outputs": [
    {
     "data": {
      "text/plain": [
       "'jaffe'"
      ]
     },
     "execution_count": 3,
     "metadata": {},
     "output_type": "execute_result"
    }
   ],
   "source": [
    "dataset_name = input('CK+ or FER or JAFFE: ').lower()\n",
    "dataset_name"
   ]
  },
  {
   "cell_type": "code",
   "execution_count": 6,
   "metadata": {},
   "outputs": [
    {
     "name": "stdout",
     "output_type": "stream",
     "text": [
      "Loaded the images of dataset-dataset/jaffedbase/jaffedbase\n"
     ]
    }
   ],
   "source": [
    "if dataset_name == 'ck+':\n",
    "    data_path = 'dataset/CK+48'\n",
    "    data_dir_list = os.listdir(data_path)\n",
    "\n",
    "    img_data_list=[]\n",
    "\n",
    "    for dataset in data_dir_list:\n",
    "        img_list=os.listdir(data_path+'/'+ dataset)\n",
    "        print ('Loaded the images of dataset-'+'{}\\n'.format(dataset))\n",
    "        for img in img_list:\n",
    "            input_img=cv2.imread(data_path + '/'+ dataset + '/'+ img )\n",
    "            input_img=cv2.cvtColor(input_img, cv2.COLOR_BGR2GRAY)\n",
    "            input_img_resize=cv2.resize(input_img,(48,48))\n",
    "            img_data_list.append(input_img_resize)\n",
    "            \n",
    "    img_data = np.array(img_data_list)\n",
    "    img_data = img_data.astype('float32')\n",
    "    img_data = img_data/255\n",
    "    img_data.shape\n",
    "\n",
    "elif dataset_name == 'fer':\n",
    "    # data_path = 'dataset/fer'\n",
    "    \n",
    "    # for training\n",
    "    data_path = 'dataset/fer2013/train'\n",
    "    data_dir_list = os.listdir(data_path)\n",
    "\n",
    "    labels = []\n",
    "    img_data_list=[]\n",
    "    img_class = 0\n",
    "\n",
    "    for dataset in data_dir_list:\n",
    "        img_list=os.listdir(data_path+'/'+ dataset)\n",
    "        print ('Loaded the images of train dataset-'+'{}'.format(dataset))\n",
    "        for img in img_list:\n",
    "            input_img=cv2.imread(data_path + '/'+ dataset + '/'+ img )\n",
    "            input_img=cv2.cvtColor(input_img, cv2.COLOR_BGR2GRAY)\n",
    "            input_img_resize=cv2.resize(input_img,(48,48))\n",
    "            img_data_list.append(input_img_resize)\n",
    "            labels.append(img_class)\n",
    "        img_class += 1\n",
    "            \n",
    "    img_data = np.array(img_data_list)\n",
    "    img_data = img_data.astype('float32')\n",
    "    img_data = img_data/255\n",
    "    X_train = img_data\n",
    "    y_train = utils.to_categorical(labels, img_class)\n",
    "\n",
    "    print()\n",
    "    \n",
    "    # for testing\n",
    "    data_path = 'dataset/fer2013/test'\n",
    "    data_dir_list = os.listdir(data_path)\n",
    "\n",
    "    labels = []\n",
    "    img_data_list=[]\n",
    "    img_class = 0\n",
    "\n",
    "    for dataset in data_dir_list:\n",
    "        img_list=os.listdir(data_path+'/'+ dataset)\n",
    "        print ('Loaded the images of test dataset-'+'{}'.format(dataset))\n",
    "        for img in img_list:\n",
    "            input_img=cv2.imread(data_path + '/'+ dataset + '/'+ img )\n",
    "            input_img=cv2.cvtColor(input_img, cv2.COLOR_BGR2GRAY)\n",
    "            input_img_resize=cv2.resize(input_img,(48,48))\n",
    "            img_data_list.append(input_img_resize)\n",
    "            labels.append(img_class)\n",
    "        img_class += 1\n",
    "            \n",
    "    img_data = np.array(img_data_list)\n",
    "    img_data = img_data.astype('float32')\n",
    "    img_data = img_data/255\n",
    "    X_test = img_data\n",
    "    y_test = utils.to_categorical(labels, img_class)\n",
    "\n",
    "elif dataset_name=='jaffe':\n",
    "    data_path = 'dataset/jaffedbase/jaffedbase'\n",
    "    data_dir_list = os.listdir(data_path)\n",
    "\n",
    "    names = ['happy', 'sad', 'surprise', 'angry', 'disgust', 'fear', 'neutral']\n",
    "    labels = []\n",
    "    img_data_list=[]\n",
    "\n",
    "    img_list=os.listdir(data_path)\n",
    "    print ('Loaded the images of dataset-'+'{}'.format(data_path))\n",
    "    del img_list[0]\n",
    "    del img_list[0]\n",
    "    for img in img_list:\n",
    "        input_img=cv2.imread(data_path + '/'+ img )\n",
    "        input_img=cv2.cvtColor(input_img, cv2.COLOR_BGR2GRAY)\n",
    "        input_img_resize=cv2.resize(input_img,(48,48))\n",
    "        img_data_list.append(input_img_resize)\n",
    "        if 'AN' in img.split('.')[1]:\n",
    "            labels.append(names.index('angry'))\n",
    "        elif 'HA' in img.split('.')[1]:\n",
    "            labels.append(names.index('happy'))\n",
    "        elif 'SA' in img.split('.')[1]:\n",
    "            labels.append(names.index('sad'))\n",
    "        elif 'NE' in img.split('.')[1]:\n",
    "            labels.append(names.index('neutral'))\n",
    "        elif 'SU' in img.split('.')[1]:\n",
    "            labels.append(names.index('surprise'))\n",
    "        elif 'DI' in img.split('.')[1]:\n",
    "            labels.append(names.index('disgust'))\n",
    "        elif 'FE' in img.split('.')[1]:\n",
    "            labels.append(names.index('fear'))\n",
    "    # print(labels)\n",
    "            \n",
    "    img_data = np.array(img_data_list)\n",
    "    img_data = img_data.astype('float32')\n",
    "    img_data = img_data/255\n",
    "    X = img_data\n",
    "    Y = utils.to_categorical(labels, len(names))\n",
    "\n",
    "else:\n",
    "    print('incorrect input')"
   ]
  },
  {
   "cell_type": "markdown",
   "metadata": {},
   "source": [
    "# adding labels"
   ]
  },
  {
   "cell_type": "code",
   "execution_count": 7,
   "metadata": {},
   "outputs": [],
   "source": [
    "num_classes = 7\n",
    "\n",
    "num_of_samples = img_data.shape[0]\n",
    "labels = np.ones((num_of_samples,),dtype='int64')\n",
    "\n",
    "if dataset_name == 'ck+':\n",
    "    labels[0:45]=0      #45\n",
    "    labels[46:63]=1     #18\n",
    "    labels[64:122]=2    #59\n",
    "    labels[123:147]=3   #25\n",
    "    labels[148:216]=4   #69\n",
    "    labels[217:244]=5   #28\n",
    "    labels[245:327]=6   #83\n",
    "    names = ['anger','contempt','disgust','fear','happy','sadness','surprise']\n",
    "\n",
    "elif dataset_name == 'fer':\n",
    "    names = ['angry','disgust','fear','happy','neutral','sad','surprise']\n",
    "\n",
    "def getLabel(id):\n",
    "    return names[id]"
   ]
  },
  {
   "cell_type": "markdown",
   "metadata": {},
   "source": [
    "# dividing into training and testing"
   ]
  },
  {
   "cell_type": "code",
   "execution_count": 8,
   "metadata": {},
   "outputs": [
    {
     "name": "stdout",
     "output_type": "stream",
     "text": [
      "(149, 48, 48, 1)\n",
      "(64, 48, 48, 1)\n"
     ]
    }
   ],
   "source": [
    "if dataset_name == 'ck+':\n",
    "    Y = utils.to_categorical(labels, num_classes)\n",
    "    X_train, X_test, y_train, y_test = train_test_split(img_data, Y, test_size=0.30, shuffle=True, random_state=42)\n",
    "elif dataset_name == 'jaffe':\n",
    "    X_train, X_test, y_train, y_test = train_test_split(img_data, Y, test_size=0.30, shuffle=True, random_state=42)\n",
    "\n",
    "# x_test = X_test\n",
    "X_train = np.reshape(X_train, (X_train.shape[0], 48, 48, 1))\n",
    "X_test = np.reshape(X_test, (X_test.shape[0], 48, 48, 1))\n",
    "\n",
    "print(X_train.shape)\n",
    "print(X_test.shape)"
   ]
  },
  {
   "cell_type": "markdown",
   "metadata": {},
   "source": [
    "# creating model"
   ]
  },
  {
   "cell_type": "code",
   "execution_count": 146,
   "metadata": {},
   "outputs": [
    {
     "name": "stdout",
     "output_type": "stream",
     "text": [
      "Model: \"sequential_30\"\n",
      "_________________________________________________________________\n",
      "Layer (type)                 Output Shape              Param #   \n",
      "=================================================================\n",
      "conv2d_140 (Conv2D)          (None, 47, 47, 4)         20        \n",
      "_________________________________________________________________\n",
      "conv2d_141 (Conv2D)          (None, 23, 23, 6)         102       \n",
      "_________________________________________________________________\n",
      "conv2d_142 (Conv2D)          (None, 20, 20, 16)        1552      \n",
      "_________________________________________________________________\n",
      "conv2d_143 (Conv2D)          (None, 9, 9, 32)          8224      \n",
      "_________________________________________________________________\n",
      "max_pooling2d_28 (MaxPooling (None, 4, 4, 32)          0         \n",
      "_________________________________________________________________\n",
      "dropout_51 (Dropout)         (None, 4, 4, 32)          0         \n",
      "_________________________________________________________________\n",
      "flatten_26 (Flatten)         (None, 512)               0         \n",
      "_________________________________________________________________\n",
      "dense_52 (Dense)             (None, 82)                42066     \n",
      "_________________________________________________________________\n",
      "dropout_52 (Dropout)         (None, 82)                0         \n",
      "_________________________________________________________________\n",
      "dense_53 (Dense)             (None, 7)                 581       \n",
      "=================================================================\n",
      "Total params: 52,545\n",
      "Trainable params: 52,545\n",
      "Non-trainable params: 0\n",
      "_________________________________________________________________\n"
     ]
    }
   ],
   "source": [
    "input_shape=(48,48,1)\n",
    "\n",
    "model = Sequential()\n",
    "\n",
    "model.add(Conv2D(4, (2, 2),input_shape=input_shape))\n",
    "model.add(Conv2D(6, (2, 2), activation='relu', strides=(2,2)))\n",
    "model.add(Conv2D(16, (4, 4), activation='relu'))\n",
    "model.add(Conv2D(32, (4, 4), activation='relu', strides=(2,2)))\n",
    "# model.add(Conv2D(12, (8, 8), input_shape=input_shape, padding='same', activation='relu', strides=(4,4)))\n",
    "# # model.add(Conv2D(7, (2, 2), input_shape=input_shape, padding='same', activation='relu'))\n",
    "# model.add(Conv2D(10, (1, 1), padding='same', activation='relu'))\n",
    "# model.add(MaxPooling2D(pool_size=(2, 2)))\n",
    "# model.add(Conv2D(32, (2, 2), padding='same', activation='relu'))\n",
    "# model.add(Conv2D(64, (2, 2), padding='same', activation='relu', strides=(2,2)))\n",
    "# model.add(MaxPooling2D(pool_size=(2, 2)))\n",
    "# model.add(Activation('relu'))\n",
    "# model.add(Conv2D(64, (4, 4)))\n",
    "# model.add(Activation('relu'))\n",
    "model.add(MaxPooling2D(pool_size=(2, 2)))\n",
    "model.add(Dropout(0.2))\n",
    "model.add(Flatten())\n",
    "model.add(Dense(82, activation = 'relu'))\n",
    "model.add(Dropout(0.3))\n",
    "model.add(Dense(7, activation = 'softmax'))\n",
    "\n",
    "model.summary()\n",
    "\n",
    "# visualizer(model, format='png')"
   ]
  },
  {
   "cell_type": "code",
   "execution_count": 25,
   "metadata": {},
   "outputs": [
    {
     "name": "stdout",
     "output_type": "stream",
     "text": [
      "Model: \"sequential_3\"\n",
      "_________________________________________________________________\n",
      "Layer (type)                 Output Shape              Param #   \n",
      "=================================================================\n",
      "conv2d_12 (Conv2D)           (None, 24, 24, 4)         8         \n",
      "_________________________________________________________________\n",
      "conv2d_13 (Conv2D)           (None, 12, 12, 6)         102       \n",
      "_________________________________________________________________\n",
      "conv2d_14 (Conv2D)           (None, 6, 6, 16)          1552      \n",
      "_________________________________________________________________\n",
      "conv2d_15 (Conv2D)           (None, 2, 2, 32)          32800     \n",
      "_________________________________________________________________\n",
      "max_pooling2d_3 (MaxPooling2 (None, 1, 1, 32)          0         \n",
      "_________________________________________________________________\n",
      "dropout_6 (Dropout)          (None, 1, 1, 32)          0         \n",
      "_________________________________________________________________\n",
      "flatten_3 (Flatten)          (None, 32)                0         \n",
      "_________________________________________________________________\n",
      "dense_6 (Dense)              (None, 82)                2706      \n",
      "_________________________________________________________________\n",
      "dropout_7 (Dropout)          (None, 82)                0         \n",
      "_________________________________________________________________\n",
      "dense_7 (Dense)              (None, 7)                 581       \n",
      "=================================================================\n",
      "Total params: 37,749\n",
      "Trainable params: 37,749\n",
      "Non-trainable params: 0\n",
      "_________________________________________________________________\n"
     ]
    }
   ],
   "source": [
    "# input_shape=(48,48,1)\n",
    "\n",
    "# model = Sequential()\n",
    "\n",
    "# model.add(Conv2D(4, (1, 1), input_shape=input_shape, padding='same', activation='relu', strides=(2,2)))\n",
    "# model.add(Conv2D(6, (2, 2), input_shape=input_shape, padding='same', activation='relu', strides=(2,2)))\n",
    "# model.add(Conv2D(16, (4, 4), input_shape=input_shape, padding='same', activation='relu', strides=(2,2)))\n",
    "# model.add(Conv2D(32, (8, 8), input_shape=input_shape, padding='same', activation='relu', strides=(3,3)))\n",
    "# # model.add(Conv2D(12, (8, 8), input_shape=input_shape, padding='same', activation='relu', strides=(4,4)))\n",
    "# # # model.add(Conv2D(7, (2, 2), input_shape=input_shape, padding='same', activation='relu'))\n",
    "# # # model.add(Conv2D(10, (3, 3), padding='same', activation='relu', strides=(4,4)))\n",
    "# # model.add(MaxPooling2D(pool_size=(2, 2)))\n",
    "# # model.add(Conv2D(32, (2, 2), padding='same', activation='relu'))\n",
    "# # model.add(Conv2D(64, (2, 2), padding='same', activation='relu', strides=(2,2)))\n",
    "# # model.add(MaxPooling2D(pool_size=(2, 2)))\n",
    "# # model.add(Activation('relu'))\n",
    "# # model.add(Conv2D(64, (4, 4)))\n",
    "# # model.add(Activation('relu'))\n",
    "# model.add(MaxPooling2D(pool_size=(2, 2)))\n",
    "# model.add(Dropout(0.2))\n",
    "# model.add(Flatten())\n",
    "# model.add(Dense(82, activation = 'relu'))\n",
    "# model.add(Dropout(0.3))\n",
    "# model.add(Dense(7, activation = 'softmax'))\n",
    "\n",
    "# model.summary()\n",
    "\n",
    "# # visualizer(model, format='png')"
   ]
  },
  {
   "cell_type": "markdown",
   "metadata": {},
   "source": [
    "# training the model"
   ]
  },
  {
   "cell_type": "code",
   "execution_count": 147,
   "metadata": {},
   "outputs": [],
   "source": [
    "filename='model_train_new.csv'\n",
    "filepath = os.path.join(\"./emotion_detector_models/model_v6_{epoch}.hdf5\")\n",
    "\n",
    "checkpoint = keras.callbacks.ModelCheckpoint(filepath,\n",
    "                                             monitor='val_acc',\n",
    "                                             verbose=1,\n",
    "                                             save_best_only=True,\n",
    "                                             mode='max')\n",
    "# callbacks = [checkpoint]\n",
    "\n",
    "\n",
    "csv_log=callbacks.CSVLogger(filename, separator=',', append=False)\n",
    "# checkpoint = callbacks.ModelCheckpoint(filepath, monitor='val_loss', verbose=1, save_best_only=True, mode='min')\n",
    "callbacks_list = [csv_log,checkpoint]\n",
    "callbacks_list = [csv_log]"
   ]
  },
  {
   "cell_type": "code",
   "execution_count": 148,
   "metadata": {},
   "outputs": [],
   "source": [
    "model.compile(loss='categorical_crossentropy', optimizer='adam', metrics=['accuracy', 'MeanSquaredError'])"
   ]
  },
  {
   "cell_type": "code",
   "execution_count": 149,
   "metadata": {},
   "outputs": [
    {
     "name": "stdout",
     "output_type": "stream",
     "text": [
      "Epoch 1/80\n",
      "22/22 [==============================] - 1s 21ms/step - loss: 1.9872 - accuracy: 0.1208 - mean_squared_error: 0.1242 - val_loss: 1.9510 - val_accuracy: 0.1250 - val_mean_squared_error: 0.1227\n",
      "Epoch 2/80\n",
      "22/22 [==============================] - 0s 15ms/step - loss: 1.9469 - accuracy: 0.1745 - mean_squared_error: 0.1225 - val_loss: 1.9516 - val_accuracy: 0.1562 - val_mean_squared_error: 0.1227\n",
      "Epoch 3/80\n",
      "22/22 [==============================] - 0s 15ms/step - loss: 1.9364 - accuracy: 0.1678 - mean_squared_error: 0.1221 - val_loss: 1.9463 - val_accuracy: 0.2031 - val_mean_squared_error: 0.1225\n",
      "Epoch 4/80\n",
      "22/22 [==============================] - 0s 15ms/step - loss: 1.9293 - accuracy: 0.1946 - mean_squared_error: 0.1217 - val_loss: 1.9422 - val_accuracy: 0.1719 - val_mean_squared_error: 0.1223\n",
      "Epoch 5/80\n",
      "22/22 [==============================] - 0s 14ms/step - loss: 1.9289 - accuracy: 0.1074 - mean_squared_error: 0.1219 - val_loss: 1.9507 - val_accuracy: 0.0938 - val_mean_squared_error: 0.1227\n",
      "Epoch 6/80\n",
      "22/22 [==============================] - 0s 13ms/step - loss: 1.9311 - accuracy: 0.1745 - mean_squared_error: 0.1218 - val_loss: 1.9266 - val_accuracy: 0.1875 - val_mean_squared_error: 0.1216\n",
      "Epoch 7/80\n",
      "22/22 [==============================] - 0s 12ms/step - loss: 1.8879 - accuracy: 0.2685 - mean_squared_error: 0.1200 - val_loss: 1.9056 - val_accuracy: 0.1719 - val_mean_squared_error: 0.1208\n",
      "Epoch 8/80\n",
      "22/22 [==============================] - 0s 12ms/step - loss: 1.8183 - accuracy: 0.3020 - mean_squared_error: 0.1169 - val_loss: 1.8524 - val_accuracy: 0.2188 - val_mean_squared_error: 0.1185\n",
      "Epoch 9/80\n",
      "22/22 [==============================] - 0s 12ms/step - loss: 1.7319 - accuracy: 0.3691 - mean_squared_error: 0.1119 - val_loss: 1.7698 - val_accuracy: 0.3438 - val_mean_squared_error: 0.1138\n",
      "Epoch 10/80\n",
      "22/22 [==============================] - 0s 12ms/step - loss: 1.7068 - accuracy: 0.2886 - mean_squared_error: 0.1113 - val_loss: 1.7739 - val_accuracy: 0.2031 - val_mean_squared_error: 0.1151\n",
      "Epoch 11/80\n",
      "22/22 [==============================] - 0s 14ms/step - loss: 1.5504 - accuracy: 0.4564 - mean_squared_error: 0.1044 - val_loss: 1.6184 - val_accuracy: 0.4219 - val_mean_squared_error: 0.1087\n",
      "Epoch 12/80\n",
      "22/22 [==============================] - 0s 12ms/step - loss: 1.4040 - accuracy: 0.4564 - mean_squared_error: 0.0966 - val_loss: 1.6010 - val_accuracy: 0.3125 - val_mean_squared_error: 0.1084\n",
      "Epoch 13/80\n",
      "22/22 [==============================] - 0s 14ms/step - loss: 1.3466 - accuracy: 0.4631 - mean_squared_error: 0.0941 - val_loss: 1.5103 - val_accuracy: 0.4219 - val_mean_squared_error: 0.1041\n",
      "Epoch 14/80\n",
      "22/22 [==============================] - 0s 13ms/step - loss: 1.1830 - accuracy: 0.5570 - mean_squared_error: 0.0829 - val_loss: 1.4790 - val_accuracy: 0.3906 - val_mean_squared_error: 0.1025\n",
      "Epoch 15/80\n",
      "22/22 [==============================] - 0s 15ms/step - loss: 1.1897 - accuracy: 0.5436 - mean_squared_error: 0.0849 - val_loss: 1.4922 - val_accuracy: 0.3750 - val_mean_squared_error: 0.1051\n",
      "Epoch 16/80\n",
      "22/22 [==============================] - 0s 14ms/step - loss: 1.1061 - accuracy: 0.5973 - mean_squared_error: 0.0777 - val_loss: 1.4845 - val_accuracy: 0.3906 - val_mean_squared_error: 0.1055\n",
      "Epoch 17/80\n",
      "22/22 [==============================] - 0s 15ms/step - loss: 1.0773 - accuracy: 0.5839 - mean_squared_error: 0.0767 - val_loss: 1.3270 - val_accuracy: 0.4688 - val_mean_squared_error: 0.0959\n",
      "Epoch 18/80\n",
      "22/22 [==============================] - 0s 15ms/step - loss: 0.9392 - accuracy: 0.6443 - mean_squared_error: 0.0680 - val_loss: 1.3631 - val_accuracy: 0.4688 - val_mean_squared_error: 0.1011\n",
      "Epoch 19/80\n",
      "22/22 [==============================] - 0s 16ms/step - loss: 0.8760 - accuracy: 0.6510 - mean_squared_error: 0.0646 - val_loss: 1.1797 - val_accuracy: 0.5000 - val_mean_squared_error: 0.0874\n",
      "Epoch 20/80\n",
      "22/22 [==============================] - 0s 11ms/step - loss: 0.7677 - accuracy: 0.6980 - mean_squared_error: 0.0557 - val_loss: 1.3990 - val_accuracy: 0.4375 - val_mean_squared_error: 0.1036\n",
      "Epoch 21/80\n",
      "22/22 [==============================] - 0s 12ms/step - loss: 0.6895 - accuracy: 0.7718 - mean_squared_error: 0.0507 - val_loss: 1.1236 - val_accuracy: 0.5938 - val_mean_squared_error: 0.0828\n",
      "Epoch 22/80\n",
      "22/22 [==============================] - 0s 12ms/step - loss: 0.6559 - accuracy: 0.7181 - mean_squared_error: 0.0488 - val_loss: 1.0931 - val_accuracy: 0.5625 - val_mean_squared_error: 0.0812\n",
      "Epoch 23/80\n",
      "22/22 [==============================] - 0s 12ms/step - loss: 0.5934 - accuracy: 0.7987 - mean_squared_error: 0.0432 - val_loss: 1.1303 - val_accuracy: 0.5781 - val_mean_squared_error: 0.0835\n",
      "Epoch 24/80\n",
      "22/22 [==============================] - 0s 14ms/step - loss: 0.5634 - accuracy: 0.8188 - mean_squared_error: 0.0401 - val_loss: 1.1019 - val_accuracy: 0.5938 - val_mean_squared_error: 0.0776\n",
      "Epoch 25/80\n",
      "22/22 [==============================] - 0s 13ms/step - loss: 0.5928 - accuracy: 0.7919 - mean_squared_error: 0.0438 - val_loss: 0.9796 - val_accuracy: 0.6250 - val_mean_squared_error: 0.0692\n",
      "Epoch 26/80\n",
      "22/22 [==============================] - 0s 11ms/step - loss: 0.4397 - accuracy: 0.8725 - mean_squared_error: 0.0308 - val_loss: 0.9843 - val_accuracy: 0.6562 - val_mean_squared_error: 0.0740\n",
      "Epoch 27/80\n",
      "22/22 [==============================] - 0s 14ms/step - loss: 0.4114 - accuracy: 0.8725 - mean_squared_error: 0.0297 - val_loss: 0.9617 - val_accuracy: 0.6406 - val_mean_squared_error: 0.0714\n",
      "Epoch 28/80\n",
      "22/22 [==============================] - 0s 14ms/step - loss: 0.2914 - accuracy: 0.9060 - mean_squared_error: 0.0205 - val_loss: 0.9138 - val_accuracy: 0.6719 - val_mean_squared_error: 0.0686\n",
      "Epoch 29/80\n",
      "22/22 [==============================] - 0s 11ms/step - loss: 0.3818 - accuracy: 0.8591 - mean_squared_error: 0.0281 - val_loss: 0.8308 - val_accuracy: 0.6875 - val_mean_squared_error: 0.0604\n",
      "Epoch 30/80\n",
      "22/22 [==============================] - 0s 14ms/step - loss: 0.2638 - accuracy: 0.9195 - mean_squared_error: 0.0190 - val_loss: 1.0733 - val_accuracy: 0.6406 - val_mean_squared_error: 0.0715\n",
      "Epoch 31/80\n",
      "22/22 [==============================] - 0s 11ms/step - loss: 0.2288 - accuracy: 0.9329 - mean_squared_error: 0.0152 - val_loss: 1.0323 - val_accuracy: 0.6562 - val_mean_squared_error: 0.0698\n",
      "Epoch 32/80\n",
      "22/22 [==============================] - 0s 12ms/step - loss: 0.2257 - accuracy: 0.9128 - mean_squared_error: 0.0167 - val_loss: 0.8374 - val_accuracy: 0.6875 - val_mean_squared_error: 0.0624\n",
      "Epoch 33/80\n",
      "22/22 [==============================] - 0s 12ms/step - loss: 0.2027 - accuracy: 0.9262 - mean_squared_error: 0.0149 - val_loss: 0.9192 - val_accuracy: 0.7031 - val_mean_squared_error: 0.0652\n",
      "Epoch 34/80\n",
      "22/22 [==============================] - 0s 14ms/step - loss: 0.2031 - accuracy: 0.9396 - mean_squared_error: 0.0158 - val_loss: 0.7854 - val_accuracy: 0.7031 - val_mean_squared_error: 0.0565\n",
      "Epoch 35/80\n",
      "22/22 [==============================] - 0s 11ms/step - loss: 0.1654 - accuracy: 0.9530 - mean_squared_error: 0.0112 - val_loss: 0.9157 - val_accuracy: 0.7031 - val_mean_squared_error: 0.0591\n",
      "Epoch 36/80\n",
      "22/22 [==============================] - 0s 12ms/step - loss: 0.1986 - accuracy: 0.9329 - mean_squared_error: 0.0146 - val_loss: 0.7838 - val_accuracy: 0.7344 - val_mean_squared_error: 0.0577\n",
      "Epoch 37/80\n",
      "22/22 [==============================] - 0s 14ms/step - loss: 0.1671 - accuracy: 0.9463 - mean_squared_error: 0.0114 - val_loss: 0.8497 - val_accuracy: 0.6875 - val_mean_squared_error: 0.0637\n",
      "Epoch 38/80\n",
      "22/22 [==============================] - 0s 14ms/step - loss: 0.1923 - accuracy: 0.9329 - mean_squared_error: 0.0138 - val_loss: 0.8870 - val_accuracy: 0.7500 - val_mean_squared_error: 0.0575\n",
      "Epoch 39/80\n",
      "22/22 [==============================] - 0s 14ms/step - loss: 0.1099 - accuracy: 0.9664 - mean_squared_error: 0.0074 - val_loss: 0.9096 - val_accuracy: 0.7188 - val_mean_squared_error: 0.0624\n",
      "Epoch 40/80\n",
      "22/22 [==============================] - 0s 11ms/step - loss: 0.1443 - accuracy: 0.9664 - mean_squared_error: 0.0099 - val_loss: 0.9983 - val_accuracy: 0.6719 - val_mean_squared_error: 0.0678\n",
      "Epoch 41/80\n",
      "22/22 [==============================] - 0s 14ms/step - loss: 0.1840 - accuracy: 0.9195 - mean_squared_error: 0.0143 - val_loss: 0.8150 - val_accuracy: 0.7188 - val_mean_squared_error: 0.0596\n",
      "Epoch 42/80\n",
      "22/22 [==============================] - 0s 11ms/step - loss: 0.1292 - accuracy: 0.9664 - mean_squared_error: 0.0090 - val_loss: 0.8558 - val_accuracy: 0.7188 - val_mean_squared_error: 0.0608\n",
      "Epoch 43/80\n",
      "22/22 [==============================] - 0s 14ms/step - loss: 0.1473 - accuracy: 0.9463 - mean_squared_error: 0.0112 - val_loss: 0.8840 - val_accuracy: 0.6875 - val_mean_squared_error: 0.0637\n",
      "Epoch 44/80\n",
      "22/22 [==============================] - 0s 12ms/step - loss: 0.1424 - accuracy: 0.9664 - mean_squared_error: 0.0098 - val_loss: 0.8522 - val_accuracy: 0.7031 - val_mean_squared_error: 0.0584\n",
      "Epoch 45/80\n",
      "22/22 [==============================] - 0s 13ms/step - loss: 0.1208 - accuracy: 0.9597 - mean_squared_error: 0.0084 - val_loss: 0.8393 - val_accuracy: 0.7500 - val_mean_squared_error: 0.0568\n",
      "Epoch 46/80\n",
      "22/22 [==============================] - 0s 11ms/step - loss: 0.1143 - accuracy: 0.9597 - mean_squared_error: 0.0081 - val_loss: 0.7825 - val_accuracy: 0.7656 - val_mean_squared_error: 0.0537\n",
      "Epoch 47/80\n",
      "22/22 [==============================] - 0s 13ms/step - loss: 0.0749 - accuracy: 0.9799 - mean_squared_error: 0.0051 - val_loss: 0.8032 - val_accuracy: 0.7344 - val_mean_squared_error: 0.0520\n",
      "Epoch 48/80\n",
      "22/22 [==============================] - 0s 13ms/step - loss: 0.1045 - accuracy: 0.9463 - mean_squared_error: 0.0080 - val_loss: 0.8874 - val_accuracy: 0.7500 - val_mean_squared_error: 0.0567\n",
      "Epoch 49/80\n",
      "22/22 [==============================] - 0s 13ms/step - loss: 0.0466 - accuracy: 0.9933 - mean_squared_error: 0.0026 - val_loss: 0.8712 - val_accuracy: 0.7344 - val_mean_squared_error: 0.0568\n",
      "Epoch 50/80\n",
      "22/22 [==============================] - 0s 14ms/step - loss: 0.0554 - accuracy: 0.9866 - mean_squared_error: 0.0031 - val_loss: 0.9961 - val_accuracy: 0.7969 - val_mean_squared_error: 0.0549\n",
      "Epoch 51/80\n",
      "22/22 [==============================] - 0s 11ms/step - loss: 0.0238 - accuracy: 1.0000 - mean_squared_error: 0.0010 - val_loss: 1.0145 - val_accuracy: 0.7656 - val_mean_squared_error: 0.0562\n",
      "Epoch 52/80\n",
      "22/22 [==============================] - 0s 14ms/step - loss: 0.0204 - accuracy: 1.0000 - mean_squared_error: 6.1543e-04 - val_loss: 1.0274 - val_accuracy: 0.7656 - val_mean_squared_error: 0.0551\n",
      "Epoch 53/80\n",
      "22/22 [==============================] - 0s 11ms/step - loss: 0.0514 - accuracy: 0.9933 - mean_squared_error: 0.0031 - val_loss: 1.0441 - val_accuracy: 0.7188 - val_mean_squared_error: 0.0576\n",
      "Epoch 54/80\n",
      "22/22 [==============================] - 0s 14ms/step - loss: 0.0555 - accuracy: 0.9866 - mean_squared_error: 0.0036 - val_loss: 1.0664 - val_accuracy: 0.7188 - val_mean_squared_error: 0.0623\n",
      "Epoch 55/80\n",
      "22/22 [==============================] - 0s 12ms/step - loss: 0.0502 - accuracy: 0.9866 - mean_squared_error: 0.0032 - val_loss: 0.8906 - val_accuracy: 0.7656 - val_mean_squared_error: 0.0513\n",
      "Epoch 56/80\n",
      "22/22 [==============================] - 0s 12ms/step - loss: 0.0618 - accuracy: 0.9732 - mean_squared_error: 0.0048 - val_loss: 0.9639 - val_accuracy: 0.7344 - val_mean_squared_error: 0.0580\n",
      "Epoch 57/80\n",
      "22/22 [==============================] - 0s 12ms/step - loss: 0.0661 - accuracy: 0.9866 - mean_squared_error: 0.0045 - val_loss: 1.2782 - val_accuracy: 0.6875 - val_mean_squared_error: 0.0666\n",
      "Epoch 58/80\n",
      "22/22 [==============================] - 0s 13ms/step - loss: 0.0620 - accuracy: 0.9732 - mean_squared_error: 0.0048 - val_loss: 0.9792 - val_accuracy: 0.7344 - val_mean_squared_error: 0.0599\n",
      "Epoch 59/80\n",
      "22/22 [==============================] - 0s 12ms/step - loss: 0.0451 - accuracy: 1.0000 - mean_squared_error: 0.0022 - val_loss: 1.0498 - val_accuracy: 0.7500 - val_mean_squared_error: 0.0612\n",
      "Epoch 60/80\n",
      "22/22 [==============================] - 0s 13ms/step - loss: 0.0807 - accuracy: 0.9732 - mean_squared_error: 0.0057 - val_loss: 1.0753 - val_accuracy: 0.7188 - val_mean_squared_error: 0.0630\n",
      "Epoch 61/80\n",
      "22/22 [==============================] - 0s 11ms/step - loss: 0.1001 - accuracy: 0.9866 - mean_squared_error: 0.0071 - val_loss: 0.9309 - val_accuracy: 0.7031 - val_mean_squared_error: 0.0589\n",
      "Epoch 62/80\n",
      "22/22 [==============================] - 0s 12ms/step - loss: 0.0602 - accuracy: 0.9866 - mean_squared_error: 0.0041 - val_loss: 0.9123 - val_accuracy: 0.7031 - val_mean_squared_error: 0.0592\n",
      "Epoch 63/80\n",
      "22/22 [==============================] - 0s 12ms/step - loss: 0.0663 - accuracy: 0.9799 - mean_squared_error: 0.0046 - val_loss: 0.8023 - val_accuracy: 0.7812 - val_mean_squared_error: 0.0504\n",
      "Epoch 64/80\n",
      "22/22 [==============================] - 0s 12ms/step - loss: 0.0512 - accuracy: 0.9933 - mean_squared_error: 0.0025 - val_loss: 0.9156 - val_accuracy: 0.7344 - val_mean_squared_error: 0.0594\n",
      "Epoch 65/80\n",
      "22/22 [==============================] - 0s 12ms/step - loss: 0.0379 - accuracy: 0.9933 - mean_squared_error: 0.0022 - val_loss: 0.8772 - val_accuracy: 0.7812 - val_mean_squared_error: 0.0527\n",
      "Epoch 66/80\n",
      "22/22 [==============================] - 0s 14ms/step - loss: 0.0200 - accuracy: 1.0000 - mean_squared_error: 5.7741e-04 - val_loss: 0.9481 - val_accuracy: 0.7812 - val_mean_squared_error: 0.0533\n",
      "Epoch 67/80\n",
      "22/22 [==============================] - 0s 12ms/step - loss: 0.0106 - accuracy: 1.0000 - mean_squared_error: 1.7533e-04 - val_loss: 0.9907 - val_accuracy: 0.7812 - val_mean_squared_error: 0.0555\n",
      "Epoch 68/80\n",
      "22/22 [==============================] - 0s 12ms/step - loss: 0.0213 - accuracy: 1.0000 - mean_squared_error: 9.4354e-04 - val_loss: 0.9327 - val_accuracy: 0.7812 - val_mean_squared_error: 0.0536\n",
      "Epoch 69/80\n",
      "22/22 [==============================] - 0s 15ms/step - loss: 0.0332 - accuracy: 0.9799 - mean_squared_error: 0.0025 - val_loss: 0.8131 - val_accuracy: 0.8125 - val_mean_squared_error: 0.0473\n",
      "Epoch 70/80\n",
      "22/22 [==============================] - 0s 16ms/step - loss: 0.0176 - accuracy: 1.0000 - mean_squared_error: 8.1039e-04 - val_loss: 1.0794 - val_accuracy: 0.7812 - val_mean_squared_error: 0.0535\n",
      "Epoch 71/80\n",
      "22/22 [==============================] - 0s 16ms/step - loss: 0.0233 - accuracy: 0.9933 - mean_squared_error: 0.0013 - val_loss: 1.0783 - val_accuracy: 0.7812 - val_mean_squared_error: 0.0551\n",
      "Epoch 72/80\n",
      "22/22 [==============================] - 0s 12ms/step - loss: 0.0410 - accuracy: 0.9866 - mean_squared_error: 0.0030 - val_loss: 1.0107 - val_accuracy: 0.7969 - val_mean_squared_error: 0.0546\n",
      "Epoch 73/80\n",
      "22/22 [==============================] - 0s 12ms/step - loss: 0.0652 - accuracy: 0.9866 - mean_squared_error: 0.0040 - val_loss: 0.8894 - val_accuracy: 0.7344 - val_mean_squared_error: 0.0563\n",
      "Epoch 74/80\n",
      "22/22 [==============================] - 0s 12ms/step - loss: 0.0353 - accuracy: 1.0000 - mean_squared_error: 0.0021 - val_loss: 0.9271 - val_accuracy: 0.7344 - val_mean_squared_error: 0.0580\n",
      "Epoch 75/80\n",
      "22/22 [==============================] - 0s 12ms/step - loss: 0.0293 - accuracy: 0.9866 - mean_squared_error: 0.0021 - val_loss: 1.1180 - val_accuracy: 0.7656 - val_mean_squared_error: 0.0600\n",
      "Epoch 76/80\n",
      "22/22 [==============================] - 0s 11ms/step - loss: 0.0612 - accuracy: 0.9732 - mean_squared_error: 0.0050 - val_loss: 0.9888 - val_accuracy: 0.7812 - val_mean_squared_error: 0.0517\n",
      "Epoch 77/80\n",
      "22/22 [==============================] - 0s 12ms/step - loss: 0.0473 - accuracy: 0.9799 - mean_squared_error: 0.0033 - val_loss: 1.1683 - val_accuracy: 0.7500 - val_mean_squared_error: 0.0565\n",
      "Epoch 78/80\n",
      "22/22 [==============================] - 0s 16ms/step - loss: 0.0520 - accuracy: 0.9933 - mean_squared_error: 0.0037 - val_loss: 1.0053 - val_accuracy: 0.7656 - val_mean_squared_error: 0.0508\n",
      "Epoch 79/80\n",
      "22/22 [==============================] - 0s 14ms/step - loss: 0.0284 - accuracy: 0.9933 - mean_squared_error: 0.0016 - val_loss: 1.0803 - val_accuracy: 0.7812 - val_mean_squared_error: 0.0528\n",
      "Epoch 80/80\n",
      "22/22 [==============================] - 0s 14ms/step - loss: 0.0110 - accuracy: 1.0000 - mean_squared_error: 3.0796e-04 - val_loss: 1.1873 - val_accuracy: 0.7812 - val_mean_squared_error: 0.0526\n"
     ]
    }
   ],
   "source": [
    "model_info = model.fit(X_train, y_train, batch_size=7, epochs=80, validation_data=(X_test, y_test), callbacks=callbacks_list)"
   ]
  },
  {
   "cell_type": "code",
   "execution_count": 832,
   "metadata": {},
   "outputs": [],
   "source": [
    "model.save('my_model.hdf5')"
   ]
  },
  {
   "cell_type": "markdown",
   "metadata": {},
   "source": [
    "# predict model"
   ]
  },
  {
   "cell_type": "code",
   "execution_count": 150,
   "metadata": {},
   "outputs": [
    {
     "name": "stdout",
     "output_type": "stream",
     "text": [
      "5/5 [==============================] - 0s 8ms/step - loss: 0.0010 - accuracy: 1.0000 - mean_squared_error: 6.8263e-06\n",
      "Accuracy (train): 100.00\n",
      "2/2 [==============================] - 0s 7ms/step - loss: 1.1873 - accuracy: 0.7812 - mean_squared_error: 0.0526\n",
      "Accuracy (test): 78.12\n"
     ]
    }
   ],
   "source": [
    "# evaluate the model\n",
    "score = model.evaluate(X_train, y_train)\n",
    "print('Accuracy (train): %.2f' % (score[1]*100))\n",
    "\n",
    "score = model.evaluate(X_test, y_test)\n",
    "print('Accuracy (test): %.2f' % (score[1]*100))"
   ]
  },
  {
   "cell_type": "code",
   "execution_count": 151,
   "metadata": {},
   "outputs": [
    {
     "data": {
      "image/png": "[encoded data removed]",
      "text/plain": [
       "<Figure size 432x288 with 1 Axes>"
      ]
     },
     "metadata": {
      "needs_background": "light"
     },
     "output_type": "display_data"
    }
   ],
   "source": [
    "plt.plot(model_info.history['loss'], 'r', label='train')\n",
    "plt.plot(model_info.history['val_loss'], 'b', label='test')\n",
    "plt.title('model loss')\n",
    "plt.ylabel('loss')\n",
    "plt.xlabel('epoch')\n",
    "plt.legend()\n",
    "plt.show()"
   ]
  },
  {
   "cell_type": "code",
   "execution_count": 121,
   "metadata": {},
   "outputs": [
    {
     "data": {
      "image/png": "[encoded data removed]",
      "text/plain": [
       "<Figure size 432x288 with 1 Axes>"
      ]
     },
     "metadata": {
      "needs_background": "light"
     },
     "output_type": "display_data"
    }
   ],
   "source": [
    "plt.plot(model_info.history['accuracy'], 'r', label='train')\n",
    "plt.plot(model_info.history['val_accuracy'], 'b', label='test')\n",
    "plt.title('model accuracy')\n",
    "plt.ylabel('accuracy')\n",
    "plt.xlabel('epoch')\n",
    "plt.legend()\n",
    "plt.show()"
   ]
  },
  {
   "cell_type": "code",
   "execution_count": 158,
   "metadata": {},
   "outputs": [
    {
     "name": "stdout",
     "output_type": "stream",
     "text": [
      "(1, 48, 48, 1)\n",
      "[[3.1789169e-01 2.2301871e-04 4.9910180e-02 5.3439517e-02 1.0160844e-05\n",
      "  4.4453394e-01 1.3399154e-01]]\n",
      "[5]\n",
      "[[0. 0. 0. 0. 1. 0. 0.]]\n"
     ]
    },
    {
     "data": {
      "image/png": "[encoded data removed]",
      "text/plain": [
       "<Figure size 432x288 with 1 Axes>"
      ]
     },
     "metadata": {
      "needs_background": "light"
     },
     "output_type": "display_data"
    }
   ],
   "source": [
    "test_image = X_test[5:6]\n",
    "print (test_image.shape)\n",
    "\n",
    "print(model.predict(test_image))\n",
    "print(np.argmax(model.predict(test_image), axis=-1))\n",
    "print(y_test[33:34])\n",
    "\n",
    "plt.imshow(test_image[0],cmap=plt.get_cmap('gray'))\n",
    "plt.ylabel('prediction = %s' % getLabel(np.argmax(model.predict(test_image), axis=-1)[0]), fontsize=14)\n",
    "plt.xlabel('actual = %s' % getLabel(1 in y_test[33:34]), fontsize=14)\n",
    "\n",
    "plt.show()"
   ]
  },
  {
   "cell_type": "code",
   "execution_count": 155,
   "metadata": {},
   "outputs": [
    {
     "name": "stdout",
     "output_type": "stream",
     "text": [
      "(1, 48, 48, 1)\n",
      "[[1.9234123e-18 2.7056869e-26 6.0990000e-22 1.4475825e-17 1.4602935e-26\n",
      "  5.4330467e-17 1.0000000e+00]]\n",
      "[6]\n",
      "[[0. 0. 0. 0. 1. 0. 0.]]\n"
     ]
    },
    {
     "data": {
      "image/png": "[encoded data removed]",
      "text/plain": [
       "<Figure size 432x288 with 1 Axes>"
      ]
     },
     "metadata": {
      "needs_background": "light"
     },
     "output_type": "display_data"
    }
   ],
   "source": [
    "test_image = X_test[2:3]\n",
    "print (test_image.shape)\n",
    "\n",
    "print(model.predict(test_image))\n",
    "print(np.argmax(model.predict(test_image), axis=-1))\n",
    "print(y_test[33:34])\n",
    "\n",
    "plt.imshow(test_image[0],cmap=plt.get_cmap('gray'))\n",
    "plt.ylabel('prediction = %s' % getLabel(np.argmax(model.predict(test_image), axis=-1)[0]), fontsize=14)\n",
    "plt.xlabel('actual = %s' % getLabel(1 in y_test[33:34]), fontsize=14)\n",
    "\n",
    "plt.show()"
   ]
  },
  {
   "cell_type": "code",
   "execution_count": 157,
   "metadata": {},
   "outputs": [
    {
     "name": "stdout",
     "output_type": "stream",
     "text": [
      "(1, 48, 48, 1)\n",
      "[[3.5840484e-01 1.4368009e-06 1.1701441e-01 2.5785744e-02 4.0876034e-06\n",
      "  9.0854301e-04 4.9788091e-01]]\n",
      "[6]\n",
      "[[0. 0. 0. 0. 1. 0. 0.]]\n"
     ]
    },
    {
     "data": {
      "image/png": "[encoded data removed]",
      "text/plain": [
       "<Figure size 432x288 with 1 Axes>"
      ]
     },
     "metadata": {
      "needs_background": "light"
     },
     "output_type": "display_data"
    }
   ],
   "source": [
    "test_image = X_test[0:1]\n",
    "print (test_image.shape)\n",
    "\n",
    "print(model.predict(test_image))\n",
    "print(np.argmax(model.predict(test_image), axis=-1))\n",
    "print(y_test[33:34])\n",
    "\n",
    "plt.imshow(test_image[0],cmap=plt.get_cmap('gray'))\n",
    "plt.ylabel('prediction = %s' % getLabel(np.argmax(model.predict(test_image), axis=-1)[0]), fontsize=14)\n",
    "plt.xlabel('actual = %s' % getLabel(1 in y_test[33:34]), fontsize=14)\n",
    "\n",
    "plt.show()"
   ]
  }
 ],
 "metadata": {
  "interpreter": {
   "hash": "ac59ebe37160ed0dfa835113d9b8498d9f09ceb179beaac4002f036b9467c963"
  },
  "kernelspec": {
   "display_name": "Python 3.9.7 64-bit",
   "name": "python3"
  },
  "language_info": {
   "codemirror_mode": {
    "name": "ipython",
    "version": 3
   },
   "file_extension": ".py",
   "mimetype": "text/x-python",
   "name": "python",
   "nbconvert_exporter": "python",
   "pygments_lexer": "ipython3",
   "version": "3.9.7"
  }
 },
 "nbformat": 4,
 "nbformat_minor": 2
}
