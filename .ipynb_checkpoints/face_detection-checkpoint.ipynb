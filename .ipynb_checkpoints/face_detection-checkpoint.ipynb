{
 "cells": [
  {
   "cell_type": "code",
   "execution_count": 1,
   "id": "agricultural-jewel",
   "metadata": {
    "execution": {
     "iopub.execute_input": "2021-05-22T06:53:37.492662Z",
     "iopub.status.busy": "2021-05-22T06:53:37.492352Z",
     "iopub.status.idle": "2021-05-22T06:54:26.752212Z",
     "shell.execute_reply": "2021-05-22T06:54:26.751372Z",
     "shell.execute_reply.started": "2021-05-22T06:53:37.492577Z"
    }
   },
   "outputs": [
    {
     "name": "stdout",
     "output_type": "stream",
     "text": [
      "Collecting face_detection\n",
      "  Downloading face_detection-0.2.2.tar.gz (20 kB)\n",
      "Collecting torch>=1.6\n",
      "  Downloading torch-1.8.1-cp37-cp37m-manylinux1_x86_64.whl (804.1 MB)\n",
      "\u001b[K     |████████████████████████████████| 804.1 MB 1.9 kB/s  eta 0:00:011    |████                            | 100.1 MB 12.9 MB/s eta 0:00:55     |█████                           | 123.8 MB 12.9 MB/s eta 0:00:53     |█████▏                          | 128.8 MB 40.0 MB/s eta 0:00:17     |████████▌                       | 214.9 MB 8.5 MB/s eta 0:01:10     |█████████▉                      | 247.4 MB 106.2 MB/s eta 0:00:06     |██████████                      | 249.7 MB 106.2 MB/s eta 0:00:06     |█████████████▍                  | 335.8 MB 78.2 MB/s eta 0:00:06     |███████████████▋                | 392.5 MB 9.7 MB/s eta 0:00:43     |████████████████▍               | 412.8 MB 10.7 MB/s eta 0:00:37     |████████████████████▋           | 517.1 MB 98.8 MB/s eta 0:00:03     |█████████████████████▌          | 540.0 MB 11.9 MB/s eta 0:00:23     |███████████████████████▏        | 582.7 MB 42.7 MB/s eta 0:00:06     |███████████████████████▍        | 588.7 MB 42.7 MB/s eta 0:00:06\n",
      "\u001b[?25hCollecting torchvision>=0.3.0\n",
      "  Downloading torchvision-0.9.1-cp37-cp37m-manylinux1_x86_64.whl (17.4 MB)\n",
      "\u001b[K     |████████████████████████████████| 17.4 MB 60.8 MB/s eta 0:00:01\n",
      "\u001b[?25hRequirement already satisfied: numpy in /opt/conda/envs/saturn/lib/python3.7/site-packages (from face_detection) (1.20.1)\n",
      "Requirement already satisfied: typing-extensions in /opt/conda/envs/saturn/lib/python3.7/site-packages (from torch>=1.6->face_detection) (3.7.4.3)\n",
      "Requirement already satisfied: pillow>=4.1.1 in /opt/conda/envs/saturn/lib/python3.7/site-packages (from torchvision>=0.3.0->face_detection) (8.1.0)\n",
      "Building wheels for collected packages: face-detection\n",
      "  Building wheel for face-detection (setup.py) ... \u001b[?25ldone\n",
      "\u001b[?25h  Created wheel for face-detection: filename=face_detection-0.2.2-py3-none-any.whl size=25573 sha256=5819063f80617c81080330181b41a1048c57769cd1dc5051bca71791c00dd436\n",
      "  Stored in directory: /home/jovyan/.cache/pip/wheels/dd/2d/84/c7a9ce1760b00f8b1d431c9564b108acfb98f588c18d4a1a9c\n",
      "Successfully built face-detection\n",
      "Installing collected packages: torch, torchvision, face-detection\n",
      "Successfully installed face-detection-0.2.2 torch-1.8.1 torchvision-0.9.1\n",
      "Note: you may need to restart the kernel to use updated packages.\n"
     ]
    }
   ],
   "source": [
    "pip install face_detection"
   ]
  },
  {
   "cell_type": "code",
   "execution_count": 2,
   "id": "close-blues",
   "metadata": {
    "execution": {
     "iopub.execute_input": "2021-05-22T06:55:42.969297Z",
     "iopub.status.busy": "2021-05-22T06:55:42.969038Z",
     "iopub.status.idle": "2021-05-22T06:55:43.568333Z",
     "shell.execute_reply": "2021-05-22T06:55:43.567674Z",
     "shell.execute_reply.started": "2021-05-22T06:55:42.969264Z"
    }
   },
   "outputs": [],
   "source": [
    "import face_detection"
   ]
  },
  {
   "cell_type": "code",
   "execution_count": null,
   "id": "canadian-timer",
   "metadata": {},
   "outputs": [],
   "source": []
  }
 ],
 "metadata": {
  "kernelspec": {
   "display_name": "saturn (Python 3)",
   "language": "python",
   "name": "python3"
  },
  "language_info": {
   "codemirror_mode": {
    "name": "ipython",
    "version": 3
   },
   "file_extension": ".py",
   "mimetype": "text/x-python",
   "name": "python",
   "nbconvert_exporter": "python",
   "pygments_lexer": "ipython3",
   "version": "3.7.10"
  }
 },
 "nbformat": 4,
 "nbformat_minor": 5
}
