{
 "cells": [
  {
   "cell_type": "code",
   "execution_count": 1,
   "metadata": {},
   "outputs": [],
   "source": [
    "import numpy as np \r\n",
    "import pandas as pd\r\n",
    "import os,cv2\r\n",
    "import numpy as np\r\n",
    "import matplotlib.pyplot as plt\r\n",
    "import matplotlib.image as mpimg\r\n",
    "\r\n",
    "from sklearn.utils import shuffle\r\n",
    "from sklearn.model_selection import train_test_split\r\n",
    "\r\n",
    "import tensorflow as tf\r\n",
    "import keras\r\n",
    "from keras_visualizer import visualizer\r\n",
    "from keras import callbacks\r\n",
    "from keras.utils import np_utils\r\n",
    "from keras.models import Sequential\r\n",
    "from keras.layers import Dense , Activation , Dropout ,Flatten\r\n",
    "from keras.layers.convolutional import Conv2D\r\n",
    "from keras.layers.convolutional import MaxPooling2D\r\n",
    "from keras.metrics import categorical_accuracy\r\n",
    "from keras.models import model_from_json\r\n",
    "from keras.callbacks import ModelCheckpoint\r\n",
    "from keras.optimizers import *\r\n",
    "from keras.layers.normalization import BatchNormalization\r\n",
    "import os"
   ]
  },
  {
   "cell_type": "markdown",
   "metadata": {},
   "source": [
    "# load data"
   ]
  },
  {
   "cell_type": "code",
   "execution_count": 2,
   "metadata": {},
   "outputs": [
    {
     "name": "stdout",
     "output_type": "stream",
     "text": [
      "Loaded the images of dataset-anger\n",
      "\n",
      "Loaded the images of dataset-contempt\n",
      "\n",
      "Loaded the images of dataset-disgust\n",
      "\n",
      "Loaded the images of dataset-fear\n",
      "\n",
      "Loaded the images of dataset-happy\n",
      "\n",
      "Loaded the images of dataset-sadness\n",
      "\n",
      "Loaded the images of dataset-surprise\n",
      "\n"
     ]
    },
    {
     "data": {
      "text/plain": "(327, 48, 48, 3)"
     },
     "execution_count": 2,
     "metadata": {},
     "output_type": "execute_result"
    }
   ],
   "source": [
    "data_path = 'dataset/CK+48'\r\n",
    "data_dir_list = os.listdir(data_path)\r\n",
    "\r\n",
    "img_data_list=[]\r\n",
    "\r\n",
    "for dataset in data_dir_list:\r\n",
    "    img_list=os.listdir(data_path+'/'+ dataset)\r\n",
    "    print ('Loaded the images of dataset-'+'{}\\n'.format(dataset))\r\n",
    "    for img in img_list:\r\n",
    "        input_img=cv2.imread(data_path + '/'+ dataset + '/'+ img )\r\n",
    "        #input_img=cv2.cvtColor(input_img, cv2.COLOR_BGR2GRAY)\r\n",
    "        input_img_resize=cv2.resize(input_img,(48,48))\r\n",
    "        img_data_list.append(input_img_resize)\r\n",
    "        \r\n",
    "img_data = np.array(img_data_list)\r\n",
    "img_data = img_data.astype('float32')\r\n",
    "img_data = img_data/255\r\n",
    "img_data.shape"
   ]
  },
  {
   "cell_type": "markdown",
   "metadata": {},
   "source": [
    "# adding labels"
   ]
  },
  {
   "cell_type": "code",
   "execution_count": 3,
   "metadata": {},
   "outputs": [],
   "source": [
    "num_classes = 7\r\n",
    "\r\n",
    "num_of_samples = img_data.shape[0]\r\n",
    "labels = np.ones((num_of_samples,),dtype='int64')\r\n",
    "\r\n",
    "labels[0:45]=0      #45\r\n",
    "labels[46:63]=1     #18\r\n",
    "labels[64:122]=2    #59\r\n",
    "labels[123:147]=3   #25\r\n",
    "labels[148:216]=4   #69\r\n",
    "labels[217:244]=5   #28\r\n",
    "labels[245:327]=6   #83\r\n",
    "\r\n",
    "names = ['anger','contempt','disgust','fear','happy','sadness','surprise']\r\n",
    "\r\n",
    "def getLabel(id):\r\n",
    "    return ['anger','contempt','disgust','fear','happy','sadness','surprise'][id]"
   ]
  },
  {
   "cell_type": "markdown",
   "metadata": {},
   "source": [
    "# dividing into training and testing"
   ]
  },
  {
   "cell_type": "code",
   "execution_count": 4,
   "metadata": {},
   "outputs": [
    {
     "name": "stdout",
     "output_type": "stream",
     "text": [
      "(327, 7)\n",
      "(228, 48, 48, 3)\n",
      "(99, 48, 48, 3)\n"
     ]
    }
   ],
   "source": [
    "Y = np_utils.to_categorical(labels, num_classes)\r\n",
    "\r\n",
    "# x,y = shuffle(img_data,Y, random_state=2)\r\n",
    "\r\n",
    "X_train, X_test, y_train, y_test = train_test_split(img_data, Y, test_size=0.30, shuffle=True, random_state=42)\r\n",
    "# x_test = X_test\r\n",
    "\r\n",
    "print(Y.shape)\r\n",
    "print(X_train.shape)\r\n",
    "print(X_test.shape)"
   ]
  },
  {
   "cell_type": "markdown",
   "metadata": {},
   "source": [
    "# creating model"
   ]
  },
  {
   "cell_type": "code",
   "execution_count": 38,
   "metadata": {},
   "outputs": [
    {
     "name": "stdout",
     "output_type": "stream",
     "text": [
      "Model: \"sequential_5\"\n",
      "_________________________________________________________________\n",
      "Layer (type)                 Output Shape              Param #   \n",
      "=================================================================\n",
      "conv2d_13 (Conv2D)           (None, 44, 44, 6)         456       \n",
      "_________________________________________________________________\n",
      "activation_5 (Activation)    (None, 44, 44, 6)         0         \n",
      "_________________________________________________________________\n",
      "max_pooling2d_13 (MaxPooling (None, 22, 22, 6)         0         \n",
      "_________________________________________________________________\n",
      "conv2d_14 (Conv2D)           (None, 20, 20, 64)        3520      \n",
      "_________________________________________________________________\n",
      "max_pooling2d_14 (MaxPooling (None, 10, 10, 64)        0         \n",
      "_________________________________________________________________\n",
      "flatten_5 (Flatten)          (None, 6400)              0         \n",
      "_________________________________________________________________\n",
      "dense_10 (Dense)             (None, 128)               819328    \n",
      "_________________________________________________________________\n",
      "dropout_2 (Dropout)          (None, 128)               0         \n",
      "_________________________________________________________________\n",
      "dense_11 (Dense)             (None, 7)                 903       \n",
      "=================================================================\n",
      "Total params: 824,207\n",
      "Trainable params: 824,207\n",
      "Non-trainable params: 0\n",
      "_________________________________________________________________\n"
     ]
    }
   ],
   "source": [
    "input_shape=(48,48,3)\r\n",
    "\r\n",
    "model = Sequential()\r\n",
    "\r\n",
    "model.add(Conv2D(6, (5, 5), input_shape=input_shape,activation = 'relu'))\r\n",
    "# model.add(MaxPooling2D(pool_size=(2, 2)))\r\n",
    "# model.add(Conv2D(16, (5, 5), padding='same', activation = 'relu'))\r\n",
    "model.add(Activation('relu'))\r\n",
    "model.add(MaxPooling2D(pool_size=(2, 2)))\r\n",
    "model.add(Conv2D(64, (3, 3), activation = 'relu'))\r\n",
    "model.add(MaxPooling2D(pool_size=(2, 2)))\r\n",
    "model.add(Flatten())\r\n",
    "model.add(Dense(128, activation = 'relu'))\r\n",
    "model.add(Dropout(0.7))\r\n",
    "model.add(Dense(7, activation = 'softmax'))\r\n",
    "\r\n",
    "model.summary()\r\n",
    "\r\n",
    "visualizer(model, format='png')\r\n",
    "\r\n",
    "# model.compile(loss='categorical_crossentropy', metrics=['accuracy'], optimizer='adam')\r\n",
    "# model = Sequential()\r\n",
    "# model.add(Conv2D(32, (3, 3), input_shape=(48,48,3), activation = 'relu'))\r\n",
    "# model.add(Conv2D(32, kernel_size=(3, 3), activation='relu'),input_shape=(48,48,1))\r\n",
    "# model.add(Conv2D(64, kernel_size=(3, 3), activation='relu'))\r\n",
    "# model.add(MaxPooling2D(pool_size=(2, 2)))\r\n",
    "# model.add(Conv2D(128, kernel_size=(3, 3), activation='relu'))\r\n",
    "# model.add(MaxPooling2D(pool_size=(2, 2)))\r\n",
    "# model.add(Conv2D(128, kernel_size=(3, 3), activation='relu'))\r\n",
    "# model.add(MaxPooling2D(pool_size=(2, 2)))\r\n",
    "# model.add(Conv2D(7, kernel_size=(1, 1), activation='relu'))\r\n",
    "# model.add(Conv2D(7, kernel_size=(4, 4), activation='relu'))\r\n",
    "# model.add(Flatten())\r\n",
    "# model.add(Activation(\"softmax\"))"
   ]
  },
  {
   "cell_type": "markdown",
   "metadata": {},
   "source": [
    "# training the model"
   ]
  },
  {
   "cell_type": "code",
   "execution_count": 40,
   "metadata": {},
   "outputs": [],
   "source": [
    "filename='model_train_new.csv'\r\n",
    "filepath = os.path.join(\"./emotion_detector_models/model_v6_{epoch}.hdf5\")\r\n",
    "\r\n",
    "checkpoint = keras.callbacks.ModelCheckpoint(filepath,\r\n",
    "                                             monitor='val_acc',\r\n",
    "                                             verbose=1,\r\n",
    "                                             save_best_only=True,\r\n",
    "                                             mode='max')\r\n",
    "# callbacks = [checkpoint]\r\n",
    "\r\n",
    "\r\n",
    "csv_log=callbacks.CSVLogger(filename, separator=',', append=False)\r\n",
    "# checkpoint = callbacks.ModelCheckpoint(filepath, monitor='val_loss', verbose=1, save_best_only=True, mode='min')\r\n",
    "callbacks_list = [csv_log,checkpoint]\r\n",
    "callbacks_list = [csv_log]"
   ]
  },
  {
   "cell_type": "code",
   "execution_count": 41,
   "metadata": {},
   "outputs": [],
   "source": [
    "model.compile(loss='categorical_crossentropy', optimizer='adam', metrics=['accuracy', 'MeanSquaredError'])"
   ]
  },
  {
   "cell_type": "code",
   "execution_count": 42,
   "metadata": {},
   "outputs": [
    {
     "name": "stdout",
     "output_type": "stream",
     "text": [
      "Epoch 1/50\n",
      "33/33 [==============================] - 2s 26ms/step - loss: 2.3201 - accuracy: 0.1315 - mean_squared_error: 0.1385 - val_loss: 1.8789 - val_accuracy: 0.2323 - val_mean_squared_error: 0.1196\n",
      "Epoch 2/50\n",
      "33/33 [==============================] - 0s 15ms/step - loss: 1.8467 - accuracy: 0.2599 - mean_squared_error: 0.1182 - val_loss: 1.8034 - val_accuracy: 0.3434 - val_mean_squared_error: 0.1159\n",
      "Epoch 3/50\n",
      "33/33 [==============================] - 0s 15ms/step - loss: 1.7544 - accuracy: 0.3594 - mean_squared_error: 0.1126 - val_loss: 1.6409 - val_accuracy: 0.4040 - val_mean_squared_error: 0.1042\n",
      "Epoch 4/50\n",
      "33/33 [==============================] - 0s 13ms/step - loss: 1.6533 - accuracy: 0.4092 - mean_squared_error: 0.1047 - val_loss: 1.4606 - val_accuracy: 0.5455 - val_mean_squared_error: 0.0915\n",
      "Epoch 5/50\n",
      "33/33 [==============================] - 0s 14ms/step - loss: 1.5104 - accuracy: 0.4671 - mean_squared_error: 0.0959 - val_loss: 1.2573 - val_accuracy: 0.5960 - val_mean_squared_error: 0.0802\n",
      "Epoch 6/50\n",
      "33/33 [==============================] - 0s 14ms/step - loss: 1.2789 - accuracy: 0.5524 - mean_squared_error: 0.0818 - val_loss: 1.1689 - val_accuracy: 0.5556 - val_mean_squared_error: 0.0753\n",
      "Epoch 7/50\n",
      "33/33 [==============================] - 0s 12ms/step - loss: 1.2250 - accuracy: 0.5887 - mean_squared_error: 0.0775 - val_loss: 1.1029 - val_accuracy: 0.6061 - val_mean_squared_error: 0.0716\n",
      "Epoch 8/50\n",
      "33/33 [==============================] - 0s 13ms/step - loss: 1.0075 - accuracy: 0.6029 - mean_squared_error: 0.0663 - val_loss: 0.9745 - val_accuracy: 0.6970 - val_mean_squared_error: 0.0634\n",
      "Epoch 9/50\n",
      "33/33 [==============================] - 0s 12ms/step - loss: 0.9507 - accuracy: 0.6440 - mean_squared_error: 0.0630 - val_loss: 1.0011 - val_accuracy: 0.6667 - val_mean_squared_error: 0.0657\n",
      "Epoch 10/50\n",
      "33/33 [==============================] - 1s 16ms/step - loss: 0.9400 - accuracy: 0.6702 - mean_squared_error: 0.0636 - val_loss: 0.8497 - val_accuracy: 0.7172 - val_mean_squared_error: 0.0558\n",
      "Epoch 11/50\n",
      "33/33 [==============================] - 0s 14ms/step - loss: 1.0611 - accuracy: 0.5800 - mean_squared_error: 0.0720 - val_loss: 0.8678 - val_accuracy: 0.6970 - val_mean_squared_error: 0.0569\n",
      "Epoch 12/50\n",
      "33/33 [==============================] - 0s 13ms/step - loss: 0.9217 - accuracy: 0.6331 - mean_squared_error: 0.0601 - val_loss: 0.8460 - val_accuracy: 0.7576 - val_mean_squared_error: 0.0547\n",
      "Epoch 13/50\n",
      "33/33 [==============================] - 0s 12ms/step - loss: 0.9070 - accuracy: 0.6154 - mean_squared_error: 0.0619 - val_loss: 0.7925 - val_accuracy: 0.7576 - val_mean_squared_error: 0.0518\n",
      "Epoch 14/50\n",
      "33/33 [==============================] - 0s 12ms/step - loss: 0.8346 - accuracy: 0.6836 - mean_squared_error: 0.0576 - val_loss: 0.7535 - val_accuracy: 0.7778 - val_mean_squared_error: 0.0501\n",
      "Epoch 15/50\n",
      "33/33 [==============================] - 0s 12ms/step - loss: 0.9049 - accuracy: 0.6220 - mean_squared_error: 0.0643 - val_loss: 0.8582 - val_accuracy: 0.7374 - val_mean_squared_error: 0.0518\n",
      "Epoch 16/50\n",
      "33/33 [==============================] - 0s 13ms/step - loss: 0.8250 - accuracy: 0.6854 - mean_squared_error: 0.0588 - val_loss: 0.7399 - val_accuracy: 0.7677 - val_mean_squared_error: 0.0496\n",
      "Epoch 17/50\n",
      "33/33 [==============================] - 0s 14ms/step - loss: 0.7742 - accuracy: 0.6733 - mean_squared_error: 0.0564 - val_loss: 0.7095 - val_accuracy: 0.8081 - val_mean_squared_error: 0.0448\n",
      "Epoch 18/50\n",
      "33/33 [==============================] - 0s 14ms/step - loss: 0.6623 - accuracy: 0.6819 - mean_squared_error: 0.0505 - val_loss: 0.7074 - val_accuracy: 0.7980 - val_mean_squared_error: 0.0461\n",
      "Epoch 19/50\n",
      "33/33 [==============================] - 0s 15ms/step - loss: 0.8161 - accuracy: 0.6571 - mean_squared_error: 0.0588 - val_loss: 0.6582 - val_accuracy: 0.8081 - val_mean_squared_error: 0.0439\n",
      "Epoch 20/50\n",
      "33/33 [==============================] - 0s 14ms/step - loss: 0.6556 - accuracy: 0.7553 - mean_squared_error: 0.0448 - val_loss: 0.7358 - val_accuracy: 0.7677 - val_mean_squared_error: 0.0469\n",
      "Epoch 21/50\n",
      "33/33 [==============================] - 0s 14ms/step - loss: 0.7055 - accuracy: 0.7112 - mean_squared_error: 0.0492 - val_loss: 0.6998 - val_accuracy: 0.7778 - val_mean_squared_error: 0.0449\n",
      "Epoch 22/50\n",
      "33/33 [==============================] - 0s 13ms/step - loss: 0.6141 - accuracy: 0.7463 - mean_squared_error: 0.0440 - val_loss: 0.6582 - val_accuracy: 0.8182 - val_mean_squared_error: 0.0422\n",
      "Epoch 23/50\n",
      "33/33 [==============================] - 0s 15ms/step - loss: 0.6432 - accuracy: 0.7107 - mean_squared_error: 0.0476 - val_loss: 0.6717 - val_accuracy: 0.7778 - val_mean_squared_error: 0.0444\n",
      "Epoch 24/50\n",
      "33/33 [==============================] - 0s 13ms/step - loss: 0.7247 - accuracy: 0.6638 - mean_squared_error: 0.0528 - val_loss: 0.6327 - val_accuracy: 0.8081 - val_mean_squared_error: 0.0412\n",
      "Epoch 25/50\n",
      "33/33 [==============================] - 0s 13ms/step - loss: 0.5636 - accuracy: 0.7775 - mean_squared_error: 0.0386 - val_loss: 0.7495 - val_accuracy: 0.7677 - val_mean_squared_error: 0.0458\n",
      "Epoch 26/50\n",
      "33/33 [==============================] - 0s 14ms/step - loss: 0.7186 - accuracy: 0.6878 - mean_squared_error: 0.0534 - val_loss: 0.6439 - val_accuracy: 0.7879 - val_mean_squared_error: 0.0414\n",
      "Epoch 27/50\n",
      "33/33 [==============================] - 0s 13ms/step - loss: 0.5997 - accuracy: 0.7962 - mean_squared_error: 0.0436 - val_loss: 0.6382 - val_accuracy: 0.8182 - val_mean_squared_error: 0.0413\n",
      "Epoch 28/50\n",
      "33/33 [==============================] - 0s 15ms/step - loss: 0.4782 - accuracy: 0.7737 - mean_squared_error: 0.0358 - val_loss: 0.6456 - val_accuracy: 0.7980 - val_mean_squared_error: 0.0393\n",
      "Epoch 29/50\n",
      "33/33 [==============================] - 0s 13ms/step - loss: 0.5380 - accuracy: 0.7718 - mean_squared_error: 0.0402 - val_loss: 0.6836 - val_accuracy: 0.7879 - val_mean_squared_error: 0.0418\n",
      "Epoch 30/50\n",
      "33/33 [==============================] - 0s 13ms/step - loss: 0.4172 - accuracy: 0.7969 - mean_squared_error: 0.0324 - val_loss: 0.5944 - val_accuracy: 0.8182 - val_mean_squared_error: 0.0397\n",
      "Epoch 31/50\n",
      "33/33 [==============================] - 0s 13ms/step - loss: 0.5366 - accuracy: 0.7540 - mean_squared_error: 0.0405 - val_loss: 0.6642 - val_accuracy: 0.8081 - val_mean_squared_error: 0.0406\n",
      "Epoch 32/50\n",
      "33/33 [==============================] - 0s 13ms/step - loss: 0.5165 - accuracy: 0.7670 - mean_squared_error: 0.0370 - val_loss: 0.6943 - val_accuracy: 0.7778 - val_mean_squared_error: 0.0442\n",
      "Epoch 33/50\n",
      "33/33 [==============================] - 0s 13ms/step - loss: 0.4978 - accuracy: 0.7763 - mean_squared_error: 0.0379 - val_loss: 0.6595 - val_accuracy: 0.8384 - val_mean_squared_error: 0.0409\n",
      "Epoch 34/50\n",
      "33/33 [==============================] - 0s 12ms/step - loss: 0.4892 - accuracy: 0.7932 - mean_squared_error: 0.0359 - val_loss: 0.6427 - val_accuracy: 0.8384 - val_mean_squared_error: 0.0414\n",
      "Epoch 35/50\n",
      "33/33 [==============================] - 0s 14ms/step - loss: 0.4584 - accuracy: 0.7969 - mean_squared_error: 0.0345 - val_loss: 0.7143 - val_accuracy: 0.7980 - val_mean_squared_error: 0.0406\n",
      "Epoch 36/50\n",
      "33/33 [==============================] - 0s 14ms/step - loss: 0.4674 - accuracy: 0.8192 - mean_squared_error: 0.0341 - val_loss: 0.6793 - val_accuracy: 0.8081 - val_mean_squared_error: 0.0402\n",
      "Epoch 37/50\n",
      "33/33 [==============================] - 0s 13ms/step - loss: 0.4582 - accuracy: 0.7872 - mean_squared_error: 0.0365 - val_loss: 0.6944 - val_accuracy: 0.7980 - val_mean_squared_error: 0.0399\n",
      "Epoch 38/50\n",
      "33/33 [==============================] - 0s 14ms/step - loss: 0.5130 - accuracy: 0.7590 - mean_squared_error: 0.0408 - val_loss: 0.7238 - val_accuracy: 0.8182 - val_mean_squared_error: 0.0415\n",
      "Epoch 39/50\n",
      "33/33 [==============================] - 0s 14ms/step - loss: 0.4093 - accuracy: 0.8036 - mean_squared_error: 0.0330 - val_loss: 0.7846 - val_accuracy: 0.7879 - val_mean_squared_error: 0.0446\n",
      "Epoch 40/50\n",
      "33/33 [==============================] - 0s 15ms/step - loss: 0.4328 - accuracy: 0.8121 - mean_squared_error: 0.0330 - val_loss: 0.6725 - val_accuracy: 0.8182 - val_mean_squared_error: 0.0397\n",
      "Epoch 41/50\n",
      "33/33 [==============================] - 0s 13ms/step - loss: 0.4899 - accuracy: 0.7940 - mean_squared_error: 0.0362 - val_loss: 0.6612 - val_accuracy: 0.8182 - val_mean_squared_error: 0.0373\n",
      "Epoch 42/50\n",
      "33/33 [==============================] - 0s 14ms/step - loss: 0.3757 - accuracy: 0.8331 - mean_squared_error: 0.0280 - val_loss: 0.6562 - val_accuracy: 0.8081 - val_mean_squared_error: 0.0377\n",
      "Epoch 43/50\n",
      "33/33 [==============================] - 0s 13ms/step - loss: 0.4516 - accuracy: 0.7993 - mean_squared_error: 0.0327 - val_loss: 0.6893 - val_accuracy: 0.8586 - val_mean_squared_error: 0.0365\n",
      "Epoch 44/50\n",
      "33/33 [==============================] - 0s 14ms/step - loss: 0.4051 - accuracy: 0.8370 - mean_squared_error: 0.0292 - val_loss: 0.7597 - val_accuracy: 0.8081 - val_mean_squared_error: 0.0414\n",
      "Epoch 45/50\n",
      "33/33 [==============================] - 0s 13ms/step - loss: 0.3745 - accuracy: 0.8170 - mean_squared_error: 0.0283 - val_loss: 0.6653 - val_accuracy: 0.8182 - val_mean_squared_error: 0.0389\n",
      "Epoch 46/50\n",
      "33/33 [==============================] - 0s 13ms/step - loss: 0.4715 - accuracy: 0.7860 - mean_squared_error: 0.0352 - val_loss: 0.7829 - val_accuracy: 0.7879 - val_mean_squared_error: 0.0446\n",
      "Epoch 47/50\n",
      "33/33 [==============================] - 0s 14ms/step - loss: 0.4517 - accuracy: 0.7836 - mean_squared_error: 0.0355 - val_loss: 0.7715 - val_accuracy: 0.7980 - val_mean_squared_error: 0.0420\n",
      "Epoch 48/50\n",
      "33/33 [==============================] - 0s 12ms/step - loss: 0.4109 - accuracy: 0.8128 - mean_squared_error: 0.0327 - val_loss: 0.7666 - val_accuracy: 0.8081 - val_mean_squared_error: 0.0398\n",
      "Epoch 49/50\n",
      "33/33 [==============================] - 0s 13ms/step - loss: 0.3717 - accuracy: 0.8407 - mean_squared_error: 0.0297 - val_loss: 0.8083 - val_accuracy: 0.7879 - val_mean_squared_error: 0.0407\n",
      "Epoch 50/50\n",
      "33/33 [==============================] - 0s 12ms/step - loss: 0.4525 - accuracy: 0.7837 - mean_squared_error: 0.0353 - val_loss: 0.7024 - val_accuracy: 0.8081 - val_mean_squared_error: 0.0416\n"
     ]
    }
   ],
   "source": [
    "model_info = model.fit(X_train, y_train, batch_size=7, epochs=50, validation_data=(X_test, y_test), callbacks=callbacks_list)"
   ]
  },
  {
   "cell_type": "code",
   "execution_count": 50,
   "metadata": {},
   "outputs": [],
   "source": [
    "model.save('my_model.hdf5')"
   ]
  },
  {
   "cell_type": "markdown",
   "metadata": {},
   "source": [
    "# predict model"
   ]
  },
  {
   "cell_type": "code",
   "execution_count": 43,
   "metadata": {},
   "outputs": [
    {
     "data": {
      "image/png": "[encoded data removed]",
      "text/plain": "<Figure size 432x288 with 1 Axes>"
     },
     "metadata": {
      "needs_background": "light"
     },
     "output_type": "display_data"
    }
   ],
   "source": [
    "plt.plot(model_info.history['loss'], 'r', label='train')\r\n",
    "plt.plot(model_info.history['val_loss'], 'b', label='test')\r\n",
    "plt.title('model loss')\r\n",
    "plt.ylabel('loss')\r\n",
    "plt.xlabel('epoch')\r\n",
    "plt.legend()\r\n",
    "plt.show()"
   ]
  },
  {
   "cell_type": "code",
   "execution_count": 46,
   "metadata": {},
   "outputs": [
    {
     "data": {
      "image/png": "[encoded data removed]",
      "text/plain": "<Figure size 432x288 with 1 Axes>"
     },
     "metadata": {
      "needs_background": "light"
     },
     "output_type": "display_data"
    }
   ],
   "source": [
    "plt.plot(model_info.history['accuracy'], 'r', label='train')\r\n",
    "plt.plot(model_info.history['val_accuracy'], 'b', label='test')\r\n",
    "plt.title('model accuracy')\r\n",
    "plt.ylabel('accuracy')\r\n",
    "plt.xlabel('epoch')\r\n",
    "plt.legend()\r\n",
    "plt.show()"
   ]
  },
  {
   "cell_type": "code",
   "execution_count": 45,
   "metadata": {},
   "outputs": [
    {
     "name": "stdout",
     "output_type": "stream",
     "text": [
      "8/8 [==============================] - 0s 7ms/step - loss: 0.0676 - accuracy: 0.9956 - mean_squared_error: 0.0034\n",
      "Accuracy (train): 99.56\n",
      "4/4 [==============================] - 0s 6ms/step - loss: 0.7024 - accuracy: 0.8081 - mean_squared_error: 0.0416\n",
      "Accuracy (test): 80.81\n"
     ]
    }
   ],
   "source": [
    "# evaluate the model\r\n",
    "score = model.evaluate(X_train, y_train)\r\n",
    "print('Accuracy (train): %.2f' % (score[1]*100))\r\n",
    "\r\n",
    "score = model.evaluate(X_test, y_test)\r\n",
    "print('Accuracy (test): %.2f' % (score[1]*100))"
   ]
  },
  {
   "cell_type": "code",
   "execution_count": 47,
   "metadata": {},
   "outputs": [
    {
     "name": "stdout",
     "output_type": "stream",
     "text": [
      "(1, 48, 48, 3)\n",
      "[[1.16770685e-01 1.27239078e-02 4.82132845e-03 2.00797711e-02\n",
      "  2.15600012e-04 4.72938359e-01 3.72450262e-01]]\n",
      "[5]\n",
      "[[0. 0. 0. 0. 0. 1. 0.]]\n"
     ]
    },
    {
     "data": {
      "image/png": "[encoded data removed]",
      "text/plain": "<Figure size 432x288 with 1 Axes>"
     },
     "metadata": {
      "needs_background": "light"
     },
     "output_type": "display_data"
    }
   ],
   "source": [
    "test_image = X_test[0:1]\r\n",
    "print (test_image.shape)\r\n",
    "\r\n",
    "print(model.predict(test_image))\r\n",
    "print(np.argmax(model.predict(test_image), axis=-1))\r\n",
    "print(y_test[0:1])\r\n",
    "\r\n",
    "plt.imshow(test_image[0],cmap=plt.get_cmap('gray'))\r\n",
    "plt.ylabel('prediction = %s' % getLabel(np.argmax(model.predict(test_image), axis=-1)[0]), fontsize=14)\r\n",
    "plt.show()"
   ]
  },
  {
   "cell_type": "code",
   "execution_count": 48,
   "metadata": {},
   "outputs": [
    {
     "name": "stdout",
     "output_type": "stream",
     "text": [
      "(1, 48, 48, 3)\n",
      "[[0. 0. 0. 0. 0. 0. 1.]]\n",
      "[6]\n",
      "[[0. 0. 0. 0. 0. 1. 0.]]\n"
     ]
    },
    {
     "data": {
      "image/png": "[encoded data removed]",
      "text/plain": "<Figure size 432x288 with 1 Axes>"
     },
     "metadata": {
      "needs_background": "light"
     },
     "output_type": "display_data"
    }
   ],
   "source": [
    "test_image = cv2.imread('test_images/surprise.jpg')\r\n",
    "test_image_resize = cv2.resize(test_image,(48,48))\r\n",
    "test_image_resize = np.reshape(test_image_resize, (1, 48, 48, 3))\r\n",
    "print (test_image_resize.shape)\r\n",
    "\r\n",
    "print(model.predict(test_image_resize))\r\n",
    "print(np.argmax(model.predict(test_image_resize), axis=-1))\r\n",
    "print(y_test[0:1])\r\n",
    "\r\n",
    "plt.imshow(test_image_resize[0],cmap=plt.get_cmap('gray'))\r\n",
    "plt.ylabel('prediction = %s' % getLabel(np.argmax(model.predict(test_image_resize), axis=-1)[0]), fontsize=14)\r\n",
    "plt.show()"
   ]
  },
  {
   "cell_type": "code",
   "execution_count": 49,
   "metadata": {},
   "outputs": [
    {
     "name": "stdout",
     "output_type": "stream",
     "text": [
      "(1, 48, 48, 3)\n",
      "[[3.9864244e-11 9.2559987e-10 3.5925258e-09 3.9876071e-09 1.0000000e+00\n",
      "  4.2149225e-11 8.9772426e-11]]\n",
      "[4]\n",
      "[[0. 0. 0. 0. 1. 0. 0.]]\n"
     ]
    },
    {
     "data": {
      "image/png": "[encoded data removed]",
      "text/plain": "<Figure size 432x288 with 1 Axes>"
     },
     "metadata": {
      "needs_background": "light"
     },
     "output_type": "display_data"
    }
   ],
   "source": [
    "test_image = X_test[33:34]\r\n",
    "print (test_image.shape)\r\n",
    "\r\n",
    "print(model.predict(test_image))\r\n",
    "print(np.argmax(model.predict(test_image), axis=-1))\r\n",
    "print(y_test[33:34])\r\n",
    "\r\n",
    "plt.imshow(test_image[0],cmap=plt.get_cmap('gray'))\r\n",
    "plt.ylabel('prediction = %s' % getLabel(np.argmax(model.predict(test_image), axis=-1)[0]), fontsize=14)\r\n",
    "plt.show()"
   ]
  }
 ],
 "metadata": {
  "kernelspec": {
   "display_name": "Python 3.9.0 64-bit",
   "name": "python390jvsc74a57bd0ac59ebe37160ed0dfa835113d9b8498d9f09ceb179beaac4002f036b9467c963"
  },
  "language_info": {
   "codemirror_mode": {
    "name": "ipython",
    "version": 3
   },
   "file_extension": ".py",
   "mimetype": "text/x-python",
   "name": "python",
   "nbconvert_exporter": "python",
   "pygments_lexer": "ipython3",
   "version": "3.9.0"
  },
  "orig_nbformat": 2
 },
 "nbformat": 4,
 "nbformat_minor": 2
}