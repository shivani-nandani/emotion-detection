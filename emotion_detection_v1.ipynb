{
 "cells": [
  {
   "cell_type": "raw",
   "metadata": {},
   "source": []
  },
  {
   "cell_type": "code",
   "execution_count": 1,
   "metadata": {},
   "outputs": [],
   "source": [
    "import numpy as np \r\n",
    "import pandas as pd\r\n",
    "import os,cv2\r\n",
    "import numpy as np\r\n",
    "import matplotlib.pyplot as plt\r\n",
    "import matplotlib.image as mpimg\r\n",
    "\r\n",
    "from sklearn.utils import shuffle\r\n",
    "from sklearn.model_selection import train_test_split\r\n",
    "\r\n",
    "import keras\r\n",
    "from keras import callbacks\r\n",
    "from keras.utils import np_utils\r\n",
    "from keras.models import Sequential\r\n",
    "from keras.layers import Dense , Activation , Dropout ,Flatten\r\n",
    "from keras.layers.convolutional import Conv2D\r\n",
    "from keras.layers.convolutional import MaxPooling2D\r\n",
    "from keras.metrics import categorical_accuracy\r\n",
    "from keras.models import model_from_json\r\n",
    "from keras.callbacks import ModelCheckpoint\r\n",
    "from keras.optimizers import *\r\n",
    "from keras.layers.normalization import BatchNormalization\r\n",
    "import os"
   ]
  },
  {
   "cell_type": "markdown",
   "metadata": {},
   "source": [
    "# load data"
   ]
  },
  {
   "cell_type": "code",
   "execution_count": 2,
   "metadata": {},
   "outputs": [
    {
     "name": "stdout",
     "output_type": "stream",
     "text": [
      "Loaded the images of dataset-anger\n",
      "\n",
      "Loaded the images of dataset-contempt\n",
      "\n",
      "Loaded the images of dataset-disgust\n",
      "\n",
      "Loaded the images of dataset-fear\n",
      "\n",
      "Loaded the images of dataset-happy\n",
      "\n",
      "Loaded the images of dataset-sadness\n",
      "\n",
      "Loaded the images of dataset-surprise\n",
      "\n"
     ]
    },
    {
     "data": {
      "text/plain": "(981, 48, 48, 3)"
     },
     "execution_count": 2,
     "metadata": {},
     "output_type": "execute_result"
    }
   ],
   "source": [
    "data_path = 'dataset/CK+48'\r\n",
    "data_dir_list = os.listdir(data_path)\r\n",
    "\r\n",
    "img_data_list=[]\r\n",
    "\r\n",
    "for dataset in data_dir_list:\r\n",
    "    img_list=os.listdir(data_path+'/'+ dataset)\r\n",
    "    print ('Loaded the images of dataset-'+'{}\\n'.format(dataset))\r\n",
    "    for img in img_list:\r\n",
    "        input_img=cv2.imread(data_path + '/'+ dataset + '/'+ img )\r\n",
    "        #input_img=cv2.cvtColor(input_img, cv2.COLOR_BGR2GRAY)\r\n",
    "        input_img_resize=cv2.resize(input_img,(48,48))\r\n",
    "        img_data_list.append(input_img_resize)\r\n",
    "        \r\n",
    "img_data = np.array(img_data_list)\r\n",
    "img_data = img_data.astype('float32')\r\n",
    "img_data = img_data/255\r\n",
    "img_data.shape"
   ]
  },
  {
   "cell_type": "markdown",
   "metadata": {},
   "source": [
    "# adding labels"
   ]
  },
  {
   "cell_type": "code",
   "execution_count": 3,
   "metadata": {},
   "outputs": [],
   "source": [
    "num_classes = 7\r\n",
    "\r\n",
    "num_of_samples = img_data.shape[0]\r\n",
    "labels = np.ones((num_of_samples,),dtype='int64')\r\n",
    "\r\n",
    "labels[0:134]=0     #135\r\n",
    "labels[135:188]=1   #54\r\n",
    "labels[189:365]=2   #177\r\n",
    "labels[366:440]=3   #75\r\n",
    "labels[441:647]=4   #207\r\n",
    "labels[648:731]=5   #84\r\n",
    "labels[732:980]=6   #249\r\n",
    "\r\n",
    "names = ['anger','contempt','disgust','fear','happy','sadness','surprise']\r\n",
    "\r\n",
    "def getLabel(id):\r\n",
    "    return ['anger','contempt','disgust','fear','happy','sadness','surprise'][id]"
   ]
  },
  {
   "cell_type": "markdown",
   "metadata": {},
   "source": [
    "# dividing into training and testing"
   ]
  },
  {
   "cell_type": "code",
   "execution_count": 4,
   "metadata": {},
   "outputs": [
    {
     "name": "stdout",
     "output_type": "stream",
     "text": [
      "(981, 7)\n",
      "(686, 48, 48, 3)\n",
      "(295, 48, 48, 3)\n"
     ]
    }
   ],
   "source": [
    "Y = np_utils.to_categorical(labels, num_classes)\r\n",
    "\r\n",
    "# x,y = shuffle(img_data,Y, random_state=2)\r\n",
    "\r\n",
    "X_train, X_test, y_train, y_test = train_test_split(img_data, Y, test_size=0.30, shuffle=True, random_state=42)\r\n",
    "# x_test = X_test\r\n",
    "\r\n",
    "print(Y.shape)\r\n",
    "print(X_train.shape)\r\n",
    "print(X_test.shape)"
   ]
  },
  {
   "cell_type": "markdown",
   "metadata": {},
   "source": [
    "# creating model"
   ]
  },
  {
   "cell_type": "code",
   "execution_count": 5,
   "metadata": {},
   "outputs": [
    {
     "name": "stdout",
     "output_type": "stream",
     "text": [
      "Model: \"sequential\"\n",
      "_________________________________________________________________\n",
      "Layer (type)                 Output Shape              Param #   \n",
      "=================================================================\n",
      "conv2d (Conv2D)              (None, 48, 48, 6)         456       \n",
      "_________________________________________________________________\n",
      "max_pooling2d (MaxPooling2D) (None, 24, 24, 6)         0         \n",
      "_________________________________________________________________\n",
      "conv2d_1 (Conv2D)            (None, 24, 24, 16)        2416      \n",
      "_________________________________________________________________\n",
      "activation (Activation)      (None, 24, 24, 16)        0         \n",
      "_________________________________________________________________\n",
      "max_pooling2d_1 (MaxPooling2 (None, 12, 12, 16)        0         \n",
      "_________________________________________________________________\n",
      "conv2d_2 (Conv2D)            (None, 10, 10, 64)        9280      \n",
      "_________________________________________________________________\n",
      "max_pooling2d_2 (MaxPooling2 (None, 5, 5, 64)          0         \n",
      "_________________________________________________________________\n",
      "flatten (Flatten)            (None, 1600)              0         \n",
      "_________________________________________________________________\n",
      "dense (Dense)                (None, 128)               204928    \n",
      "_________________________________________________________________\n",
      "dropout (Dropout)            (None, 128)               0         \n",
      "_________________________________________________________________\n",
      "dense_1 (Dense)              (None, 7)                 903       \n",
      "=================================================================\n",
      "Total params: 217,983\n",
      "Trainable params: 217,983\n",
      "Non-trainable params: 0\n",
      "_________________________________________________________________\n"
     ]
    }
   ],
   "source": [
    "input_shape=(48,48,3)\r\n",
    "\r\n",
    "model = Sequential()\r\n",
    "model.add(Conv2D(6, (5, 5), input_shape=input_shape, padding='same', activation = 'relu'))\r\n",
    "model.add(MaxPooling2D(pool_size=(2, 2)))\r\n",
    "\r\n",
    "model.add(Conv2D(16, (5, 5), padding='same', activation = 'relu'))\r\n",
    "model.add(Activation('relu'))\r\n",
    "model.add(MaxPooling2D(pool_size=(2, 2)))\r\n",
    "\r\n",
    "model.add(Conv2D(64, (3, 3), activation = 'relu'))\r\n",
    "model.add(MaxPooling2D(pool_size=(2, 2)))\r\n",
    "\r\n",
    "model.add(Flatten())\r\n",
    "model.add(Dense(128, activation = 'relu'))\r\n",
    "model.add(Dropout(0.5))\r\n",
    "model.add(Dense(7, activation = 'softmax'))\r\n",
    "\r\n",
    "# model.compile(loss='categorical_crossentropy', metrics=['accuracy'], optimizer='adam')\r\n",
    "\r\n",
    "# model = Sequential()\r\n",
    "\r\n",
    "# model.add(Conv2D(32, (3, 3), input_shape=(48,48,3), activation = 'relu'))\r\n",
    "# # model.add(Conv2D(32, kernel_size=(3, 3), activation='relu'),input_shape=(48,48,1))\r\n",
    "\r\n",
    "# model.add(Conv2D(64, kernel_size=(3, 3), activation='relu'))\r\n",
    "\r\n",
    "# model.add(MaxPooling2D(pool_size=(2, 2)))\r\n",
    "\r\n",
    "# model.add(Conv2D(128, kernel_size=(3, 3), activation='relu'))\r\n",
    "\r\n",
    "# model.add(MaxPooling2D(pool_size=(2, 2)))\r\n",
    "\r\n",
    "# model.add(Conv2D(128, kernel_size=(3, 3), activation='relu'))\r\n",
    "# model.add(MaxPooling2D(pool_size=(2, 2)))\r\n",
    "\r\n",
    "# model.add(Conv2D(7, kernel_size=(1, 1), activation='relu'))\r\n",
    "\r\n",
    "# model.add(Conv2D(7, kernel_size=(4, 4), activation='relu'))\r\n",
    "\r\n",
    "# model.add(Flatten())\r\n",
    "\r\n",
    "# model.add(Activation(\"softmax\"))\r\n",
    "\r\n",
    "model.summary()"
   ]
  },
  {
   "cell_type": "markdown",
   "metadata": {},
   "source": [
    "# training the model"
   ]
  },
  {
   "cell_type": "code",
   "execution_count": 6,
   "metadata": {},
   "outputs": [],
   "source": [
    "filename='model_train_new.csv'\r\n",
    "filepath = os.path.join(\"./emotion_detector_models/model_v6_{epoch}.hdf5\")\r\n",
    "\r\n",
    "checkpoint = keras.callbacks.ModelCheckpoint(filepath,\r\n",
    "                                             monitor='val_acc',\r\n",
    "                                             verbose=1,\r\n",
    "                                             save_best_only=True,\r\n",
    "                                             mode='max')\r\n",
    "# callbacks = [checkpoint]\r\n",
    "\r\n",
    "\r\n",
    "csv_log=callbacks.CSVLogger(filename, separator=',', append=False)\r\n",
    "# checkpoint = callbacks.ModelCheckpoint(filepath, monitor='val_loss', verbose=1, save_best_only=True, mode='min')\r\n",
    "callbacks_list = [csv_log,checkpoint]\r\n",
    "callbacks_list = [csv_log]"
   ]
  },
  {
   "cell_type": "code",
   "execution_count": 7,
   "metadata": {},
   "outputs": [],
   "source": [
    "model.compile(loss='categorical_crossentropy', optimizer='adam', metrics=['accuracy', 'MeanSquaredError'])"
   ]
  },
  {
   "cell_type": "code",
   "execution_count": 8,
   "metadata": {},
   "outputs": [
    {
     "name": "stdout",
     "output_type": "stream",
     "text": [
      "Epoch 1/50\n",
      "98/98 [==============================] - 19s 18ms/step - loss: 1.8715 - accuracy: 0.2466 - mean_squared_error: 0.1199 - val_loss: 1.7145 - val_accuracy: 0.4339 - val_mean_squared_error: 0.1120\n",
      "Epoch 2/50\n",
      "98/98 [==============================] - 1s 11ms/step - loss: 1.6202 - accuracy: 0.4252 - mean_squared_error: 0.1050 - val_loss: 1.0673 - val_accuracy: 0.7119 - val_mean_squared_error: 0.0716\n",
      "Epoch 3/50\n",
      "98/98 [==============================] - 1s 12ms/step - loss: 0.9747 - accuracy: 0.6681 - mean_squared_error: 0.0653 - val_loss: 0.6155 - val_accuracy: 0.8271 - val_mean_squared_error: 0.0414\n",
      "Epoch 4/50\n",
      "98/98 [==============================] - 1s 12ms/step - loss: 0.7044 - accuracy: 0.7384 - mean_squared_error: 0.0504 - val_loss: 0.3833 - val_accuracy: 0.8746 - val_mean_squared_error: 0.0262\n",
      "Epoch 5/50\n",
      "98/98 [==============================] - 1s 12ms/step - loss: 0.5195 - accuracy: 0.8050 - mean_squared_error: 0.0377 - val_loss: 0.3785 - val_accuracy: 0.8542 - val_mean_squared_error: 0.0279\n",
      "Epoch 6/50\n",
      "98/98 [==============================] - 1s 12ms/step - loss: 0.5122 - accuracy: 0.8030 - mean_squared_error: 0.0362 - val_loss: 0.2613 - val_accuracy: 0.9153 - val_mean_squared_error: 0.0183\n",
      "Epoch 7/50\n",
      "98/98 [==============================] - 1s 12ms/step - loss: 0.3660 - accuracy: 0.8887 - mean_squared_error: 0.0265 - val_loss: 0.2131 - val_accuracy: 0.9390 - val_mean_squared_error: 0.0133\n",
      "Epoch 8/50\n",
      "98/98 [==============================] - 1s 11ms/step - loss: 0.3115 - accuracy: 0.8991 - mean_squared_error: 0.0227 - val_loss: 0.1948 - val_accuracy: 0.9458 - val_mean_squared_error: 0.0121\n",
      "Epoch 9/50\n",
      "98/98 [==============================] - 1s 12ms/step - loss: 0.2359 - accuracy: 0.9118 - mean_squared_error: 0.0172 - val_loss: 0.1503 - val_accuracy: 0.9627 - val_mean_squared_error: 0.0085\n",
      "Epoch 10/50\n",
      "98/98 [==============================] - 1s 13ms/step - loss: 0.2122 - accuracy: 0.9269 - mean_squared_error: 0.0157 - val_loss: 0.1391 - val_accuracy: 0.9797 - val_mean_squared_error: 0.0066\n",
      "Epoch 11/50\n",
      "98/98 [==============================] - 1s 13ms/step - loss: 0.2562 - accuracy: 0.9191 - mean_squared_error: 0.0175 - val_loss: 0.1415 - val_accuracy: 0.9763 - val_mean_squared_error: 0.0067\n",
      "Epoch 12/50\n",
      "98/98 [==============================] - 1s 13ms/step - loss: 0.1807 - accuracy: 0.9357 - mean_squared_error: 0.0130 - val_loss: 0.1514 - val_accuracy: 0.9763 - val_mean_squared_error: 0.0066\n",
      "Epoch 13/50\n",
      "98/98 [==============================] - 1s 12ms/step - loss: 0.1322 - accuracy: 0.9710 - mean_squared_error: 0.0096 - val_loss: 0.1270 - val_accuracy: 0.9763 - val_mean_squared_error: 0.0056\n",
      "Epoch 14/50\n",
      "98/98 [==============================] - 1s 12ms/step - loss: 0.0886 - accuracy: 0.9634 - mean_squared_error: 0.0061 - val_loss: 0.1197 - val_accuracy: 0.9729 - val_mean_squared_error: 0.0065\n",
      "Epoch 15/50\n",
      "98/98 [==============================] - 1s 12ms/step - loss: 0.1455 - accuracy: 0.9548 - mean_squared_error: 0.0106 - val_loss: 0.1714 - val_accuracy: 0.9661 - val_mean_squared_error: 0.0087\n",
      "Epoch 16/50\n",
      "98/98 [==============================] - 1s 12ms/step - loss: 0.0856 - accuracy: 0.9820 - mean_squared_error: 0.0060 - val_loss: 0.1904 - val_accuracy: 0.9593 - val_mean_squared_error: 0.0094\n",
      "Epoch 17/50\n",
      "98/98 [==============================] - 1s 12ms/step - loss: 0.1853 - accuracy: 0.9429 - mean_squared_error: 0.0129 - val_loss: 0.1521 - val_accuracy: 0.9695 - val_mean_squared_error: 0.0066\n",
      "Epoch 18/50\n",
      "98/98 [==============================] - 1s 12ms/step - loss: 0.1263 - accuracy: 0.9473 - mean_squared_error: 0.0102 - val_loss: 0.1540 - val_accuracy: 0.9763 - val_mean_squared_error: 0.0055\n",
      "Epoch 19/50\n",
      "98/98 [==============================] - 1s 11ms/step - loss: 0.0811 - accuracy: 0.9740 - mean_squared_error: 0.0058 - val_loss: 0.1391 - val_accuracy: 0.9695 - val_mean_squared_error: 0.0063\n",
      "Epoch 20/50\n",
      "98/98 [==============================] - 1s 11ms/step - loss: 0.1226 - accuracy: 0.9546 - mean_squared_error: 0.0096 - val_loss: 0.1353 - val_accuracy: 0.9831 - val_mean_squared_error: 0.0046\n",
      "Epoch 21/50\n",
      "98/98 [==============================] - 1s 11ms/step - loss: 0.1071 - accuracy: 0.9609 - mean_squared_error: 0.0082 - val_loss: 0.1741 - val_accuracy: 0.9763 - val_mean_squared_error: 0.0055\n",
      "Epoch 22/50\n",
      "98/98 [==============================] - 1s 13ms/step - loss: 0.1149 - accuracy: 0.9593 - mean_squared_error: 0.0086 - val_loss: 0.1465 - val_accuracy: 0.9831 - val_mean_squared_error: 0.0044\n",
      "Epoch 23/50\n",
      "98/98 [==============================] - 1s 12ms/step - loss: 0.0749 - accuracy: 0.9819 - mean_squared_error: 0.0057 - val_loss: 0.1594 - val_accuracy: 0.9864 - val_mean_squared_error: 0.0042\n",
      "Epoch 24/50\n",
      "98/98 [==============================] - 1s 13ms/step - loss: 0.0820 - accuracy: 0.9728 - mean_squared_error: 0.0062 - val_loss: 0.1807 - val_accuracy: 0.9797 - val_mean_squared_error: 0.0055\n",
      "Epoch 25/50\n",
      "98/98 [==============================] - 1s 12ms/step - loss: 0.0443 - accuracy: 0.9854 - mean_squared_error: 0.0034 - val_loss: 0.1417 - val_accuracy: 0.9763 - val_mean_squared_error: 0.0059\n",
      "Epoch 26/50\n",
      "98/98 [==============================] - 1s 12ms/step - loss: 0.0667 - accuracy: 0.9744 - mean_squared_error: 0.0048 - val_loss: 0.2174 - val_accuracy: 0.9763 - val_mean_squared_error: 0.0065\n",
      "Epoch 27/50\n",
      "98/98 [==============================] - 1s 12ms/step - loss: 0.0846 - accuracy: 0.9677 - mean_squared_error: 0.0067 - val_loss: 0.1942 - val_accuracy: 0.9661 - val_mean_squared_error: 0.0078\n",
      "Epoch 28/50\n",
      "98/98 [==============================] - 1s 13ms/step - loss: 0.0617 - accuracy: 0.9835 - mean_squared_error: 0.0046 - val_loss: 0.1806 - val_accuracy: 0.9797 - val_mean_squared_error: 0.0053\n",
      "Epoch 29/50\n",
      "98/98 [==============================] - 1s 15ms/step - loss: 0.0804 - accuracy: 0.9754 - mean_squared_error: 0.0060 - val_loss: 0.1849 - val_accuracy: 0.9864 - val_mean_squared_error: 0.0044\n",
      "Epoch 30/50\n",
      "98/98 [==============================] - 1s 13ms/step - loss: 0.0398 - accuracy: 0.9850 - mean_squared_error: 0.0028 - val_loss: 0.1584 - val_accuracy: 0.9831 - val_mean_squared_error: 0.0044\n",
      "Epoch 31/50\n",
      "98/98 [==============================] - 1s 12ms/step - loss: 0.0903 - accuracy: 0.9791 - mean_squared_error: 0.0049 - val_loss: 0.1804 - val_accuracy: 0.9864 - val_mean_squared_error: 0.0040\n",
      "Epoch 32/50\n",
      "98/98 [==============================] - 1s 12ms/step - loss: 0.0315 - accuracy: 0.9933 - mean_squared_error: 0.0022 - val_loss: 0.1850 - val_accuracy: 0.9763 - val_mean_squared_error: 0.0057\n",
      "Epoch 33/50\n",
      "98/98 [==============================] - 1s 12ms/step - loss: 0.0888 - accuracy: 0.9674 - mean_squared_error: 0.0073 - val_loss: 0.2199 - val_accuracy: 0.9729 - val_mean_squared_error: 0.0058\n",
      "Epoch 34/50\n",
      "98/98 [==============================] - 1s 12ms/step - loss: 0.0423 - accuracy: 0.9822 - mean_squared_error: 0.0035 - val_loss: 0.2059 - val_accuracy: 0.9797 - val_mean_squared_error: 0.0056\n",
      "Epoch 35/50\n",
      "98/98 [==============================] - 1s 12ms/step - loss: 0.0699 - accuracy: 0.9761 - mean_squared_error: 0.0050 - val_loss: 0.1300 - val_accuracy: 0.9797 - val_mean_squared_error: 0.0049\n",
      "Epoch 36/50\n",
      "98/98 [==============================] - 1s 13ms/step - loss: 0.0450 - accuracy: 0.9874 - mean_squared_error: 0.0029 - val_loss: 0.1560 - val_accuracy: 0.9831 - val_mean_squared_error: 0.0040\n",
      "Epoch 37/50\n",
      "98/98 [==============================] - 1s 12ms/step - loss: 0.0589 - accuracy: 0.9846 - mean_squared_error: 0.0035 - val_loss: 0.1633 - val_accuracy: 0.9763 - val_mean_squared_error: 0.0055\n",
      "Epoch 38/50\n",
      "98/98 [==============================] - 1s 12ms/step - loss: 0.0525 - accuracy: 0.9839 - mean_squared_error: 0.0039 - val_loss: 0.2274 - val_accuracy: 0.9763 - val_mean_squared_error: 0.0048\n",
      "Epoch 39/50\n",
      "98/98 [==============================] - 1s 13ms/step - loss: 0.0570 - accuracy: 0.9899 - mean_squared_error: 0.0033 - val_loss: 0.1700 - val_accuracy: 0.9831 - val_mean_squared_error: 0.0044\n",
      "Epoch 40/50\n",
      "98/98 [==============================] - 1s 12ms/step - loss: 0.0522 - accuracy: 0.9868 - mean_squared_error: 0.0035 - val_loss: 0.1918 - val_accuracy: 0.9864 - val_mean_squared_error: 0.0040\n",
      "Epoch 41/50\n",
      "98/98 [==============================] - 1s 13ms/step - loss: 0.0390 - accuracy: 0.9909 - mean_squared_error: 0.0027 - val_loss: 0.1979 - val_accuracy: 0.9864 - val_mean_squared_error: 0.0038\n",
      "Epoch 42/50\n",
      "98/98 [==============================] - 1s 14ms/step - loss: 0.0434 - accuracy: 0.9895 - mean_squared_error: 0.0030 - val_loss: 0.2009 - val_accuracy: 0.9898 - val_mean_squared_error: 0.0031\n",
      "Epoch 43/50\n",
      "98/98 [==============================] - 1s 14ms/step - loss: 0.0561 - accuracy: 0.9815 - mean_squared_error: 0.0037 - val_loss: 0.1455 - val_accuracy: 0.9864 - val_mean_squared_error: 0.0036\n",
      "Epoch 44/50\n",
      "98/98 [==============================] - 1s 15ms/step - loss: 0.0332 - accuracy: 0.9872 - mean_squared_error: 0.0026 - val_loss: 0.2507 - val_accuracy: 0.9729 - val_mean_squared_error: 0.0082\n",
      "Epoch 45/50\n",
      "98/98 [==============================] - 1s 12ms/step - loss: 0.0409 - accuracy: 0.9884 - mean_squared_error: 0.0030 - val_loss: 0.1885 - val_accuracy: 0.9864 - val_mean_squared_error: 0.0038\n",
      "Epoch 46/50\n",
      "98/98 [==============================] - 1s 13ms/step - loss: 0.0144 - accuracy: 0.9938 - mean_squared_error: 0.0013 - val_loss: 0.2149 - val_accuracy: 0.9898 - val_mean_squared_error: 0.0030\n",
      "Epoch 47/50\n",
      "98/98 [==============================] - 1s 12ms/step - loss: 0.0541 - accuracy: 0.9807 - mean_squared_error: 0.0035 - val_loss: 0.2341 - val_accuracy: 0.9763 - val_mean_squared_error: 0.0055\n",
      "Epoch 48/50\n",
      "98/98 [==============================] - 1s 13ms/step - loss: 0.0477 - accuracy: 0.9676 - mean_squared_error: 0.0043 - val_loss: 0.1995 - val_accuracy: 0.9864 - val_mean_squared_error: 0.0046\n",
      "Epoch 49/50\n",
      "98/98 [==============================] - 1s 13ms/step - loss: 0.0401 - accuracy: 0.9878 - mean_squared_error: 0.0026 - val_loss: 0.1593 - val_accuracy: 0.9864 - val_mean_squared_error: 0.0041\n",
      "Epoch 50/50\n",
      "98/98 [==============================] - 1s 12ms/step - loss: 0.0295 - accuracy: 0.9943 - mean_squared_error: 0.0021 - val_loss: 0.2280 - val_accuracy: 0.9797 - val_mean_squared_error: 0.0046\n"
     ]
    }
   ],
   "source": [
    "model_info = model.fit(X_train, y_train, batch_size=7, epochs=50, validation_data=(X_test, y_test), callbacks=callbacks_list)"
   ]
  },
  {
   "cell_type": "markdown",
   "metadata": {},
   "source": [
    "# predict model"
   ]
  },
  {
   "cell_type": "code",
   "execution_count": 9,
   "metadata": {},
   "outputs": [
    {
     "data": {
      "image/png": "[encoded data removed]",
      "text/plain": "<Figure size 432x288 with 1 Axes>"
     },
     "metadata": {
      "needs_background": "light"
     },
     "output_type": "display_data"
    }
   ],
   "source": [
    "plt.plot(model_info.history['loss'], 'r', label='train')\r\n",
    "plt.plot(model_info.history['val_loss'], 'b', label='test')\r\n",
    "plt.title('model loss')\r\n",
    "plt.ylabel('loss')\r\n",
    "plt.xlabel('epoch')\r\n",
    "plt.legend()\r\n",
    "plt.show()"
   ]
  },
  {
   "cell_type": "code",
   "execution_count": 10,
   "metadata": {},
   "outputs": [
    {
     "data": {
      "image/png": "[encoded data removed]",
      "text/plain": "<Figure size 432x288 with 1 Axes>"
     },
     "metadata": {
      "needs_background": "light"
     },
     "output_type": "display_data"
    }
   ],
   "source": [
    "plt.plot(model_info.history['accuracy'], 'r', label='train')\r\n",
    "plt.plot(model_info.history['val_accuracy'], 'b', label='test')\r\n",
    "plt.title('model accuracy')\r\n",
    "plt.ylabel('loss')\r\n",
    "plt.xlabel('epoch')\r\n",
    "plt.legend()\r\n",
    "plt.show()"
   ]
  },
  {
   "cell_type": "code",
   "execution_count": 11,
   "metadata": {},
   "outputs": [
    {
     "name": "stdout",
     "output_type": "stream",
     "text": [
      "22/22 [==============================] - 0s 10ms/step - loss: 0.0104 - accuracy: 0.9985 - mean_squared_error: 5.9058e-04\n",
      "Accuracy (train): 99.85\n",
      "10/10 [==============================] - 0s 10ms/step - loss: 0.2280 - accuracy: 0.9797 - mean_squared_error: 0.0046\n",
      "Accuracy (test): 97.97\n"
     ]
    }
   ],
   "source": [
    "# evaluate the model\r\n",
    "score = model.evaluate(X_train, y_train)\r\n",
    "print('Accuracy (train): %.2f' % (score[1]*100))\r\n",
    "\r\n",
    "score = model.evaluate(X_test, y_test)\r\n",
    "print('Accuracy (test): %.2f' % (score[1]*100))"
   ]
  },
  {
   "cell_type": "code",
   "execution_count": 12,
   "metadata": {},
   "outputs": [
    {
     "name": "stdout",
     "output_type": "stream",
     "text": [
      "(1, 48, 48, 3)\n",
      "[[2.2113623e-16 7.5897276e-08 1.4700326e-14 2.4259813e-07 4.4204096e-15\n",
      "  4.7754824e-08 9.9999964e-01]]\n",
      "[6]\n",
      "[[0. 0. 0. 0. 0. 0. 1.]]\n"
     ]
    },
    {
     "data": {
      "image/png": "[encoded data removed]",
      "text/plain": "<Figure size 432x288 with 1 Axes>"
     },
     "metadata": {
      "needs_background": "light"
     },
     "output_type": "display_data"
    }
   ],
   "source": [
    "test_image = X_test[0:1]\r\n",
    "print (test_image.shape)\r\n",
    "\r\n",
    "print(model.predict(test_image))\r\n",
    "print(np.argmax(model.predict(test_image), axis=-1))\r\n",
    "print(y_test[0:1])\r\n",
    "\r\n",
    "plt.imshow(test_image[0],cmap=plt.get_cmap('gray'))\r\n",
    "plt.ylabel('prediction = %s' % getLabel(np.argmax(model.predict(test_image), axis=-1)[0]), fontsize=14)\r\n",
    "plt.show()"
   ]
  },
  {
   "cell_type": "code",
   "execution_count": 22,
   "metadata": {},
   "outputs": [
    {
     "name": "stdout",
     "output_type": "stream",
     "text": [
      "(1, 48, 48, 3)\n",
      "[[0. 0. 0. 0. 0. 0. 1.]]\n",
      "[6]\n",
      "[[0. 0. 0. 0. 0. 0. 1.]]\n"
     ]
    },
    {
     "data": {
      "image/png": "[encoded data removed]",
      "text/plain": "<Figure size 432x288 with 1 Axes>"
     },
     "metadata": {
      "needs_background": "light"
     },
     "output_type": "display_data"
    }
   ],
   "source": [
    "test_image = cv2.imread('test_images/surprise.jpg')\r\n",
    "test_image_resize = cv2.resize(test_image,(48,48))\r\n",
    "test_image_resize = np.reshape(test_image_resize, (1, 48, 48, 3))\r\n",
    "print (test_image_resize.shape)\r\n",
    "\r\n",
    "print(model.predict(test_image_resize))\r\n",
    "print(np.argmax(model.predict(test_image_resize), axis=-1))\r\n",
    "print(y_test[0:1])\r\n",
    "\r\n",
    "plt.imshow(test_image_resize[0],cmap=plt.get_cmap('gray'))\r\n",
    "plt.ylabel('prediction = %s' % getLabel(np.argmax(model.predict(test_image_resize), axis=-1)[0]), fontsize=14)\r\n",
    "plt.show()"
   ]
  },
  {
   "cell_type": "code",
   "execution_count": 23,
   "metadata": {},
   "outputs": [
    {
     "name": "stdout",
     "output_type": "stream",
     "text": [
      "(1, 48, 48, 3)\n",
      "[[1. 0. 0. 0. 0. 0. 0.]]\n",
      "[0]\n",
      "[[0. 0. 0. 0. 0. 0. 1.]]\n"
     ]
    },
    {
     "data": {
      "image/png": "[encoded data removed]",
      "text/plain": "<Figure size 432x288 with 1 Axes>"
     },
     "metadata": {
      "needs_background": "light"
     },
     "output_type": "display_data"
    }
   ],
   "source": [
    "test_image = cv2.imread('dataset/CK+48/anger/S010_004_00000017.png')\r\n",
    "test_image_resize = cv2.resize(test_image,(48,48))\r\n",
    "test_image_resize = np.reshape(test_image_resize, (1, 48, 48, 3))\r\n",
    "print (test_image_resize.shape)\r\n",
    "\r\n",
    "print(model.predict(test_image_resize))\r\n",
    "print(np.argmax(model.predict(test_image_resize), axis=-1))\r\n",
    "print(y_test[0:1])\r\n",
    "\r\n",
    "plt.imshow(test_image_resize[0],cmap=plt.get_cmap('gray'))\r\n",
    "plt.ylabel('prediction = %s' % getLabel(np.argmax(model.predict(test_image_resize), axis=-1)[0]), fontsize=14)\r\n",
    "plt.show()"
   ]
  },
  {
   "cell_type": "code",
   "execution_count": 29,
   "metadata": {},
   "outputs": [
    {
     "name": "stdout",
     "output_type": "stream",
     "text": [
      "(1, 48, 48, 3)\n",
      "[[1.9739401e-03 9.7439374e-07 7.5305408e-08 2.3964829e-05 1.2321302e-11\n",
      "  9.9793112e-01 6.9911475e-05]]\n",
      "[5]\n",
      "[[0. 0. 0. 0. 0. 1. 0.]]\n"
     ]
    },
    {
     "data": {
      "image/png": "[encoded data removed]",
      "text/plain": "<Figure size 432x288 with 1 Axes>"
     },
     "metadata": {
      "needs_background": "light"
     },
     "output_type": "display_data"
    }
   ],
   "source": [
    "test_image = X_test[33:34]\r\n",
    "print (test_image.shape)\r\n",
    "\r\n",
    "print(model.predict(test_image))\r\n",
    "print(np.argmax(model.predict(test_image), axis=-1))\r\n",
    "print(y_test[33:34])\r\n",
    "\r\n",
    "plt.imshow(test_image[0],cmap=plt.get_cmap('gray'))\r\n",
    "plt.ylabel('prediction = %s' % getLabel(np.argmax(model.predict(test_image), axis=-1)[0]), fontsize=14)\r\n",
    "plt.show()"
   ]
  }
 ],
 "metadata": {
  "kernelspec": {
   "display_name": "Python 3.9.0 64-bit",
   "name": "python390jvsc74a57bd0ac59ebe37160ed0dfa835113d9b8498d9f09ceb179beaac4002f036b9467c963"
  },
  "language_info": {
   "codemirror_mode": {
    "name": "ipython",
    "version": 3
   },
   "file_extension": ".py",
   "mimetype": "text/x-python",
   "name": "python",
   "nbconvert_exporter": "python",
   "pygments_lexer": "ipython3",
   "version": "3.9.0"
  },
  "orig_nbformat": 2
 },
 "nbformat": 4,
 "nbformat_minor": 2
}