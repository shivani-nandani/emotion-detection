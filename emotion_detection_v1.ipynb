{
 "cells": [
  {
   "cell_type": "code",
   "execution_count": 1,
   "metadata": {},
   "outputs": [],
   "source": [
    "import numpy as np \r\n",
    "import pandas as pd\r\n",
    "import os,cv2\r\n",
    "import numpy as np\r\n",
    "import matplotlib.pyplot as plt\r\n",
    "import matplotlib.image as mpimg\r\n",
    "\r\n",
    "from sklearn.utils import shuffle\r\n",
    "from sklearn.model_selection import train_test_split\r\n",
    "\r\n",
    "import tensorflow as tf\r\n",
    "import keras\r\n",
    "from keras_visualizer import visualizer\r\n",
    "from keras import callbacks\r\n",
    "from keras.utils import np_utils\r\n",
    "from keras.models import Sequential\r\n",
    "from keras.layers import Dense , Activation , Dropout ,Flatten\r\n",
    "from keras.layers.convolutional import Conv2D\r\n",
    "from keras.layers.convolutional import MaxPooling2D\r\n",
    "from keras.metrics import categorical_accuracy\r\n",
    "from keras.models import model_from_json\r\n",
    "from keras.callbacks import ModelCheckpoint\r\n",
    "from keras.optimizers import *\r\n",
    "from keras.layers.normalization import BatchNormalization\r\n",
    "import os"
   ]
  },
  {
   "cell_type": "markdown",
   "metadata": {},
   "source": [
    "# load data"
   ]
  },
  {
   "cell_type": "code",
   "execution_count": 23,
   "metadata": {},
   "outputs": [
    {
     "name": "stdout",
     "output_type": "stream",
     "text": [
      "Loaded the images of dataset-anger\n",
      "\n",
      "Loaded the images of dataset-contempt\n",
      "\n",
      "Loaded the images of dataset-disgust\n",
      "\n",
      "Loaded the images of dataset-fear\n",
      "\n",
      "Loaded the images of dataset-happy\n",
      "\n",
      "Loaded the images of dataset-sadness\n",
      "\n",
      "Loaded the images of dataset-surprise\n",
      "\n"
     ]
    },
    {
     "data": {
      "text/plain": "(327, 48, 48)"
     },
     "execution_count": 23,
     "metadata": {},
     "output_type": "execute_result"
    }
   ],
   "source": [
    "data_path = 'dataset/CK+48'\r\n",
    "data_dir_list = os.listdir(data_path)\r\n",
    "\r\n",
    "img_data_list=[]\r\n",
    "\r\n",
    "for dataset in data_dir_list:\r\n",
    "    img_list=os.listdir(data_path+'/'+ dataset)\r\n",
    "    print ('Loaded the images of dataset-'+'{}\\n'.format(dataset))\r\n",
    "    for img in img_list:\r\n",
    "        input_img=cv2.imread(data_path + '/'+ dataset + '/'+ img )\r\n",
    "        input_img=cv2.cvtColor(input_img, cv2.COLOR_BGR2GRAY)\r\n",
    "        input_img_resize=cv2.resize(input_img,(48,48))\r\n",
    "        img_data_list.append(input_img_resize)\r\n",
    "        \r\n",
    "img_data = np.array(img_data_list)\r\n",
    "img_data = img_data.astype('float32')\r\n",
    "img_data = img_data/255\r\n",
    "img_data.shape"
   ]
  },
  {
   "cell_type": "markdown",
   "metadata": {},
   "source": [
    "# adding labels"
   ]
  },
  {
   "cell_type": "code",
   "execution_count": 10,
   "metadata": {},
   "outputs": [],
   "source": [
    "num_classes = 7\r\n",
    "\r\n",
    "num_of_samples = img_data.shape[0]\r\n",
    "labels = np.ones((num_of_samples,),dtype='int64')\r\n",
    "\r\n",
    "labels[0:45]=0      #45\r\n",
    "labels[46:63]=1     #18\r\n",
    "labels[64:122]=2    #59\r\n",
    "labels[123:147]=3   #25\r\n",
    "labels[148:216]=4   #69\r\n",
    "labels[217:244]=5   #28\r\n",
    "labels[245:327]=6   #83\r\n",
    "\r\n",
    "names = ['anger','contempt','disgust','fear','happy','sadness','surprise']\r\n",
    "\r\n",
    "def getLabel(id):\r\n",
    "    return ['anger','contempt','disgust','fear','happy','sadness','surprise'][id]"
   ]
  },
  {
   "cell_type": "markdown",
   "metadata": {},
   "source": [
    "# dividing into training and testing"
   ]
  },
  {
   "cell_type": "code",
   "execution_count": 37,
   "metadata": {},
   "outputs": [
    {
     "name": "stdout",
     "output_type": "stream",
     "text": [
      "(327, 7)\n",
      "(228, 48, 48, 1)\n",
      "(99, 48, 48, 1)\n"
     ]
    }
   ],
   "source": [
    "Y = np_utils.to_categorical(labels, num_classes)\r\n",
    "\r\n",
    "# x,y = shuffle(img_data,Y, random_state=2)\r\n",
    "\r\n",
    "X_train, X_test, y_train, y_test = train_test_split(img_data, Y, test_size=0.30, shuffle=True, random_state=42)\r\n",
    "# x_test = X_test\r\n",
    "X_train = np.reshape(X_train, (X_train.shape[0], 48, 48, 1))\r\n",
    "X_test = np.reshape(X_test, (X_test.shape[0], 48, 48, 1))\r\n",
    "\r\n",
    "print(Y.shape)\r\n",
    "print(X_train.shape)\r\n",
    "print(X_test.shape)"
   ]
  },
  {
   "cell_type": "markdown",
   "metadata": {},
   "source": [
    "# creating model"
   ]
  },
  {
   "cell_type": "code",
   "execution_count": 81,
   "metadata": {},
   "outputs": [
    {
     "name": "stdout",
     "output_type": "stream",
     "text": [
      "Model: \"sequential_14\"\n",
      "_________________________________________________________________\n",
      "Layer (type)                 Output Shape              Param #   \n",
      "=================================================================\n",
      "conv2d_30 (Conv2D)           (None, 45, 45, 6)         102       \n",
      "_________________________________________________________________\n",
      "activation_18 (Activation)   (None, 45, 45, 6)         0         \n",
      "_________________________________________________________________\n",
      "conv2d_31 (Conv2D)           (None, 45, 45, 16)        2416      \n",
      "_________________________________________________________________\n",
      "activation_19 (Activation)   (None, 45, 45, 16)        0         \n",
      "_________________________________________________________________\n",
      "max_pooling2d_18 (MaxPooling (None, 22, 22, 16)        0         \n",
      "_________________________________________________________________\n",
      "activation_20 (Activation)   (None, 22, 22, 16)        0         \n",
      "_________________________________________________________________\n",
      "conv2d_32 (Conv2D)           (None, 20, 20, 64)        9280      \n",
      "_________________________________________________________________\n",
      "activation_21 (Activation)   (None, 20, 20, 64)        0         \n",
      "_________________________________________________________________\n",
      "max_pooling2d_19 (MaxPooling (None, 10, 10, 64)        0         \n",
      "_________________________________________________________________\n",
      "flatten_8 (Flatten)          (None, 6400)              0         \n",
      "_________________________________________________________________\n",
      "dense_16 (Dense)             (None, 128)               819328    \n",
      "_________________________________________________________________\n",
      "dropout_8 (Dropout)          (None, 128)               0         \n",
      "_________________________________________________________________\n",
      "dense_17 (Dense)             (None, 7)                 903       \n",
      "=================================================================\n",
      "Total params: 832,029\n",
      "Trainable params: 832,029\n",
      "Non-trainable params: 0\n",
      "_________________________________________________________________\n"
     ]
    }
   ],
   "source": [
    "input_shape=(48,48,1)\r\n",
    "\r\n",
    "model = Sequential()\r\n",
    "\r\n",
    "model.add(Conv2D(6, (4, 4), input_shape = input_shape))\r\n",
    "model.add(Activation('relu'))\r\n",
    "model.add(Conv2D(16, (5, 5), padding = 'same'))\r\n",
    "model.add(Activation('relu'))\r\n",
    "model.add(MaxPooling2D(pool_size=(2, 2)))\r\n",
    "model.add(Activation('relu'))\r\n",
    "model.add(Conv2D(64, (3, 3)))\r\n",
    "model.add(Activation('relu'))\r\n",
    "model.add(MaxPooling2D(pool_size=(2, 2)))\r\n",
    "model.add(Flatten())\r\n",
    "model.add(Dense(128, activation = 'relu'))\r\n",
    "model.add(Dropout(0.7))\r\n",
    "model.add(Dense(7, activation = 'softmax'))\r\n",
    "\r\n",
    "model.summary()\r\n",
    "\r\n",
    "visualizer(model, format='png')"
   ]
  },
  {
   "cell_type": "markdown",
   "metadata": {},
   "source": [
    "# training the model"
   ]
  },
  {
   "cell_type": "code",
   "execution_count": 82,
   "metadata": {},
   "outputs": [],
   "source": [
    "filename='model_train_new.csv'\r\n",
    "filepath = os.path.join(\"./emotion_detector_models/model_v6_{epoch}.hdf5\")\r\n",
    "\r\n",
    "checkpoint = keras.callbacks.ModelCheckpoint(filepath,\r\n",
    "                                             monitor='val_acc',\r\n",
    "                                             verbose=1,\r\n",
    "                                             save_best_only=True,\r\n",
    "                                             mode='max')\r\n",
    "# callbacks = [checkpoint]\r\n",
    "\r\n",
    "\r\n",
    "csv_log=callbacks.CSVLogger(filename, separator=',', append=False)\r\n",
    "# checkpoint = callbacks.ModelCheckpoint(filepath, monitor='val_loss', verbose=1, save_best_only=True, mode='min')\r\n",
    "callbacks_list = [csv_log,checkpoint]\r\n",
    "callbacks_list = [csv_log]"
   ]
  },
  {
   "cell_type": "code",
   "execution_count": 83,
   "metadata": {},
   "outputs": [],
   "source": [
    "model.compile(loss='categorical_crossentropy', optimizer='adam', metrics=['accuracy', 'MeanSquaredError'])"
   ]
  },
  {
   "cell_type": "code",
   "execution_count": 84,
   "metadata": {},
   "outputs": [
    {
     "name": "stdout",
     "output_type": "stream",
     "text": [
      "Epoch 1/50\n",
      "33/33 [==============================] - 3s 39ms/step - loss: 1.9114 - accuracy: 0.1492 - mean_squared_error: 0.1216 - val_loss: 1.8715 - val_accuracy: 0.2323 - val_mean_squared_error: 0.1193\n",
      "Epoch 2/50\n",
      "33/33 [==============================] - 1s 21ms/step - loss: 1.8649 - accuracy: 0.3220 - mean_squared_error: 0.1185 - val_loss: 1.8474 - val_accuracy: 0.3838 - val_mean_squared_error: 0.1182\n",
      "Epoch 3/50\n",
      "33/33 [==============================] - 1s 22ms/step - loss: 1.8482 - accuracy: 0.2677 - mean_squared_error: 0.1177 - val_loss: 1.8318 - val_accuracy: 0.3232 - val_mean_squared_error: 0.1129\n",
      "Epoch 4/50\n",
      "33/33 [==============================] - 1s 23ms/step - loss: 1.8673 - accuracy: 0.3584 - mean_squared_error: 0.1145 - val_loss: 1.5661 - val_accuracy: 0.4242 - val_mean_squared_error: 0.0983\n",
      "Epoch 5/50\n",
      "33/33 [==============================] - 1s 22ms/step - loss: 1.4028 - accuracy: 0.5038 - mean_squared_error: 0.0895 - val_loss: 1.2868 - val_accuracy: 0.6162 - val_mean_squared_error: 0.0827\n",
      "Epoch 6/50\n",
      "33/33 [==============================] - 1s 24ms/step - loss: 1.1642 - accuracy: 0.6107 - mean_squared_error: 0.0748 - val_loss: 1.1063 - val_accuracy: 0.6667 - val_mean_squared_error: 0.0707\n",
      "Epoch 7/50\n",
      "33/33 [==============================] - 1s 22ms/step - loss: 1.0829 - accuracy: 0.6457 - mean_squared_error: 0.0696 - val_loss: 1.1374 - val_accuracy: 0.6465 - val_mean_squared_error: 0.0736\n",
      "Epoch 8/50\n",
      "33/33 [==============================] - 1s 22ms/step - loss: 1.0329 - accuracy: 0.6247 - mean_squared_error: 0.0677 - val_loss: 0.9827 - val_accuracy: 0.6869 - val_mean_squared_error: 0.0661\n",
      "Epoch 9/50\n",
      "33/33 [==============================] - 1s 22ms/step - loss: 0.9399 - accuracy: 0.6616 - mean_squared_error: 0.0631 - val_loss: 0.8934 - val_accuracy: 0.6768 - val_mean_squared_error: 0.0591\n",
      "Epoch 10/50\n",
      "33/33 [==============================] - 1s 21ms/step - loss: 0.7350 - accuracy: 0.7385 - mean_squared_error: 0.0493 - val_loss: 0.8760 - val_accuracy: 0.7172 - val_mean_squared_error: 0.0583\n",
      "Epoch 11/50\n",
      "33/33 [==============================] - 1s 20ms/step - loss: 0.8532 - accuracy: 0.6808 - mean_squared_error: 0.0578 - val_loss: 0.8041 - val_accuracy: 0.7172 - val_mean_squared_error: 0.0542\n",
      "Epoch 12/50\n",
      "33/33 [==============================] - 1s 22ms/step - loss: 0.7467 - accuracy: 0.7315 - mean_squared_error: 0.0502 - val_loss: 0.7826 - val_accuracy: 0.7273 - val_mean_squared_error: 0.0552\n",
      "Epoch 13/50\n",
      "33/33 [==============================] - 1s 22ms/step - loss: 0.6645 - accuracy: 0.7601 - mean_squared_error: 0.0458 - val_loss: 0.7983 - val_accuracy: 0.7374 - val_mean_squared_error: 0.0526\n",
      "Epoch 14/50\n",
      "33/33 [==============================] - 1s 26ms/step - loss: 0.6424 - accuracy: 0.7341 - mean_squared_error: 0.0447 - val_loss: 0.8063 - val_accuracy: 0.7475 - val_mean_squared_error: 0.0537\n",
      "Epoch 15/50\n",
      "33/33 [==============================] - 1s 23ms/step - loss: 0.6741 - accuracy: 0.7285 - mean_squared_error: 0.0482 - val_loss: 0.6864 - val_accuracy: 0.7475 - val_mean_squared_error: 0.0479\n",
      "Epoch 16/50\n",
      "33/33 [==============================] - 1s 23ms/step - loss: 0.5738 - accuracy: 0.7761 - mean_squared_error: 0.0401 - val_loss: 0.6700 - val_accuracy: 0.7778 - val_mean_squared_error: 0.0438\n",
      "Epoch 17/50\n",
      "33/33 [==============================] - 1s 24ms/step - loss: 0.5682 - accuracy: 0.8095 - mean_squared_error: 0.0409 - val_loss: 0.6569 - val_accuracy: 0.7879 - val_mean_squared_error: 0.0450\n",
      "Epoch 18/50\n",
      "33/33 [==============================] - 1s 21ms/step - loss: 0.5123 - accuracy: 0.7949 - mean_squared_error: 0.0371 - val_loss: 0.6422 - val_accuracy: 0.7879 - val_mean_squared_error: 0.0440\n",
      "Epoch 19/50\n",
      "33/33 [==============================] - 1s 22ms/step - loss: 0.5143 - accuracy: 0.8400 - mean_squared_error: 0.0359 - val_loss: 0.8227 - val_accuracy: 0.7677 - val_mean_squared_error: 0.0502\n",
      "Epoch 20/50\n",
      "33/33 [==============================] - 1s 22ms/step - loss: 0.5105 - accuracy: 0.8100 - mean_squared_error: 0.0359 - val_loss: 0.8096 - val_accuracy: 0.7475 - val_mean_squared_error: 0.0523\n",
      "Epoch 21/50\n",
      "33/33 [==============================] - 1s 21ms/step - loss: 0.4157 - accuracy: 0.8759 - mean_squared_error: 0.0306 - val_loss: 0.6735 - val_accuracy: 0.8081 - val_mean_squared_error: 0.0426\n",
      "Epoch 22/50\n",
      "33/33 [==============================] - 1s 22ms/step - loss: 0.3695 - accuracy: 0.8525 - mean_squared_error: 0.0272 - val_loss: 0.7269 - val_accuracy: 0.8081 - val_mean_squared_error: 0.0425\n",
      "Epoch 23/50\n",
      "33/33 [==============================] - 1s 22ms/step - loss: 0.4780 - accuracy: 0.8369 - mean_squared_error: 0.0339 - val_loss: 0.6883 - val_accuracy: 0.7778 - val_mean_squared_error: 0.0429\n",
      "Epoch 24/50\n",
      "33/33 [==============================] - 1s 22ms/step - loss: 0.4023 - accuracy: 0.8356 - mean_squared_error: 0.0300 - val_loss: 0.7717 - val_accuracy: 0.8182 - val_mean_squared_error: 0.0434\n",
      "Epoch 25/50\n",
      "33/33 [==============================] - 1s 21ms/step - loss: 0.4084 - accuracy: 0.8150 - mean_squared_error: 0.0306 - val_loss: 0.7663 - val_accuracy: 0.7879 - val_mean_squared_error: 0.0441\n",
      "Epoch 26/50\n",
      "33/33 [==============================] - 1s 22ms/step - loss: 0.4742 - accuracy: 0.8241 - mean_squared_error: 0.0341 - val_loss: 0.8055 - val_accuracy: 0.8081 - val_mean_squared_error: 0.0468\n",
      "Epoch 27/50\n",
      "33/33 [==============================] - 1s 26ms/step - loss: 0.2757 - accuracy: 0.9031 - mean_squared_error: 0.0203 - val_loss: 0.7621 - val_accuracy: 0.7980 - val_mean_squared_error: 0.0421\n",
      "Epoch 28/50\n",
      "33/33 [==============================] - 1s 23ms/step - loss: 0.2221 - accuracy: 0.9086 - mean_squared_error: 0.0173 - val_loss: 0.5825 - val_accuracy: 0.8182 - val_mean_squared_error: 0.0367\n",
      "Epoch 29/50\n",
      "33/33 [==============================] - 1s 22ms/step - loss: 0.2834 - accuracy: 0.8761 - mean_squared_error: 0.0212 - val_loss: 0.7078 - val_accuracy: 0.8283 - val_mean_squared_error: 0.0420\n",
      "Epoch 30/50\n",
      "33/33 [==============================] - 1s 24ms/step - loss: 0.2588 - accuracy: 0.8961 - mean_squared_error: 0.0198 - val_loss: 0.6510 - val_accuracy: 0.8182 - val_mean_squared_error: 0.0386\n",
      "Epoch 31/50\n",
      "33/33 [==============================] - 1s 24ms/step - loss: 0.2673 - accuracy: 0.8941 - mean_squared_error: 0.0208 - val_loss: 0.7085 - val_accuracy: 0.8182 - val_mean_squared_error: 0.0390\n",
      "Epoch 32/50\n",
      "33/33 [==============================] - 1s 25ms/step - loss: 0.2645 - accuracy: 0.8911 - mean_squared_error: 0.0217 - val_loss: 0.7359 - val_accuracy: 0.7778 - val_mean_squared_error: 0.0450\n",
      "Epoch 33/50\n",
      "33/33 [==============================] - 1s 21ms/step - loss: 0.4007 - accuracy: 0.8183 - mean_squared_error: 0.0309 - val_loss: 0.7680 - val_accuracy: 0.7980 - val_mean_squared_error: 0.0438\n",
      "Epoch 34/50\n",
      "33/33 [==============================] - 1s 21ms/step - loss: 0.3240 - accuracy: 0.8885 - mean_squared_error: 0.0251 - val_loss: 0.8478 - val_accuracy: 0.7980 - val_mean_squared_error: 0.0438\n",
      "Epoch 35/50\n",
      "33/33 [==============================] - 1s 21ms/step - loss: 0.2299 - accuracy: 0.9227 - mean_squared_error: 0.0171 - val_loss: 0.9151 - val_accuracy: 0.7980 - val_mean_squared_error: 0.0465\n",
      "Epoch 36/50\n",
      "33/33 [==============================] - 1s 21ms/step - loss: 0.2286 - accuracy: 0.9151 - mean_squared_error: 0.0177 - val_loss: 0.8100 - val_accuracy: 0.8081 - val_mean_squared_error: 0.0409\n",
      "Epoch 37/50\n",
      "33/33 [==============================] - 1s 22ms/step - loss: 0.2391 - accuracy: 0.9146 - mean_squared_error: 0.0184 - val_loss: 0.7909 - val_accuracy: 0.8182 - val_mean_squared_error: 0.0402\n",
      "Epoch 38/50\n",
      "33/33 [==============================] - 1s 25ms/step - loss: 0.2659 - accuracy: 0.8917 - mean_squared_error: 0.0207 - val_loss: 0.8653 - val_accuracy: 0.7879 - val_mean_squared_error: 0.0450\n",
      "Epoch 39/50\n",
      "33/33 [==============================] - 1s 21ms/step - loss: 0.2236 - accuracy: 0.8937 - mean_squared_error: 0.0175 - val_loss: 0.8789 - val_accuracy: 0.7980 - val_mean_squared_error: 0.0422\n",
      "Epoch 40/50\n",
      "33/33 [==============================] - 1s 21ms/step - loss: 0.2071 - accuracy: 0.9257 - mean_squared_error: 0.0150 - val_loss: 0.7896 - val_accuracy: 0.8081 - val_mean_squared_error: 0.0415\n",
      "Epoch 41/50\n",
      "33/33 [==============================] - 1s 22ms/step - loss: 0.2149 - accuracy: 0.9145 - mean_squared_error: 0.0165 - val_loss: 0.8088 - val_accuracy: 0.7980 - val_mean_squared_error: 0.0417\n",
      "Epoch 42/50\n",
      "33/33 [==============================] - 1s 22ms/step - loss: 0.3110 - accuracy: 0.8457 - mean_squared_error: 0.0241 - val_loss: 0.9016 - val_accuracy: 0.7778 - val_mean_squared_error: 0.0449\n",
      "Epoch 43/50\n",
      "33/33 [==============================] - 1s 23ms/step - loss: 0.2677 - accuracy: 0.8921 - mean_squared_error: 0.0214 - val_loss: 0.9025 - val_accuracy: 0.8081 - val_mean_squared_error: 0.0423\n",
      "Epoch 44/50\n",
      "33/33 [==============================] - 1s 21ms/step - loss: 0.2787 - accuracy: 0.8611 - mean_squared_error: 0.0224 - val_loss: 0.9268 - val_accuracy: 0.7879 - val_mean_squared_error: 0.0436\n",
      "Epoch 45/50\n",
      "33/33 [==============================] - 1s 21ms/step - loss: 0.2567 - accuracy: 0.9177 - mean_squared_error: 0.0188 - val_loss: 0.8533 - val_accuracy: 0.8182 - val_mean_squared_error: 0.0406\n",
      "Epoch 46/50\n",
      "33/33 [==============================] - 1s 22ms/step - loss: 0.2074 - accuracy: 0.9338 - mean_squared_error: 0.0147 - val_loss: 0.9147 - val_accuracy: 0.7778 - val_mean_squared_error: 0.0456\n",
      "Epoch 47/50\n",
      "33/33 [==============================] - 1s 21ms/step - loss: 0.2749 - accuracy: 0.8965 - mean_squared_error: 0.0200 - val_loss: 0.8332 - val_accuracy: 0.8081 - val_mean_squared_error: 0.0410\n",
      "Epoch 48/50\n",
      "33/33 [==============================] - 1s 20ms/step - loss: 0.3381 - accuracy: 0.8920 - mean_squared_error: 0.0233 - val_loss: 0.7465 - val_accuracy: 0.7980 - val_mean_squared_error: 0.0391\n",
      "Epoch 49/50\n",
      "33/33 [==============================] - 1s 20ms/step - loss: 0.2347 - accuracy: 0.8820 - mean_squared_error: 0.0189 - val_loss: 0.8906 - val_accuracy: 0.8485 - val_mean_squared_error: 0.0388\n",
      "Epoch 50/50\n",
      "33/33 [==============================] - 1s 21ms/step - loss: 0.2205 - accuracy: 0.9265 - mean_squared_error: 0.0152 - val_loss: 0.9502 - val_accuracy: 0.8182 - val_mean_squared_error: 0.0404\n"
     ]
    }
   ],
   "source": [
    "model_info = model.fit(X_train, y_train, batch_size=7, epochs=50, validation_data=(X_test, y_test), callbacks=callbacks_list)"
   ]
  },
  {
   "cell_type": "code",
   "execution_count": 88,
   "metadata": {},
   "outputs": [],
   "source": [
    "model.save('my_model.hdf5')"
   ]
  },
  {
   "cell_type": "markdown",
   "metadata": {},
   "source": [
    "# predict model"
   ]
  },
  {
   "cell_type": "code",
   "execution_count": 85,
   "metadata": {},
   "outputs": [
    {
     "name": "stdout",
     "output_type": "stream",
     "text": [
      "8/8 [==============================] - 0s 13ms/step - loss: 0.0111 - accuracy: 1.0000 - mean_squared_error: 4.0732e-04\n",
      "Accuracy (train): 100.00\n",
      "4/4 [==============================] - 0s 11ms/step - loss: 0.9502 - accuracy: 0.8182 - mean_squared_error: 0.0404\n",
      "Accuracy (test): 81.82\n"
     ]
    }
   ],
   "source": [
    "# evaluate the model\r\n",
    "score = model.evaluate(X_train, y_train)\r\n",
    "print('Accuracy (train): %.2f' % (score[1]*100))\r\n",
    "\r\n",
    "score = model.evaluate(X_test, y_test)\r\n",
    "print('Accuracy (test): %.2f' % (score[1]*100))"
   ]
  },
  {
   "cell_type": "code",
   "execution_count": 86,
   "metadata": {},
   "outputs": [
    {
     "data": {
      "image/png": "[encoded data removed]",
      "text/plain": "<Figure size 432x288 with 1 Axes>"
     },
     "metadata": {
      "needs_background": "light"
     },
     "output_type": "display_data"
    }
   ],
   "source": [
    "plt.plot(model_info.history['loss'], 'r', label='train')\r\n",
    "plt.plot(model_info.history['val_loss'], 'b', label='test')\r\n",
    "plt.title('model loss')\r\n",
    "plt.ylabel('loss')\r\n",
    "plt.xlabel('epoch')\r\n",
    "plt.legend()\r\n",
    "plt.show()"
   ]
  },
  {
   "cell_type": "code",
   "execution_count": 87,
   "metadata": {},
   "outputs": [
    {
     "data": {
      "image/png": "[encoded data removed]",
      "text/plain": "<Figure size 432x288 with 1 Axes>"
     },
     "metadata": {
      "needs_background": "light"
     },
     "output_type": "display_data"
    }
   ],
   "source": [
    "plt.plot(model_info.history['accuracy'], 'r', label='train')\r\n",
    "plt.plot(model_info.history['val_accuracy'], 'b', label='test')\r\n",
    "plt.title('model accuracy')\r\n",
    "plt.ylabel('accuracy')\r\n",
    "plt.xlabel('epoch')\r\n",
    "plt.legend()\r\n",
    "plt.show()"
   ]
  },
  {
   "cell_type": "code",
   "execution_count": 89,
   "metadata": {},
   "outputs": [
    {
     "name": "stdout",
     "output_type": "stream",
     "text": [
      "(1, 48, 48, 1)\n",
      "[[4.3241221e-01 1.3854183e-03 1.5588730e-02 7.6638490e-02 2.8039996e-05\n",
      "  4.6871677e-01 5.2303169e-03]]\n",
      "[5]\n",
      "[[0. 0. 0. 0. 0. 1. 0.]]\n"
     ]
    },
    {
     "data": {
      "image/png": "[encoded data removed]",
      "text/plain": "<Figure size 432x288 with 1 Axes>"
     },
     "metadata": {
      "needs_background": "light"
     },
     "output_type": "display_data"
    }
   ],
   "source": [
    "test_image = X_test[0:1]\r\n",
    "print (test_image.shape)\r\n",
    "\r\n",
    "print(model.predict(test_image))\r\n",
    "print(np.argmax(model.predict(test_image), axis=-1))\r\n",
    "print(y_test[0:1])\r\n",
    "\r\n",
    "plt.imshow(test_image[0],cmap=plt.get_cmap('gray'))\r\n",
    "plt.ylabel('prediction = %s' % getLabel(np.argmax(model.predict(test_image), axis=-1)[0]), fontsize=14)\r\n",
    "plt.show()"
   ]
  },
  {
   "cell_type": "code",
   "execution_count": 91,
   "metadata": {},
   "outputs": [
    {
     "name": "stdout",
     "output_type": "stream",
     "text": [
      "(1, 48, 48, 1)\n",
      "[[0. 0. 0. 0. 0. 0. 1.]]\n",
      "[6]\n",
      "[[0. 0. 0. 0. 0. 1. 0.]]\n"
     ]
    },
    {
     "data": {
      "image/png": "[encoded data removed]",
      "text/plain": "<Figure size 432x288 with 1 Axes>"
     },
     "metadata": {
      "needs_background": "light"
     },
     "output_type": "display_data"
    }
   ],
   "source": [
    "test_image = cv2.imread('test_images/surprise.jpg')\r\n",
    "test_img_gray = cv2.cvtColor(test_image, cv2.COLOR_BGR2GRAY)\r\n",
    "test_image_resize = cv2.resize(test_img_gray,(48,48))\r\n",
    "test_image_resize = np.reshape(test_image_resize, (1, 48, 48, 1))\r\n",
    "print (test_image_resize.shape)\r\n",
    "\r\n",
    "print(model.predict(test_image_resize))\r\n",
    "print(np.argmax(model.predict(test_image_resize), axis=-1))\r\n",
    "print(y_test[0:1])\r\n",
    "\r\n",
    "plt.imshow(test_image_resize[0],cmap=plt.get_cmap('gray'))\r\n",
    "plt.ylabel('prediction = %s' % getLabel(np.argmax(model.predict(test_image_resize), axis=-1)[0]), fontsize=14)\r\n",
    "plt.show()"
   ]
  },
  {
   "cell_type": "code",
   "execution_count": 94,
   "metadata": {},
   "outputs": [
    {
     "name": "stdout",
     "output_type": "stream",
     "text": [
      "(1, 48, 48, 1)\n",
      "[[1.7039677e-14 1.0045696e-10 6.8707151e-09 1.0709258e-11 1.0000000e+00\n",
      "  1.0714528e-15 5.6248612e-14]]\n",
      "[4]\n",
      "[[0. 0. 0. 0. 1. 0. 0.]]\n"
     ]
    },
    {
     "data": {
      "image/png": "[encoded data removed]",
      "text/plain": "<Figure size 432x288 with 1 Axes>"
     },
     "metadata": {
      "needs_background": "light"
     },
     "output_type": "display_data"
    }
   ],
   "source": [
    "test_image = X_test[33:34]\r\n",
    "print (test_image.shape)\r\n",
    "\r\n",
    "print(model.predict(test_image))\r\n",
    "print(np.argmax(model.predict(test_image), axis=-1))\r\n",
    "print(y_test[33:34])\r\n",
    "\r\n",
    "plt.imshow(test_image[0],cmap=plt.get_cmap('gray'))\r\n",
    "plt.ylabel('prediction = %s' % getLabel(np.argmax(model.predict(test_image), axis=-1)[0]), fontsize=14)\r\n",
    "plt.show()"
   ]
  }
 ],
 "metadata": {
  "kernelspec": {
   "display_name": "Python 3.9.0 64-bit",
   "name": "python390jvsc74a57bd0ac59ebe37160ed0dfa835113d9b8498d9f09ceb179beaac4002f036b9467c963"
  },
  "language_info": {
   "codemirror_mode": {
    "name": "ipython",
    "version": 3
   },
   "file_extension": ".py",
   "mimetype": "text/x-python",
   "name": "python",
   "nbconvert_exporter": "python",
   "pygments_lexer": "ipython3",
   "version": "3.9.0"
  },
  "orig_nbformat": 2
 },
 "nbformat": 4,
 "nbformat_minor": 2
}