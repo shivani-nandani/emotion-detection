{
 "cells": [
  {
   "cell_type": "code",
   "execution_count": 1,
   "metadata": {},
   "outputs": [],
   "source": [
    "import numpy as np \r\n",
    "import pandas as pd\r\n",
    "import os,cv2\r\n",
    "import numpy as np\r\n",
    "import matplotlib.pyplot as plt\r\n",
    "import matplotlib.image as mpimg\r\n",
    "\r\n",
    "from sklearn.utils import shuffle\r\n",
    "from sklearn.model_selection import train_test_split\r\n",
    "\r\n",
    "import tensorflow as tf\r\n",
    "import keras\r\n",
    "from keras_visualizer import visualizer\r\n",
    "from keras import callbacks\r\n",
    "from keras.utils import np_utils\r\n",
    "from keras.models import Sequential\r\n",
    "from keras.layers import Dense , Activation , Dropout ,Flatten\r\n",
    "from keras.layers.convolutional import Conv2D\r\n",
    "from keras.layers.convolutional import MaxPooling2D\r\n",
    "from keras.metrics import categorical_accuracy\r\n",
    "from keras.models import model_from_json\r\n",
    "from keras.callbacks import ModelCheckpoint\r\n",
    "from keras.optimizers import *\r\n",
    "from keras.layers.normalization import BatchNormalization\r\n",
    "import os"
   ]
  },
  {
   "cell_type": "markdown",
   "metadata": {},
   "source": [
    "# load data"
   ]
  },
  {
   "cell_type": "code",
   "execution_count": 2,
   "metadata": {},
   "outputs": [
    {
     "name": "stdout",
     "output_type": "stream",
     "text": [
      "Loaded the images of dataset-anger\n",
      "\n",
      "Loaded the images of dataset-contempt\n",
      "\n",
      "Loaded the images of dataset-disgust\n",
      "\n",
      "Loaded the images of dataset-fear\n",
      "\n",
      "Loaded the images of dataset-happy\n",
      "\n",
      "Loaded the images of dataset-sadness\n",
      "\n",
      "Loaded the images of dataset-surprise\n",
      "\n"
     ]
    },
    {
     "data": {
      "text/plain": [
       "(327, 48, 48)"
      ]
     },
     "execution_count": 2,
     "metadata": {},
     "output_type": "execute_result"
    }
   ],
   "source": [
    "data_path = 'dataset/CK+48'\r\n",
    "data_dir_list = os.listdir(data_path)\r\n",
    "\r\n",
    "img_data_list=[]\r\n",
    "\r\n",
    "for dataset in data_dir_list:\r\n",
    "    img_list=os.listdir(data_path+'/'+ dataset)\r\n",
    "    print ('Loaded the images of dataset-'+'{}\\n'.format(dataset))\r\n",
    "    for img in img_list:\r\n",
    "        input_img=cv2.imread(data_path + '/'+ dataset + '/'+ img )\r\n",
    "        input_img=cv2.cvtColor(input_img, cv2.COLOR_BGR2GRAY)\r\n",
    "        input_img_resize=cv2.resize(input_img,(48,48))\r\n",
    "        img_data_list.append(input_img_resize)\r\n",
    "        \r\n",
    "img_data = np.array(img_data_list)\r\n",
    "img_data = img_data.astype('float32')\r\n",
    "img_data = img_data/255\r\n",
    "img_data.shape"
   ]
  },
  {
   "cell_type": "markdown",
   "metadata": {},
   "source": [
    "# adding labels"
   ]
  },
  {
   "cell_type": "code",
   "execution_count": 3,
   "metadata": {},
   "outputs": [],
   "source": [
    "num_classes = 7\r\n",
    "\r\n",
    "num_of_samples = img_data.shape[0]\r\n",
    "labels = np.ones((num_of_samples,),dtype='int64')\r\n",
    "\r\n",
    "labels[0:45]=0      #45\r\n",
    "labels[46:63]=1     #18\r\n",
    "labels[64:122]=2    #59\r\n",
    "labels[123:147]=3   #25\r\n",
    "labels[148:216]=4   #69\r\n",
    "labels[217:244]=5   #28\r\n",
    "labels[245:327]=6   #83\r\n",
    "\r\n",
    "names = ['anger','contempt','disgust','fear','happy','sadness','surprise']\r\n",
    "\r\n",
    "def getLabel(id):\r\n",
    "    return ['anger','contempt','disgust','fear','happy','sadness','surprise'][id]"
   ]
  },
  {
   "cell_type": "markdown",
   "metadata": {},
   "source": [
    "# dividing into training and testing"
   ]
  },
  {
   "cell_type": "code",
   "execution_count": 4,
   "metadata": {},
   "outputs": [
    {
     "name": "stdout",
     "output_type": "stream",
     "text": [
      "(327, 7)\n",
      "(228, 48, 48, 1)\n",
      "(99, 48, 48, 1)\n"
     ]
    }
   ],
   "source": [
    "Y = np_utils.to_categorical(labels, num_classes)\r\n",
    "\r\n",
    "# x,y = shuffle(img_data,Y, random_state=2)\r\n",
    "\r\n",
    "X_train, X_test, y_train, y_test = train_test_split(img_data, Y, test_size=0.30, shuffle=True, random_state=42)\r\n",
    "# x_test = X_test\r\n",
    "X_train = np.reshape(X_train, (X_train.shape[0], 48, 48, 1))\r\n",
    "X_test = np.reshape(X_test, (X_test.shape[0], 48, 48, 1))\r\n",
    "\r\n",
    "print(Y.shape)\r\n",
    "print(X_train.shape)\r\n",
    "print(X_test.shape)"
   ]
  },
  {
   "cell_type": "markdown",
   "metadata": {},
   "source": [
    "# creating model"
   ]
  },
  {
   "cell_type": "code",
   "execution_count": 5,
   "metadata": {},
   "outputs": [
    {
     "name": "stdout",
     "output_type": "stream",
     "text": [
      "Model: \"sequential\"\n",
      "_________________________________________________________________\n",
      "Layer (type)                 Output Shape              Param #   \n",
      "=================================================================\n",
      "conv2d (Conv2D)              (None, 45, 45, 6)         102       \n",
      "_________________________________________________________________\n",
      "activation (Activation)      (None, 45, 45, 6)         0         \n",
      "_________________________________________________________________\n",
      "conv2d_1 (Conv2D)            (None, 45, 45, 16)        2416      \n",
      "_________________________________________________________________\n",
      "activation_1 (Activation)    (None, 45, 45, 16)        0         \n",
      "_________________________________________________________________\n",
      "max_pooling2d (MaxPooling2D) (None, 22, 22, 16)        0         \n",
      "_________________________________________________________________\n",
      "activation_2 (Activation)    (None, 22, 22, 16)        0         \n",
      "_________________________________________________________________\n",
      "conv2d_2 (Conv2D)            (None, 20, 20, 64)        9280      \n",
      "_________________________________________________________________\n",
      "activation_3 (Activation)    (None, 20, 20, 64)        0         \n",
      "_________________________________________________________________\n",
      "max_pooling2d_1 (MaxPooling2 (None, 10, 10, 64)        0         \n",
      "_________________________________________________________________\n",
      "flatten (Flatten)            (None, 6400)              0         \n",
      "_________________________________________________________________\n",
      "dense (Dense)                (None, 128)               819328    \n",
      "_________________________________________________________________\n",
      "dropout (Dropout)            (None, 128)               0         \n",
      "_________________________________________________________________\n",
      "dense_1 (Dense)              (None, 7)                 903       \n",
      "=================================================================\n",
      "Total params: 832,029\n",
      "Trainable params: 832,029\n",
      "Non-trainable params: 0\n",
      "_________________________________________________________________\n"
     ]
    }
   ],
   "source": [
    "input_shape=(48,48,1)\r\n",
    "\r\n",
    "model = Sequential()\r\n",
    "\r\n",
    "model.add(Conv2D(6, (4, 4), input_shape = input_shape))\r\n",
    "model.add(Activation('relu'))\r\n",
    "model.add(Conv2D(16, (5, 5), padding = 'same'))\r\n",
    "model.add(Activation('relu'))\r\n",
    "model.add(MaxPooling2D(pool_size=(2, 2)))\r\n",
    "model.add(Activation('relu'))\r\n",
    "model.add(Conv2D(64, (3, 3)))\r\n",
    "model.add(Activation('relu'))\r\n",
    "model.add(MaxPooling2D(pool_size=(2, 2)))\r\n",
    "model.add(Flatten())\r\n",
    "model.add(Dense(128, activation = 'relu'))\r\n",
    "model.add(Dropout(0.7))\r\n",
    "model.add(Dense(7, activation = 'softmax'))\r\n",
    "\r\n",
    "model.summary()\r\n",
    "\r\n",
    "visualizer(model, format='png')"
   ]
  },
  {
   "cell_type": "markdown",
   "metadata": {},
   "source": [
    "# training the model"
   ]
  },
  {
   "cell_type": "code",
   "execution_count": 6,
   "metadata": {},
   "outputs": [],
   "source": [
    "filename='model_train_new.csv'\r\n",
    "filepath = os.path.join(\"./emotion_detector_models/model_v6_{epoch}.hdf5\")\r\n",
    "\r\n",
    "checkpoint = keras.callbacks.ModelCheckpoint(filepath,\r\n",
    "                                             monitor='val_acc',\r\n",
    "                                             verbose=1,\r\n",
    "                                             save_best_only=True,\r\n",
    "                                             mode='max')\r\n",
    "# callbacks = [checkpoint]\r\n",
    "\r\n",
    "\r\n",
    "csv_log=callbacks.CSVLogger(filename, separator=',', append=False)\r\n",
    "# checkpoint = callbacks.ModelCheckpoint(filepath, monitor='val_loss', verbose=1, save_best_only=True, mode='min')\r\n",
    "callbacks_list = [csv_log,checkpoint]\r\n",
    "callbacks_list = [csv_log]"
   ]
  },
  {
   "cell_type": "code",
   "execution_count": 7,
   "metadata": {},
   "outputs": [],
   "source": [
    "model.compile(loss='categorical_crossentropy', optimizer='adam', metrics=['accuracy', 'MeanSquaredError'])"
   ]
  },
  {
   "cell_type": "code",
   "execution_count": 8,
   "metadata": {},
   "outputs": [
    {
     "name": "stdout",
     "output_type": "stream",
     "text": [
      "Epoch 1/50\n",
      "33/33 [==============================] - 45s 114ms/step - loss: 2.0106 - accuracy: 0.1174 - mean_squared_error: 0.1250 - val_loss: 1.8525 - val_accuracy: 0.2323 - val_mean_squared_error: 0.1185\n",
      "Epoch 2/50\n",
      "33/33 [==============================] - 1s 35ms/step - loss: 1.8688 - accuracy: 0.2193 - mean_squared_error: 0.1196 - val_loss: 1.8464 - val_accuracy: 0.4141 - val_mean_squared_error: 0.1182\n",
      "Epoch 3/50\n",
      "33/33 [==============================] - 1s 32ms/step - loss: 1.8618 - accuracy: 0.2262 - mean_squared_error: 0.1188 - val_loss: 1.8241 - val_accuracy: 0.2424 - val_mean_squared_error: 0.1169\n",
      "Epoch 4/50\n",
      "33/33 [==============================] - 1s 32ms/step - loss: 1.8194 - accuracy: 0.3197 - mean_squared_error: 0.1162 - val_loss: 1.7274 - val_accuracy: 0.4040 - val_mean_squared_error: 0.1111\n",
      "Epoch 5/50\n",
      "33/33 [==============================] - 1s 31ms/step - loss: 1.6523 - accuracy: 0.4064 - mean_squared_error: 0.1053 - val_loss: 1.4675 - val_accuracy: 0.4343 - val_mean_squared_error: 0.0913\n",
      "Epoch 6/50\n",
      "33/33 [==============================] - 1s 31ms/step - loss: 1.5028 - accuracy: 0.4682 - mean_squared_error: 0.0958 - val_loss: 1.3494 - val_accuracy: 0.6061 - val_mean_squared_error: 0.0854\n",
      "Epoch 7/50\n",
      "33/33 [==============================] - 1s 32ms/step - loss: 1.3886 - accuracy: 0.5231 - mean_squared_error: 0.0895 - val_loss: 1.1770 - val_accuracy: 0.5556 - val_mean_squared_error: 0.0754\n",
      "Epoch 8/50\n",
      "33/33 [==============================] - 1s 33ms/step - loss: 1.2267 - accuracy: 0.5241 - mean_squared_error: 0.0793 - val_loss: 1.0732 - val_accuracy: 0.6566 - val_mean_squared_error: 0.0695\n",
      "Epoch 9/50\n",
      "33/33 [==============================] - 1s 35ms/step - loss: 1.1802 - accuracy: 0.5878 - mean_squared_error: 0.0784 - val_loss: 1.0544 - val_accuracy: 0.5859 - val_mean_squared_error: 0.0689\n",
      "Epoch 10/50\n",
      "33/33 [==============================] - 1s 33ms/step - loss: 1.0818 - accuracy: 0.6108 - mean_squared_error: 0.0703 - val_loss: 0.9107 - val_accuracy: 0.7071 - val_mean_squared_error: 0.0599\n",
      "Epoch 11/50\n",
      "33/33 [==============================] - 1s 32ms/step - loss: 0.9130 - accuracy: 0.6235 - mean_squared_error: 0.0635 - val_loss: 0.9506 - val_accuracy: 0.6364 - val_mean_squared_error: 0.0629\n",
      "Epoch 12/50\n",
      "33/33 [==============================] - 1s 34ms/step - loss: 0.9100 - accuracy: 0.6664 - mean_squared_error: 0.0585 - val_loss: 0.8680 - val_accuracy: 0.6667 - val_mean_squared_error: 0.0576\n",
      "Epoch 13/50\n",
      "33/33 [==============================] - 1s 32ms/step - loss: 0.9357 - accuracy: 0.6410 - mean_squared_error: 0.0641 - val_loss: 0.8475 - val_accuracy: 0.6970 - val_mean_squared_error: 0.0552\n",
      "Epoch 14/50\n",
      "33/33 [==============================] - 1s 35ms/step - loss: 0.8778 - accuracy: 0.6272 - mean_squared_error: 0.0609 - val_loss: 0.8303 - val_accuracy: 0.7172 - val_mean_squared_error: 0.0540\n",
      "Epoch 15/50\n",
      "33/33 [==============================] - 1s 34ms/step - loss: 0.9709 - accuracy: 0.6146 - mean_squared_error: 0.0646 - val_loss: 0.8420 - val_accuracy: 0.7374 - val_mean_squared_error: 0.0526\n",
      "Epoch 16/50\n",
      "33/33 [==============================] - 1s 33ms/step - loss: 0.7826 - accuracy: 0.6436 - mean_squared_error: 0.0551 - val_loss: 0.7061 - val_accuracy: 0.7475 - val_mean_squared_error: 0.0482\n",
      "Epoch 17/50\n",
      "33/33 [==============================] - 1s 32ms/step - loss: 0.9052 - accuracy: 0.6043 - mean_squared_error: 0.0626 - val_loss: 0.8131 - val_accuracy: 0.6970 - val_mean_squared_error: 0.0525\n",
      "Epoch 18/50\n",
      "33/33 [==============================] - 1s 33ms/step - loss: 0.8019 - accuracy: 0.6675 - mean_squared_error: 0.0561 - val_loss: 0.7882 - val_accuracy: 0.7576 - val_mean_squared_error: 0.0505\n",
      "Epoch 19/50\n",
      "33/33 [==============================] - 1s 33ms/step - loss: 0.7485 - accuracy: 0.7240 - mean_squared_error: 0.0510 - val_loss: 0.7567 - val_accuracy: 0.7475 - val_mean_squared_error: 0.0476\n",
      "Epoch 20/50\n",
      "33/33 [==============================] - 1s 32ms/step - loss: 0.6847 - accuracy: 0.7386 - mean_squared_error: 0.0476 - val_loss: 0.7352 - val_accuracy: 0.7778 - val_mean_squared_error: 0.0463\n",
      "Epoch 21/50\n",
      "33/33 [==============================] - 1s 33ms/step - loss: 0.6205 - accuracy: 0.7935 - mean_squared_error: 0.0447 - val_loss: 0.6781 - val_accuracy: 0.7879 - val_mean_squared_error: 0.0453\n",
      "Epoch 22/50\n",
      "33/33 [==============================] - 1s 32ms/step - loss: 0.6653 - accuracy: 0.6877 - mean_squared_error: 0.0496 - val_loss: 0.6762 - val_accuracy: 0.8081 - val_mean_squared_error: 0.0421\n",
      "Epoch 23/50\n",
      "33/33 [==============================] - 1s 34ms/step - loss: 0.6824 - accuracy: 0.7245 - mean_squared_error: 0.0497 - val_loss: 0.7428 - val_accuracy: 0.7879 - val_mean_squared_error: 0.0473\n",
      "Epoch 24/50\n",
      "33/33 [==============================] - 1s 32ms/step - loss: 0.6253 - accuracy: 0.7373 - mean_squared_error: 0.0442 - val_loss: 0.8288 - val_accuracy: 0.7879 - val_mean_squared_error: 0.0468\n",
      "Epoch 25/50\n",
      "33/33 [==============================] - 1s 31ms/step - loss: 0.7142 - accuracy: 0.7014 - mean_squared_error: 0.0522 - val_loss: 0.6361 - val_accuracy: 0.8182 - val_mean_squared_error: 0.0399\n",
      "Epoch 26/50\n",
      "33/33 [==============================] - 1s 33ms/step - loss: 0.4788 - accuracy: 0.8097 - mean_squared_error: 0.0347 - val_loss: 0.6903 - val_accuracy: 0.8081 - val_mean_squared_error: 0.0420\n",
      "Epoch 27/50\n",
      "33/33 [==============================] - 1s 32ms/step - loss: 0.6731 - accuracy: 0.6844 - mean_squared_error: 0.0503 - val_loss: 0.7534 - val_accuracy: 0.7778 - val_mean_squared_error: 0.0451\n",
      "Epoch 28/50\n",
      "33/33 [==============================] - 1s 32ms/step - loss: 0.5112 - accuracy: 0.7567 - mean_squared_error: 0.0383 - val_loss: 0.6496 - val_accuracy: 0.8081 - val_mean_squared_error: 0.0397\n",
      "Epoch 29/50\n",
      "33/33 [==============================] - 1s 34ms/step - loss: 0.6040 - accuracy: 0.7333 - mean_squared_error: 0.0469 - val_loss: 0.6655 - val_accuracy: 0.8384 - val_mean_squared_error: 0.0404\n",
      "Epoch 30/50\n",
      "33/33 [==============================] - 1s 34ms/step - loss: 0.4609 - accuracy: 0.8059 - mean_squared_error: 0.0321 - val_loss: 0.6216 - val_accuracy: 0.8182 - val_mean_squared_error: 0.0375\n",
      "Epoch 31/50\n",
      "33/33 [==============================] - 1s 33ms/step - loss: 0.4739 - accuracy: 0.7728 - mean_squared_error: 0.0355 - val_loss: 0.7026 - val_accuracy: 0.8081 - val_mean_squared_error: 0.0442\n",
      "Epoch 32/50\n",
      "33/33 [==============================] - 1s 33ms/step - loss: 0.5990 - accuracy: 0.7505 - mean_squared_error: 0.0442 - val_loss: 0.6371 - val_accuracy: 0.8081 - val_mean_squared_error: 0.0402\n",
      "Epoch 33/50\n",
      "33/33 [==============================] - 1s 34ms/step - loss: 0.4819 - accuracy: 0.8130 - mean_squared_error: 0.0338 - val_loss: 0.7604 - val_accuracy: 0.8485 - val_mean_squared_error: 0.0406\n",
      "Epoch 34/50\n",
      "33/33 [==============================] - 1s 36ms/step - loss: 0.5635 - accuracy: 0.7715 - mean_squared_error: 0.0432 - val_loss: 0.7679 - val_accuracy: 0.8182 - val_mean_squared_error: 0.0400\n",
      "Epoch 35/50\n",
      "33/33 [==============================] - 1s 38ms/step - loss: 0.5573 - accuracy: 0.7529 - mean_squared_error: 0.0404 - val_loss: 0.6640 - val_accuracy: 0.8384 - val_mean_squared_error: 0.0373\n",
      "Epoch 36/50\n",
      "33/33 [==============================] - 1s 36ms/step - loss: 0.4390 - accuracy: 0.7991 - mean_squared_error: 0.0328 - val_loss: 0.7961 - val_accuracy: 0.8182 - val_mean_squared_error: 0.0446\n",
      "Epoch 37/50\n",
      "33/33 [==============================] - 1s 34ms/step - loss: 0.5409 - accuracy: 0.7560 - mean_squared_error: 0.0393 - val_loss: 0.7731 - val_accuracy: 0.8182 - val_mean_squared_error: 0.0387\n",
      "Epoch 38/50\n",
      "33/33 [==============================] - 1s 34ms/step - loss: 0.4533 - accuracy: 0.8468 - mean_squared_error: 0.0351 - val_loss: 0.7655 - val_accuracy: 0.8182 - val_mean_squared_error: 0.0394\n",
      "Epoch 39/50\n",
      "33/33 [==============================] - 1s 34ms/step - loss: 0.5001 - accuracy: 0.7608 - mean_squared_error: 0.0378 - val_loss: 0.7544 - val_accuracy: 0.8081 - val_mean_squared_error: 0.0384\n",
      "Epoch 40/50\n",
      "33/33 [==============================] - 1s 37ms/step - loss: 0.4974 - accuracy: 0.7631 - mean_squared_error: 0.0404 - val_loss: 0.6949 - val_accuracy: 0.8283 - val_mean_squared_error: 0.0374\n",
      "Epoch 41/50\n",
      "33/33 [==============================] - 1s 35ms/step - loss: 0.4791 - accuracy: 0.7910 - mean_squared_error: 0.0358 - val_loss: 0.8244 - val_accuracy: 0.8283 - val_mean_squared_error: 0.0382\n",
      "Epoch 42/50\n",
      "33/33 [==============================] - 1s 35ms/step - loss: 0.3823 - accuracy: 0.8159 - mean_squared_error: 0.0304 - val_loss: 0.9262 - val_accuracy: 0.7879 - val_mean_squared_error: 0.0420\n",
      "Epoch 43/50\n",
      "33/33 [==============================] - 1s 36ms/step - loss: 0.4234 - accuracy: 0.7646 - mean_squared_error: 0.0330 - val_loss: 0.7050 - val_accuracy: 0.8283 - val_mean_squared_error: 0.0372\n",
      "Epoch 44/50\n",
      "33/33 [==============================] - 1s 36ms/step - loss: 0.4366 - accuracy: 0.8250 - mean_squared_error: 0.0330 - val_loss: 0.7572 - val_accuracy: 0.8384 - val_mean_squared_error: 0.0356\n",
      "Epoch 45/50\n",
      "33/33 [==============================] - 1s 35ms/step - loss: 0.4697 - accuracy: 0.8079 - mean_squared_error: 0.0339 - val_loss: 0.7115 - val_accuracy: 0.8081 - val_mean_squared_error: 0.0395\n",
      "Epoch 46/50\n",
      "33/33 [==============================] - 1s 34ms/step - loss: 0.5359 - accuracy: 0.7461 - mean_squared_error: 0.0393 - val_loss: 0.7531 - val_accuracy: 0.8182 - val_mean_squared_error: 0.0378\n",
      "Epoch 47/50\n",
      "33/33 [==============================] - 1s 36ms/step - loss: 0.3821 - accuracy: 0.7999 - mean_squared_error: 0.0292 - val_loss: 0.8153 - val_accuracy: 0.7879 - val_mean_squared_error: 0.0391\n",
      "Epoch 48/50\n",
      "33/33 [==============================] - 1s 36ms/step - loss: 0.4223 - accuracy: 0.8047 - mean_squared_error: 0.0326 - val_loss: 1.0048 - val_accuracy: 0.8182 - val_mean_squared_error: 0.0385\n",
      "Epoch 49/50\n",
      "33/33 [==============================] - 1s 37ms/step - loss: 0.4514 - accuracy: 0.8102 - mean_squared_error: 0.0353 - val_loss: 0.8353 - val_accuracy: 0.8081 - val_mean_squared_error: 0.0398\n",
      "Epoch 50/50\n",
      "33/33 [==============================] - 1s 36ms/step - loss: 0.5164 - accuracy: 0.7819 - mean_squared_error: 0.0375 - val_loss: 0.7663 - val_accuracy: 0.8586 - val_mean_squared_error: 0.0333\n"
     ]
    }
   ],
   "source": [
    "model_info = model.fit(X_train, y_train, batch_size=7, epochs=50, validation_data=(X_test, y_test), callbacks=callbacks_list)"
   ]
  },
  {
   "cell_type": "code",
   "execution_count": 9,
   "metadata": {},
   "outputs": [],
   "source": [
    "model.save('my_model.hdf5')"
   ]
  },
  {
   "cell_type": "markdown",
   "metadata": {},
   "source": [
    "# predict model"
   ]
  },
  {
   "cell_type": "code",
   "execution_count": 10,
   "metadata": {},
   "outputs": [
    {
     "name": "stdout",
     "output_type": "stream",
     "text": [
      "8/8 [==============================] - 0s 22ms/step - loss: 0.1205 - accuracy: 0.9912 - mean_squared_error: 0.0074\n",
      "Accuracy (train): 99.12\n",
      "4/4 [==============================] - 0s 19ms/step - loss: 0.7663 - accuracy: 0.8586 - mean_squared_error: 0.0333\n",
      "Accuracy (test): 85.86\n"
     ]
    }
   ],
   "source": [
    "# evaluate the model\r\n",
    "score = model.evaluate(X_train, y_train)\r\n",
    "print('Accuracy (train): %.2f' % (score[1]*100))\r\n",
    "\r\n",
    "score = model.evaluate(X_test, y_test)\r\n",
    "print('Accuracy (test): %.2f' % (score[1]*100))"
   ]
  },
  {
   "cell_type": "code",
   "execution_count": 11,
   "metadata": {},
   "outputs": [
    {
     "data": {
      "image/png": "[encoded data removed]",
      "text/plain": [
       "<Figure size 432x288 with 1 Axes>"
      ]
     },
     "metadata": {
      "needs_background": "light"
     },
     "output_type": "display_data"
    }
   ],
   "source": [
    "plt.plot(model_info.history['loss'], 'r', label='train')\r\n",
    "plt.plot(model_info.history['val_loss'], 'b', label='test')\r\n",
    "plt.title('model loss')\r\n",
    "plt.ylabel('loss')\r\n",
    "plt.xlabel('epoch')\r\n",
    "plt.legend()\r\n",
    "plt.show()"
   ]
  },
  {
   "cell_type": "code",
   "execution_count": 12,
   "metadata": {},
   "outputs": [
    {
     "data": {
      "image/png": "[encoded data removed]",
      "text/plain": [
       "<Figure size 432x288 with 1 Axes>"
      ]
     },
     "metadata": {
      "needs_background": "light"
     },
     "output_type": "display_data"
    }
   ],
   "source": [
    "plt.plot(model_info.history['accuracy'], 'r', label='train')\r\n",
    "plt.plot(model_info.history['val_accuracy'], 'b', label='test')\r\n",
    "plt.title('model accuracy')\r\n",
    "plt.ylabel('accuracy')\r\n",
    "plt.xlabel('epoch')\r\n",
    "plt.legend()\r\n",
    "plt.show()"
   ]
  },
  {
   "cell_type": "code",
   "execution_count": 13,
   "metadata": {},
   "outputs": [
    {
     "name": "stdout",
     "output_type": "stream",
     "text": [
      "(1, 48, 48, 1)\n",
      "[[4.0553415e-01 1.0410837e-02 3.6354393e-02 5.0886296e-02 1.1399426e-04\n",
      "  4.8501006e-01 1.1690191e-02]]\n",
      "[5]\n",
      "[[0. 0. 0. 0. 0. 1. 0.]]\n"
     ]
    },
    {
     "data": {
      "image/png": "[encoded data removed]",
      "text/plain": [
       "<Figure size 432x288 with 1 Axes>"
      ]
     },
     "metadata": {
      "needs_background": "light"
     },
     "output_type": "display_data"
    }
   ],
   "source": [
    "test_image = X_test[0:1]\r\n",
    "print (test_image.shape)\r\n",
    "\r\n",
    "print(model.predict(test_image))\r\n",
    "print(np.argmax(model.predict(test_image), axis=-1))\r\n",
    "print(y_test[0:1])\r\n",
    "\r\n",
    "plt.imshow(test_image[0],cmap=plt.get_cmap('gray'))\r\n",
    "plt.ylabel('prediction = %s' % getLabel(np.argmax(model.predict(test_image), axis=-1)[0]), fontsize=14)\r\n",
    "plt.show()"
   ]
  },
  {
   "cell_type": "code",
   "execution_count": 14,
   "metadata": {},
   "outputs": [
    {
     "name": "stdout",
     "output_type": "stream",
     "text": [
      "(1, 48, 48, 1)\n",
      "[[0. 0. 0. 0. 0. 0. 1.]]\n",
      "[6]\n",
      "[[0. 0. 0. 0. 0. 1. 0.]]\n"
     ]
    },
    {
     "data": {
      "image/png": "[encoded data removed]",
      "text/plain": [
       "<Figure size 432x288 with 1 Axes>"
      ]
     },
     "metadata": {
      "needs_background": "light"
     },
     "output_type": "display_data"
    }
   ],
   "source": [
    "test_image = cv2.imread('test_images/surprise.jpg')\r\n",
    "test_img_gray = cv2.cvtColor(test_image, cv2.COLOR_BGR2GRAY)\r\n",
    "test_image_resize = cv2.resize(test_img_gray,(48,48))\r\n",
    "test_image_resize = np.reshape(test_image_resize, (1, 48, 48, 1))\r\n",
    "print (test_image_resize.shape)\r\n",
    "\r\n",
    "print(model.predict(test_image_resize))\r\n",
    "print(np.argmax(model.predict(test_image_resize), axis=-1))\r\n",
    "print(y_test[0:1])\r\n",
    "\r\n",
    "plt.imshow(test_image_resize[0],cmap=plt.get_cmap('gray'))\r\n",
    "plt.ylabel('prediction = %s' % getLabel(np.argmax(model.predict(test_image_resize), axis=-1)[0]), fontsize=14)\r\n",
    "plt.show()"
   ]
  },
  {
   "cell_type": "code",
   "execution_count": 15,
   "metadata": {},
   "outputs": [
    {
     "name": "stdout",
     "output_type": "stream",
     "text": [
      "(1, 48, 48, 1)\n",
      "[[4.3434993e-17 9.6506939e-13 1.5889606e-10 4.1156037e-11 1.0000000e+00\n",
      "  1.4210845e-17 5.4239200e-15]]\n",
      "[4]\n",
      "[[0. 0. 0. 0. 1. 0. 0.]]\n"
     ]
    },
    {
     "data": {
      "image/png": "[encoded data removed]",
      "text/plain": [
       "<Figure size 432x288 with 1 Axes>"
      ]
     },
     "metadata": {
      "needs_background": "light"
     },
     "output_type": "display_data"
    }
   ],
   "source": [
    "test_image = X_test[33:34]\r\n",
    "print (test_image.shape)\r\n",
    "\r\n",
    "print(model.predict(test_image))\r\n",
    "print(np.argmax(model.predict(test_image), axis=-1))\r\n",
    "print(y_test[33:34])\r\n",
    "\r\n",
    "plt.imshow(test_image[0],cmap=plt.get_cmap('gray'))\r\n",
    "plt.ylabel('prediction = %s' % getLabel(np.argmax(model.predict(test_image), axis=-1)[0]), fontsize=14)\r\n",
    "plt.show()"
   ]
  }
 ],
 "metadata": {
  "interpreter": {
   "hash": "ac59ebe37160ed0dfa835113d9b8498d9f09ceb179beaac4002f036b9467c963"
  },
  "kernelspec": {
   "display_name": "Python 3.9.0 64-bit",
   "name": "python3"
  },
  "language_info": {
   "codemirror_mode": {
    "name": "ipython",
    "version": 3
   },
   "file_extension": ".py",
   "mimetype": "text/x-python",
   "name": "python",
   "nbconvert_exporter": "python",
   "pygments_lexer": "ipython3",
   "version": "3.9.0"
  },
  "orig_nbformat": 2
 },
 "nbformat": 4,
 "nbformat_minor": 2
}