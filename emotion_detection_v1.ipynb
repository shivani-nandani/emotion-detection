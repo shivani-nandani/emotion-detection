{
 "cells": [
  {
   "cell_type": "code",
   "execution_count": 40,
   "metadata": {},
   "outputs": [],
   "source": [
    "import numpy as np \r\n",
    "import pandas as pd\r\n",
    "import os,cv2\r\n",
    "import numpy as np\r\n",
    "import matplotlib.pyplot as plt\r\n",
    "import matplotlib.image as mpimg\r\n",
    "\r\n",
    "from sklearn.utils import shuffle\r\n",
    "from sklearn.model_selection import train_test_split\r\n",
    "\r\n",
    "import keras\r\n",
    "from keras import callbacks\r\n",
    "from keras.utils import np_utils\r\n",
    "from keras.models import Sequential\r\n",
    "from keras.layers import Dense , Activation , Dropout ,Flatten\r\n",
    "from keras.layers.convolutional import Conv2D\r\n",
    "from keras.layers.convolutional import MaxPooling2D\r\n",
    "from keras.metrics import categorical_accuracy\r\n",
    "from keras.models import model_from_json\r\n",
    "from keras.callbacks import ModelCheckpoint\r\n",
    "from keras.optimizers import *\r\n",
    "from keras.layers.normalization import BatchNormalization\r\n",
    "import os"
   ]
  },
  {
   "cell_type": "markdown",
   "metadata": {},
   "source": [
    "# load data"
   ]
  },
  {
   "cell_type": "code",
   "execution_count": 6,
   "metadata": {},
   "outputs": [
    {
     "name": "stdout",
     "output_type": "stream",
     "text": [
      "Loaded the images of dataset-anger\n",
      "\n",
      "Loaded the images of dataset-contempt\n",
      "\n",
      "Loaded the images of dataset-disgust\n",
      "\n",
      "Loaded the images of dataset-fear\n",
      "\n",
      "Loaded the images of dataset-happy\n",
      "\n",
      "Loaded the images of dataset-sadness\n",
      "\n",
      "Loaded the images of dataset-surprise\n",
      "\n"
     ]
    },
    {
     "data": {
      "text/plain": "(981, 48, 48, 3)"
     },
     "execution_count": 6,
     "metadata": {},
     "output_type": "execute_result"
    }
   ],
   "source": [
    "data_path = 'dataset/CK+48'\r\n",
    "data_dir_list = os.listdir(data_path)\r\n",
    "\r\n",
    "img_data_list=[]\r\n",
    "\r\n",
    "for dataset in data_dir_list:\r\n",
    "    img_list=os.listdir(data_path+'/'+ dataset)\r\n",
    "    print ('Loaded the images of dataset-'+'{}\\n'.format(dataset))\r\n",
    "    for img in img_list:\r\n",
    "        input_img=cv2.imread(data_path + '/'+ dataset + '/'+ img )\r\n",
    "        #input_img=cv2.cvtColor(input_img, cv2.COLOR_BGR2GRAY)\r\n",
    "        input_img_resize=cv2.resize(input_img,(48,48))\r\n",
    "        img_data_list.append(input_img_resize)\r\n",
    "        \r\n",
    "img_data = np.array(img_data_list)\r\n",
    "img_data = img_data.astype('float32')\r\n",
    "img_data = img_data/255\r\n",
    "img_data.shape"
   ]
  },
  {
   "cell_type": "markdown",
   "metadata": {},
   "source": [
    "# adding labels"
   ]
  },
  {
   "cell_type": "code",
   "execution_count": 7,
   "metadata": {},
   "outputs": [],
   "source": [
    "num_classes = 7\r\n",
    "\r\n",
    "num_of_samples = img_data.shape[0]\r\n",
    "labels = np.ones((num_of_samples,),dtype='int64')\r\n",
    "\r\n",
    "labels[0:134]=0     #135\r\n",
    "labels[135:188]=1   #54\r\n",
    "labels[189:365]=2   #177\r\n",
    "labels[366:440]=3   #75\r\n",
    "labels[441:647]=4   #207\r\n",
    "labels[648:731]=5   #84\r\n",
    "labels[732:980]=6   #249\r\n",
    "\r\n",
    "names = ['anger','contempt','disgust','fear','happy','sadness','surprise']\r\n",
    "\r\n",
    "def getLabel(id):\r\n",
    "    return ['anger','contempt','disgust','fear','happy','sadness','surprise'][id]"
   ]
  },
  {
   "cell_type": "markdown",
   "metadata": {},
   "source": [
    "# dividing into training and testing"
   ]
  },
  {
   "cell_type": "code",
   "execution_count": 16,
   "metadata": {},
   "outputs": [
    {
     "name": "stdout",
     "output_type": "stream",
     "text": [
      "(981, 7)\n",
      "(686, 48, 48, 3)\n",
      "(295, 48, 48, 3)\n"
     ]
    }
   ],
   "source": [
    "Y = np_utils.to_categorical(labels, num_classes)\r\n",
    "\r\n",
    "# x,y = shuffle(img_data,Y, random_state=2)\r\n",
    "\r\n",
    "X_train, X_test, y_train, y_test = train_test_split(img_data, Y, test_size=0.30, shuffle=True, random_state=42)\r\n",
    "# x_test = X_test\r\n",
    "\r\n",
    "print(Y.shape)\r\n",
    "print(X_train.shape)\r\n",
    "print(X_test.shape)"
   ]
  },
  {
   "cell_type": "markdown",
   "metadata": {},
   "source": [
    "# creating model"
   ]
  },
  {
   "cell_type": "code",
   "execution_count": 45,
   "metadata": {},
   "outputs": [
    {
     "name": "stdout",
     "output_type": "stream",
     "text": [
      "Model: \"sequential_8\"\n",
      "_________________________________________________________________\n",
      "Layer (type)                 Output Shape              Param #   \n",
      "=================================================================\n",
      "conv2d_34 (Conv2D)           (None, 48, 48, 6)         456       \n",
      "_________________________________________________________________\n",
      "max_pooling2d_18 (MaxPooling (None, 24, 24, 6)         0         \n",
      "_________________________________________________________________\n",
      "conv2d_35 (Conv2D)           (None, 24, 24, 16)        2416      \n",
      "_________________________________________________________________\n",
      "activation_6 (Activation)    (None, 24, 24, 16)        0         \n",
      "_________________________________________________________________\n",
      "max_pooling2d_19 (MaxPooling (None, 12, 12, 16)        0         \n",
      "_________________________________________________________________\n",
      "conv2d_36 (Conv2D)           (None, 10, 10, 64)        9280      \n",
      "_________________________________________________________________\n",
      "max_pooling2d_20 (MaxPooling (None, 5, 5, 64)          0         \n",
      "_________________________________________________________________\n",
      "flatten_6 (Flatten)          (None, 1600)              0         \n",
      "_________________________________________________________________\n",
      "dense_2 (Dense)              (None, 128)               204928    \n",
      "_________________________________________________________________\n",
      "dropout_1 (Dropout)          (None, 128)               0         \n",
      "_________________________________________________________________\n",
      "dense_3 (Dense)              (None, 7)                 903       \n",
      "=================================================================\n",
      "Total params: 217,983\n",
      "Trainable params: 217,983\n",
      "Non-trainable params: 0\n",
      "_________________________________________________________________\n"
     ]
    }
   ],
   "source": [
    "input_shape=(48,48,3)\r\n",
    "\r\n",
    "model = Sequential()\r\n",
    "model.add(Conv2D(6, (5, 5), input_shape=input_shape, padding='same', activation = 'relu'))\r\n",
    "model.add(MaxPooling2D(pool_size=(2, 2)))\r\n",
    "\r\n",
    "model.add(Conv2D(16, (5, 5), padding='same', activation = 'relu'))\r\n",
    "model.add(Activation('relu'))\r\n",
    "model.add(MaxPooling2D(pool_size=(2, 2)))\r\n",
    "\r\n",
    "model.add(Conv2D(64, (3, 3), activation = 'relu'))\r\n",
    "model.add(MaxPooling2D(pool_size=(2, 2)))\r\n",
    "\r\n",
    "model.add(Flatten())\r\n",
    "model.add(Dense(128, activation = 'relu'))\r\n",
    "model.add(Dropout(0.5))\r\n",
    "model.add(Dense(7, activation = 'softmax'))\r\n",
    "\r\n",
    "# model.compile(loss='categorical_crossentropy', metrics=['accuracy'], optimizer='adam')\r\n",
    "\r\n",
    "# model = Sequential()\r\n",
    "\r\n",
    "# model.add(Conv2D(32, (3, 3), input_shape=(48,48,3), activation = 'relu'))\r\n",
    "# # model.add(Conv2D(32, kernel_size=(3, 3), activation='relu'),input_shape=(48,48,1))\r\n",
    "\r\n",
    "# model.add(Conv2D(64, kernel_size=(3, 3), activation='relu'))\r\n",
    "\r\n",
    "# model.add(MaxPooling2D(pool_size=(2, 2)))\r\n",
    "\r\n",
    "# model.add(Conv2D(128, kernel_size=(3, 3), activation='relu'))\r\n",
    "\r\n",
    "# model.add(MaxPooling2D(pool_size=(2, 2)))\r\n",
    "\r\n",
    "# model.add(Conv2D(128, kernel_size=(3, 3), activation='relu'))\r\n",
    "# model.add(MaxPooling2D(pool_size=(2, 2)))\r\n",
    "\r\n",
    "# model.add(Conv2D(7, kernel_size=(1, 1), activation='relu'))\r\n",
    "\r\n",
    "# model.add(Conv2D(7, kernel_size=(4, 4), activation='relu'))\r\n",
    "\r\n",
    "# model.add(Flatten())\r\n",
    "\r\n",
    "# model.add(Activation(\"softmax\"))\r\n",
    "\r\n",
    "model.summary()"
   ]
  },
  {
   "cell_type": "markdown",
   "metadata": {},
   "source": [
    "# training the model"
   ]
  },
  {
   "cell_type": "code",
   "execution_count": 46,
   "metadata": {},
   "outputs": [],
   "source": [
    "filename='model_train_new.csv'\r\n",
    "filepath = os.path.join(\"./emotion_detector_models/model_v6_{epoch}.hdf5\")\r\n",
    "\r\n",
    "checkpoint = keras.callbacks.ModelCheckpoint(filepath,\r\n",
    "                                             monitor='val_acc',\r\n",
    "                                             verbose=1,\r\n",
    "                                             save_best_only=True,\r\n",
    "                                             mode='max')\r\n",
    "# callbacks = [checkpoint]\r\n",
    "\r\n",
    "\r\n",
    "csv_log=callbacks.CSVLogger(filename, separator=',', append=False)\r\n",
    "# checkpoint = callbacks.ModelCheckpoint(filepath, monitor='val_loss', verbose=1, save_best_only=True, mode='min')\r\n",
    "callbacks_list = [csv_log,checkpoint]\r\n",
    "callbacks_list = [csv_log]"
   ]
  },
  {
   "cell_type": "code",
   "execution_count": 47,
   "metadata": {},
   "outputs": [],
   "source": [
    "model.compile(loss='categorical_crossentropy', optimizer='adam', metrics=['accuracy', 'MeanSquaredError'])"
   ]
  },
  {
   "cell_type": "code",
   "execution_count": 48,
   "metadata": {},
   "outputs": [
    {
     "name": "stdout",
     "output_type": "stream",
     "text": [
      "Epoch 1/50\n",
      "98/98 [==============================] - 3s 14ms/step - loss: 1.8683 - accuracy: 0.2375 - mean_squared_error: 0.1186 - val_loss: 1.3656 - val_accuracy: 0.5153 - val_mean_squared_error: 0.0880\n",
      "Epoch 2/50\n",
      "98/98 [==============================] - 1s 10ms/step - loss: 1.3147 - accuracy: 0.5278 - mean_squared_error: 0.0842 - val_loss: 1.0173 - val_accuracy: 0.7220 - val_mean_squared_error: 0.0676\n",
      "Epoch 3/50\n",
      "98/98 [==============================] - 1s 9ms/step - loss: 0.9067 - accuracy: 0.6368 - mean_squared_error: 0.0630 - val_loss: 0.6412 - val_accuracy: 0.7729 - val_mean_squared_error: 0.0460\n",
      "Epoch 4/50\n",
      "98/98 [==============================] - 1s 10ms/step - loss: 0.7690 - accuracy: 0.7200 - mean_squared_error: 0.0533 - val_loss: 0.5729 - val_accuracy: 0.8339 - val_mean_squared_error: 0.0392\n",
      "Epoch 5/50\n",
      "98/98 [==============================] - 1s 10ms/step - loss: 0.7123 - accuracy: 0.7422 - mean_squared_error: 0.0508 - val_loss: 0.4436 - val_accuracy: 0.8542 - val_mean_squared_error: 0.0316\n",
      "Epoch 6/50\n",
      "98/98 [==============================] - 1s 11ms/step - loss: 0.5078 - accuracy: 0.8152 - mean_squared_error: 0.0369 - val_loss: 0.4054 - val_accuracy: 0.8339 - val_mean_squared_error: 0.0303\n",
      "Epoch 7/50\n",
      "98/98 [==============================] - 1s 9ms/step - loss: 0.4613 - accuracy: 0.8216 - mean_squared_error: 0.0335 - val_loss: 0.3219 - val_accuracy: 0.8881 - val_mean_squared_error: 0.0224\n",
      "Epoch 8/50\n",
      "98/98 [==============================] - 1s 10ms/step - loss: 0.4517 - accuracy: 0.8589 - mean_squared_error: 0.0317 - val_loss: 0.3043 - val_accuracy: 0.9153 - val_mean_squared_error: 0.0212\n",
      "Epoch 9/50\n",
      "98/98 [==============================] - 1s 10ms/step - loss: 0.3933 - accuracy: 0.8470 - mean_squared_error: 0.0290 - val_loss: 0.2675 - val_accuracy: 0.9017 - val_mean_squared_error: 0.0183\n",
      "Epoch 10/50\n",
      "98/98 [==============================] - 1s 9ms/step - loss: 0.3641 - accuracy: 0.8675 - mean_squared_error: 0.0268 - val_loss: 0.1995 - val_accuracy: 0.9559 - val_mean_squared_error: 0.0122\n",
      "Epoch 11/50\n",
      "98/98 [==============================] - 1s 10ms/step - loss: 0.3198 - accuracy: 0.8845 - mean_squared_error: 0.0245 - val_loss: 0.1949 - val_accuracy: 0.9458 - val_mean_squared_error: 0.0126\n",
      "Epoch 12/50\n",
      "98/98 [==============================] - 1s 10ms/step - loss: 0.2733 - accuracy: 0.9130 - mean_squared_error: 0.0191 - val_loss: 0.2566 - val_accuracy: 0.9119 - val_mean_squared_error: 0.0178\n",
      "Epoch 13/50\n",
      "98/98 [==============================] - 1s 10ms/step - loss: 0.2427 - accuracy: 0.9199 - mean_squared_error: 0.0180 - val_loss: 0.2359 - val_accuracy: 0.9458 - val_mean_squared_error: 0.0134\n",
      "Epoch 14/50\n",
      "98/98 [==============================] - 1s 11ms/step - loss: 0.2340 - accuracy: 0.9112 - mean_squared_error: 0.0185 - val_loss: 0.1462 - val_accuracy: 0.9458 - val_mean_squared_error: 0.0088\n",
      "Epoch 15/50\n",
      "98/98 [==============================] - 1s 11ms/step - loss: 0.1732 - accuracy: 0.9467 - mean_squared_error: 0.0123 - val_loss: 0.1655 - val_accuracy: 0.9559 - val_mean_squared_error: 0.0097\n",
      "Epoch 16/50\n",
      "98/98 [==============================] - 1s 10ms/step - loss: 0.1978 - accuracy: 0.9171 - mean_squared_error: 0.0155 - val_loss: 0.1643 - val_accuracy: 0.9525 - val_mean_squared_error: 0.0099\n",
      "Epoch 17/50\n",
      "98/98 [==============================] - 1s 10ms/step - loss: 0.2120 - accuracy: 0.9322 - mean_squared_error: 0.0155 - val_loss: 0.1390 - val_accuracy: 0.9661 - val_mean_squared_error: 0.0087\n",
      "Epoch 18/50\n",
      "98/98 [==============================] - 1s 10ms/step - loss: 0.2139 - accuracy: 0.9285 - mean_squared_error: 0.0149 - val_loss: 0.1504 - val_accuracy: 0.9627 - val_mean_squared_error: 0.0086\n",
      "Epoch 19/50\n",
      "98/98 [==============================] - 1s 10ms/step - loss: 0.1451 - accuracy: 0.9532 - mean_squared_error: 0.0108 - val_loss: 0.1901 - val_accuracy: 0.9458 - val_mean_squared_error: 0.0111\n",
      "Epoch 20/50\n",
      "98/98 [==============================] - 1s 10ms/step - loss: 0.1338 - accuracy: 0.9479 - mean_squared_error: 0.0104 - val_loss: 0.1503 - val_accuracy: 0.9661 - val_mean_squared_error: 0.0077\n",
      "Epoch 21/50\n",
      "98/98 [==============================] - 1s 10ms/step - loss: 0.1614 - accuracy: 0.9468 - mean_squared_error: 0.0112 - val_loss: 0.1503 - val_accuracy: 0.9729 - val_mean_squared_error: 0.0070\n",
      "Epoch 22/50\n",
      "98/98 [==============================] - 1s 10ms/step - loss: 0.1311 - accuracy: 0.9648 - mean_squared_error: 0.0090 - val_loss: 0.1517 - val_accuracy: 0.9729 - val_mean_squared_error: 0.0075\n",
      "Epoch 23/50\n",
      "98/98 [==============================] - 1s 10ms/step - loss: 0.1387 - accuracy: 0.9479 - mean_squared_error: 0.0112 - val_loss: 0.1651 - val_accuracy: 0.9695 - val_mean_squared_error: 0.0088\n",
      "Epoch 24/50\n",
      "98/98 [==============================] - 1s 10ms/step - loss: 0.1418 - accuracy: 0.9447 - mean_squared_error: 0.0108 - val_loss: 0.1324 - val_accuracy: 0.9661 - val_mean_squared_error: 0.0075\n",
      "Epoch 25/50\n",
      "98/98 [==============================] - 1s 10ms/step - loss: 0.1474 - accuracy: 0.9625 - mean_squared_error: 0.0101 - val_loss: 0.1450 - val_accuracy: 0.9729 - val_mean_squared_error: 0.0073\n",
      "Epoch 26/50\n",
      "98/98 [==============================] - 1s 10ms/step - loss: 0.1046 - accuracy: 0.9555 - mean_squared_error: 0.0079 - val_loss: 0.2199 - val_accuracy: 0.9695 - val_mean_squared_error: 0.0074\n",
      "Epoch 27/50\n",
      "98/98 [==============================] - 1s 10ms/step - loss: 0.1249 - accuracy: 0.9550 - mean_squared_error: 0.0098 - val_loss: 0.2514 - val_accuracy: 0.9627 - val_mean_squared_error: 0.0102\n",
      "Epoch 28/50\n",
      "98/98 [==============================] - 1s 10ms/step - loss: 0.1926 - accuracy: 0.9202 - mean_squared_error: 0.0136 - val_loss: 0.2439 - val_accuracy: 0.9525 - val_mean_squared_error: 0.0107\n",
      "Epoch 29/50\n",
      "98/98 [==============================] - 1s 10ms/step - loss: 0.1584 - accuracy: 0.9516 - mean_squared_error: 0.0101 - val_loss: 0.1512 - val_accuracy: 0.9627 - val_mean_squared_error: 0.0068\n",
      "Epoch 30/50\n",
      "98/98 [==============================] - 1s 10ms/step - loss: 0.1019 - accuracy: 0.9700 - mean_squared_error: 0.0077 - val_loss: 0.1742 - val_accuracy: 0.9695 - val_mean_squared_error: 0.0074\n",
      "Epoch 31/50\n",
      "98/98 [==============================] - 1s 10ms/step - loss: 0.0861 - accuracy: 0.9664 - mean_squared_error: 0.0069 - val_loss: 0.1733 - val_accuracy: 0.9729 - val_mean_squared_error: 0.0075\n",
      "Epoch 32/50\n",
      "98/98 [==============================] - 1s 10ms/step - loss: 0.1047 - accuracy: 0.9698 - mean_squared_error: 0.0073 - val_loss: 0.1518 - val_accuracy: 0.9763 - val_mean_squared_error: 0.0053\n",
      "Epoch 33/50\n",
      "98/98 [==============================] - 1s 10ms/step - loss: 0.0816 - accuracy: 0.9778 - mean_squared_error: 0.0060 - val_loss: 0.1674 - val_accuracy: 0.9661 - val_mean_squared_error: 0.0070\n",
      "Epoch 34/50\n",
      "98/98 [==============================] - 1s 10ms/step - loss: 0.0849 - accuracy: 0.9720 - mean_squared_error: 0.0062 - val_loss: 0.1646 - val_accuracy: 0.9695 - val_mean_squared_error: 0.0069\n",
      "Epoch 35/50\n",
      "98/98 [==============================] - 1s 10ms/step - loss: 0.0985 - accuracy: 0.9690 - mean_squared_error: 0.0080 - val_loss: 0.1783 - val_accuracy: 0.9627 - val_mean_squared_error: 0.0084\n",
      "Epoch 36/50\n",
      "98/98 [==============================] - 1s 10ms/step - loss: 0.0910 - accuracy: 0.9611 - mean_squared_error: 0.0071 - val_loss: 0.1927 - val_accuracy: 0.9763 - val_mean_squared_error: 0.0059\n",
      "Epoch 37/50\n",
      "98/98 [==============================] - 1s 10ms/step - loss: 0.1081 - accuracy: 0.9626 - mean_squared_error: 0.0084 - val_loss: 0.1988 - val_accuracy: 0.9729 - val_mean_squared_error: 0.0068\n",
      "Epoch 38/50\n",
      "98/98 [==============================] - 1s 10ms/step - loss: 0.0762 - accuracy: 0.9685 - mean_squared_error: 0.0063 - val_loss: 0.2238 - val_accuracy: 0.9661 - val_mean_squared_error: 0.0078\n",
      "Epoch 39/50\n",
      "98/98 [==============================] - 1s 10ms/step - loss: 0.1078 - accuracy: 0.9585 - mean_squared_error: 0.0082 - val_loss: 0.1408 - val_accuracy: 0.9831 - val_mean_squared_error: 0.0049\n",
      "Epoch 40/50\n",
      "98/98 [==============================] - 1s 10ms/step - loss: 0.0786 - accuracy: 0.9805 - mean_squared_error: 0.0054 - val_loss: 0.1561 - val_accuracy: 0.9695 - val_mean_squared_error: 0.0061\n",
      "Epoch 41/50\n",
      "98/98 [==============================] - 1s 10ms/step - loss: 0.0633 - accuracy: 0.9783 - mean_squared_error: 0.0051 - val_loss: 0.1665 - val_accuracy: 0.9763 - val_mean_squared_error: 0.0054\n",
      "Epoch 42/50\n",
      "98/98 [==============================] - 1s 10ms/step - loss: 0.0844 - accuracy: 0.9618 - mean_squared_error: 0.0068 - val_loss: 0.1982 - val_accuracy: 0.9729 - val_mean_squared_error: 0.0062\n",
      "Epoch 43/50\n",
      "98/98 [==============================] - 1s 10ms/step - loss: 0.0795 - accuracy: 0.9721 - mean_squared_error: 0.0063 - val_loss: 0.1853 - val_accuracy: 0.9797 - val_mean_squared_error: 0.0058\n",
      "Epoch 44/50\n",
      "98/98 [==============================] - 1s 10ms/step - loss: 0.0642 - accuracy: 0.9729 - mean_squared_error: 0.0049 - val_loss: 0.1945 - val_accuracy: 0.9729 - val_mean_squared_error: 0.0074\n",
      "Epoch 45/50\n",
      "98/98 [==============================] - 1s 10ms/step - loss: 0.0861 - accuracy: 0.9641 - mean_squared_error: 0.0069 - val_loss: 0.2077 - val_accuracy: 0.9729 - val_mean_squared_error: 0.0066\n",
      "Epoch 46/50\n",
      "98/98 [==============================] - 1s 10ms/step - loss: 0.0861 - accuracy: 0.9698 - mean_squared_error: 0.0066 - val_loss: 0.1697 - val_accuracy: 0.9797 - val_mean_squared_error: 0.0054\n",
      "Epoch 47/50\n",
      "98/98 [==============================] - 1s 10ms/step - loss: 0.0724 - accuracy: 0.9754 - mean_squared_error: 0.0049 - val_loss: 0.1961 - val_accuracy: 0.9797 - val_mean_squared_error: 0.0053\n",
      "Epoch 48/50\n",
      "98/98 [==============================] - 1s 11ms/step - loss: 0.0385 - accuracy: 0.9835 - mean_squared_error: 0.0029 - val_loss: 0.2295 - val_accuracy: 0.9763 - val_mean_squared_error: 0.0059\n",
      "Epoch 49/50\n",
      "98/98 [==============================] - 1s 10ms/step - loss: 0.0653 - accuracy: 0.9766 - mean_squared_error: 0.0050 - val_loss: 0.1453 - val_accuracy: 0.9729 - val_mean_squared_error: 0.0063\n",
      "Epoch 50/50\n",
      "98/98 [==============================] - 1s 10ms/step - loss: 0.0754 - accuracy: 0.9778 - mean_squared_error: 0.0056 - val_loss: 0.1800 - val_accuracy: 0.9729 - val_mean_squared_error: 0.0069\n"
     ]
    }
   ],
   "source": [
    "model_info = model.fit(X_train, y_train, batch_size=7, epochs=50, validation_data=(X_test, y_test), callbacks=callbacks_list)"
   ]
  },
  {
   "cell_type": "markdown",
   "metadata": {},
   "source": [
    "# predict model"
   ]
  },
  {
   "cell_type": "code",
   "execution_count": 52,
   "metadata": {},
   "outputs": [
    {
     "data": {
      "image/png": "[encoded data removed]",
      "text/plain": "<Figure size 432x288 with 1 Axes>"
     },
     "metadata": {
      "needs_background": "light"
     },
     "output_type": "display_data"
    }
   ],
   "source": [
    "plt.plot(model_info.history['loss'], 'r', label='train')\r\n",
    "plt.plot(model_info.history['val_loss'], 'b', label='test')\r\n",
    "plt.title('model loss')\r\n",
    "plt.ylabel('loss')\r\n",
    "plt.xlabel('epoch')\r\n",
    "plt.legend()\r\n",
    "plt.show()"
   ]
  },
  {
   "cell_type": "code",
   "execution_count": 54,
   "metadata": {},
   "outputs": [
    {
     "data": {
      "image/png": "[encoded data removed]",
      "text/plain": "<Figure size 432x288 with 1 Axes>"
     },
     "metadata": {
      "needs_background": "light"
     },
     "output_type": "display_data"
    }
   ],
   "source": [
    "plt.plot(model_info.history['accuracy'], 'r', label='train')\r\n",
    "plt.plot(model_info.history['val_accuracy'], 'b', label='test')\r\n",
    "plt.title('model accuracy')\r\n",
    "plt.ylabel('loss')\r\n",
    "plt.xlabel('epoch')\r\n",
    "plt.legend()\r\n",
    "plt.show()"
   ]
  },
  {
   "cell_type": "code",
   "execution_count": 60,
   "metadata": {},
   "outputs": [
    {
     "name": "stdout",
     "output_type": "stream",
     "text": [
      "22/22 [==============================] - 0s 7ms/step - loss: 0.0226 - accuracy: 0.9927 - mean_squared_error: 0.0016\n",
      "Accuracy (train): 99.27\n",
      "10/10 [==============================] - 0s 7ms/step - loss: 0.1800 - accuracy: 0.9729 - mean_squared_error: 0.0069\n",
      "Accuracy (test): 97.29\n"
     ]
    }
   ],
   "source": [
    "# evaluate the model\r\n",
    "score = model.evaluate(X_train, y_train)\r\n",
    "print('Accuracy (train): %.2f' % (score[1]*100))\r\n",
    "\r\n",
    "score = model.evaluate(X_test, y_test)\r\n",
    "print('Accuracy (test): %.2f' % (score[1]*100))"
   ]
  },
  {
   "cell_type": "code",
   "execution_count": 77,
   "metadata": {},
   "outputs": [
    {
     "name": "stdout",
     "output_type": "stream",
     "text": [
      "(1, 48, 48, 3)\n",
      "[[1.9730804e-09 3.2948919e-05 3.0429953e-13 2.5515305e-05 8.7338401e-14\n",
      "  1.0454320e-08 9.9994159e-01]]\n",
      "[6]\n",
      "[[0. 0. 0. 0. 0. 0. 1.]]\n"
     ]
    },
    {
     "data": {
      "image/png": "[encoded data removed]",
      "text/plain": "<Figure size 432x288 with 1 Axes>"
     },
     "metadata": {
      "needs_background": "light"
     },
     "output_type": "display_data"
    }
   ],
   "source": [
    "test_image = X_test[0:1]\r\n",
    "print (test_image.shape)\r\n",
    "\r\n",
    "print(model.predict(test_image))\r\n",
    "print(np.argmax(model.predict(test_image), axis=-1))\r\n",
    "print(y_test[0:1])\r\n",
    "\r\n",
    "plt.imshow(test_image[0],cmap=plt.get_cmap('gray'))\r\n",
    "plt.ylabel('prediction = %s' % getLabel(np.argmax(model.predict(test_image), axis=-1)[0]), fontsize=14)\r\n",
    "plt.show()"
   ]
  }
 ],
 "metadata": {
  "kernelspec": {
   "display_name": "Python 3.9.0 64-bit",
   "name": "python390jvsc74a57bd0ac59ebe37160ed0dfa835113d9b8498d9f09ceb179beaac4002f036b9467c963"
  },
  "language_info": {
   "codemirror_mode": {
    "name": "ipython",
    "version": 3
   },
   "file_extension": ".py",
   "mimetype": "text/x-python",
   "name": "python",
   "nbconvert_exporter": "python",
   "pygments_lexer": "ipython3",
   "version": "3.9.0"
  },
  "orig_nbformat": 2
 },
 "nbformat": 4,
 "nbformat_minor": 2
}