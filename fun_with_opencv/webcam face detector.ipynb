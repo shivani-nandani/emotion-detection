{
 "cells": [
  {
   "cell_type": "code",
   "execution_count": 2,
   "metadata": {},
   "outputs": [],
   "source": [
    "import cv2\n",
    "import face_recognition\n",
    "from matplotlib import pyplot as plt\n",
    "from PIL import Image\n",
    "import numpy as np\n",
    "from keras.models import load_model"
   ]
  },
  {
   "cell_type": "code",
   "execution_count": 28,
   "metadata": {},
   "outputs": [],
   "source": [
    "face_cascade = cv2.CascadeClassifier('haarcascade_frontalface_default.xml')\n",
    "emotion_dict= {'Angry': 0, 'Sad': 5, 'Neutral': 4, 'Disgust': 1, 'Surprise': 6, 'Fear': 2, 'Happy': 3}\n",
    "model = load_model('my_model.hdf5')\n",
    "\n",
    "video = cv2.VideoCapture(0)\n",
    "\n",
    "while True:\n",
    "    check, frame = video.read()\n",
    "    faces = face_cascade.detectMultiScale(frame, scaleFactor=1.1, minNeighbors=5)\n",
    "    for x,y,w,h in faces:\n",
    "        frame = cv2.rectangle(frame, (x,y), (x+w,y+h), (0,255,0), 3)\n",
    "        face = frame[y:y+h, x:x+w]\n",
    "        face = cv2.resize(face,(48,48))\n",
    "        # face = cv2.cvtColor(face, cv2.COLOR_BGR2GRAY)\n",
    "        face = np.reshape(face, (1, 48, 48, 3))\n",
    "\n",
    "        predicted_class = np.argmax(model.predict(face))\n",
    "        label_map = dict((v,k) for k,v in emotion_dict.items()) \n",
    "        predicted_label = label_map[predicted_class]\n",
    "\n",
    "        frame = cv2.putText(frame, predicted_label, (x-10,y-10), cv2.FONT_HERSHEY_SIMPLEX, 1, (255,255,255), 2, cv2.LINE_AA)\n",
    "\n",
    "    \n",
    "    cv2.imshow('Emotion Detector', frame)\n",
    "\n",
    "    key = cv2.waitKey(1)\n",
    "\n",
    "    if key == ord('q'):\n",
    "        break\n",
    "\n",
    "video.release()\n",
    "cv2.destroyAllWindows()"
   ]
  }
 ],
 "metadata": {
  "kernelspec": {
   "name": "python394jvsc74a57bd00ceb7df3098b8ddd2b0ae54ebbe153ee896dd252f19827a873e4983546c47608",
   "display_name": "Python 3.9.4 64-bit"
  },
  "language_info": {
   "codemirror_mode": {
    "name": "ipython",
    "version": 3
   },
   "file_extension": ".py",
   "mimetype": "text/x-python",
   "name": "python",
   "nbconvert_exporter": "python",
   "pygments_lexer": "ipython3",
   "version": "3.9.4"
  },
  "metadata": {
   "interpreter": {
    "hash": "0ceb7df3098b8ddd2b0ae54ebbe153ee896dd252f19827a873e4983546c47608"
   }
  }
 },
 "nbformat": 4,
 "nbformat_minor": 2
}