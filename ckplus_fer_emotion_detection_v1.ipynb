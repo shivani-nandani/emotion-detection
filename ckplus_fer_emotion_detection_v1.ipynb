{
 "cells": [
  {
   "cell_type": "code",
   "execution_count": 1,
   "metadata": {},
   "outputs": [
    {
     "ename": "AttributeError",
     "evalue": "module 'keras.utils.generic_utils' has no attribute 'populate_dict_with_module_objects'",
     "output_type": "error",
     "traceback": [
      "\u001b[1;31m---------------------------------------------------------------------------\u001b[0m",
      "\u001b[1;31mAttributeError\u001b[0m                            Traceback (most recent call last)",
      "\u001b[1;32m~\\AppData\\Local\\Temp/ipykernel_10096/3241165613.py\u001b[0m in \u001b[0;36m<module>\u001b[1;34m\u001b[0m\n\u001b[0;32m     10\u001b[0m \u001b[1;33m\u001b[0m\u001b[0m\n\u001b[0;32m     11\u001b[0m \u001b[1;32mimport\u001b[0m \u001b[0mtensorflow\u001b[0m \u001b[1;32mas\u001b[0m \u001b[0mtf\u001b[0m\u001b[1;33m\u001b[0m\u001b[1;33m\u001b[0m\u001b[0m\n\u001b[1;32m---> 12\u001b[1;33m \u001b[1;32mimport\u001b[0m \u001b[0mkeras\u001b[0m\u001b[1;33m\u001b[0m\u001b[1;33m\u001b[0m\u001b[0m\n\u001b[0m\u001b[0;32m     13\u001b[0m \u001b[1;32mfrom\u001b[0m \u001b[0mkeras_visualizer\u001b[0m \u001b[1;32mimport\u001b[0m \u001b[0mvisualizer\u001b[0m\u001b[1;33m\u001b[0m\u001b[1;33m\u001b[0m\u001b[0m\n\u001b[0;32m     14\u001b[0m \u001b[1;32mfrom\u001b[0m \u001b[0mkeras\u001b[0m \u001b[1;32mimport\u001b[0m \u001b[0mcallbacks\u001b[0m\u001b[1;33m\u001b[0m\u001b[1;33m\u001b[0m\u001b[0m\n",
      "\u001b[1;32mC:\\Program Files\\Python39\\lib\\site-packages\\keras\\__init__.py\u001b[0m in \u001b[0;36m<module>\u001b[1;34m\u001b[0m\n\u001b[0;32m     18\u001b[0m \u001b[1;32mfrom\u001b[0m \u001b[1;33m.\u001b[0m \u001b[1;32mimport\u001b[0m \u001b[0mcallbacks\u001b[0m\u001b[1;33m\u001b[0m\u001b[1;33m\u001b[0m\u001b[0m\n\u001b[0;32m     19\u001b[0m \u001b[1;32mfrom\u001b[0m \u001b[1;33m.\u001b[0m \u001b[1;32mimport\u001b[0m \u001b[0mconstraints\u001b[0m\u001b[1;33m\u001b[0m\u001b[1;33m\u001b[0m\u001b[0m\n\u001b[1;32m---> 20\u001b[1;33m \u001b[1;32mfrom\u001b[0m \u001b[1;33m.\u001b[0m \u001b[1;32mimport\u001b[0m \u001b[0minitializers\u001b[0m\u001b[1;33m\u001b[0m\u001b[1;33m\u001b[0m\u001b[0m\n\u001b[0m\u001b[0;32m     21\u001b[0m \u001b[1;32mfrom\u001b[0m \u001b[1;33m.\u001b[0m \u001b[1;32mimport\u001b[0m \u001b[0mmetrics\u001b[0m\u001b[1;33m\u001b[0m\u001b[1;33m\u001b[0m\u001b[0m\n\u001b[0;32m     22\u001b[0m \u001b[1;32mfrom\u001b[0m \u001b[1;33m.\u001b[0m \u001b[1;32mimport\u001b[0m \u001b[0mmodels\u001b[0m\u001b[1;33m\u001b[0m\u001b[1;33m\u001b[0m\u001b[0m\n",
      "\u001b[1;32mC:\\Program Files\\Python39\\lib\\site-packages\\keras\\initializers\\__init__.py\u001b[0m in \u001b[0;36m<module>\u001b[1;34m\u001b[0m\n\u001b[0;32m    122\u001b[0m \u001b[1;31m# from ALL_OBJECTS. We make no guarantees as to whether these objects will\u001b[0m\u001b[1;33m\u001b[0m\u001b[1;33m\u001b[0m\u001b[0m\n\u001b[0;32m    123\u001b[0m \u001b[1;31m# using their correct version.\u001b[0m\u001b[1;33m\u001b[0m\u001b[1;33m\u001b[0m\u001b[0m\n\u001b[1;32m--> 124\u001b[1;33m \u001b[0mpopulate_deserializable_objects\u001b[0m\u001b[1;33m(\u001b[0m\u001b[1;33m)\u001b[0m\u001b[1;33m\u001b[0m\u001b[1;33m\u001b[0m\u001b[0m\n\u001b[0m\u001b[0;32m    125\u001b[0m \u001b[0mglobals\u001b[0m\u001b[1;33m(\u001b[0m\u001b[1;33m)\u001b[0m\u001b[1;33m.\u001b[0m\u001b[0mupdate\u001b[0m\u001b[1;33m(\u001b[0m\u001b[0mLOCAL\u001b[0m\u001b[1;33m.\u001b[0m\u001b[0mALL_OBJECTS\u001b[0m\u001b[1;33m)\u001b[0m\u001b[1;33m\u001b[0m\u001b[1;33m\u001b[0m\u001b[0m\n\u001b[0;32m    126\u001b[0m \u001b[1;33m\u001b[0m\u001b[0m\n",
      "\u001b[1;32mC:\\Program Files\\Python39\\lib\\site-packages\\keras\\initializers\\__init__.py\u001b[0m in \u001b[0;36mpopulate_deserializable_objects\u001b[1;34m()\u001b[0m\n\u001b[0;32m     80\u001b[0m     \u001b[0mv2_objs\u001b[0m \u001b[1;33m=\u001b[0m \u001b[1;33m{\u001b[0m\u001b[1;33m}\u001b[0m\u001b[1;33m\u001b[0m\u001b[1;33m\u001b[0m\u001b[0m\n\u001b[0;32m     81\u001b[0m     \u001b[0mbase_cls\u001b[0m \u001b[1;33m=\u001b[0m \u001b[0minitializers_v2\u001b[0m\u001b[1;33m.\u001b[0m\u001b[0mInitializer\u001b[0m\u001b[1;33m\u001b[0m\u001b[1;33m\u001b[0m\u001b[0m\n\u001b[1;32m---> 82\u001b[1;33m     generic_utils.populate_dict_with_module_objects(\n\u001b[0m\u001b[0;32m     83\u001b[0m         \u001b[0mv2_objs\u001b[0m\u001b[1;33m,\u001b[0m\u001b[1;33m\u001b[0m\u001b[1;33m\u001b[0m\u001b[0m\n\u001b[0;32m     84\u001b[0m         \u001b[1;33m[\u001b[0m\u001b[0minitializers_v2\u001b[0m\u001b[1;33m]\u001b[0m\u001b[1;33m,\u001b[0m\u001b[1;33m\u001b[0m\u001b[1;33m\u001b[0m\u001b[0m\n",
      "\u001b[1;31mAttributeError\u001b[0m: module 'keras.utils.generic_utils' has no attribute 'populate_dict_with_module_objects'"
     ]
    }
   ],
   "source": [
    "import numpy as np \n",
    "import pandas as pd\n",
    "import os,cv2\n",
    "import numpy as np\n",
    "import matplotlib.pyplot as plt\n",
    "import matplotlib.image as mpimg\n",
    "\n",
    "from sklearn.utils import shuffle\n",
    "from sklearn.model_selection import train_test_split\n",
    "\n",
    "import tensorflow as tf\n",
    "import keras\n",
    "from keras_visualizer import visualizer\n",
    "from keras import callbacks\n",
    "from keras.utils import np_utils\n",
    "from keras.models import Sequential\n",
    "from keras.layers import Dense , Activation , Dropout ,Flatten\n",
    "from keras.layers.convolutional import Conv2D\n",
    "from keras.layers.convolutional import MaxPooling2D\n",
    "from keras.metrics import categorical_accuracy\n",
    "from keras.models import model_from_json\n",
    "from keras.callbacks import ModelCheckpoint\n",
    "from keras.optimizers import *\n",
    "from keras.layers.normalization import BatchNormalization\n",
    "import os"
   ]
  },
  {
   "cell_type": "markdown",
   "metadata": {},
   "source": [
    "# load data and add labels "
   ]
  },
  {
   "cell_type": "code",
   "execution_count": 2,
   "metadata": {},
   "outputs": [],
   "source": [
    "names = ['anger','contempt','disgust','fear','happy','sadness','surprise', 'neutral']\n",
    "\n",
    "num_classes = len(names)\n",
    "\n",
    "labels = []\n",
    "\n",
    "def getLabel(id):\n",
    "    return ['anger','contempt','disgust','fear','happy','sadness','surprise', 'neutral'][id]\n",
    "\n",
    "def getLabelNum(emotion):\n",
    "    label_dict = dict({\n",
    "        'anger'     : 0,\n",
    "        'angry'     : 0,\n",
    "        'contempt'  : 1,\n",
    "        'disgust'   : 2,\n",
    "        'fear'      : 3,\n",
    "        'happy'     : 4,\n",
    "        'sadness'   : 5,\n",
    "        'sad'       : 5,\n",
    "        'surprise'  : 6,\n",
    "        'neutral'   : 7\n",
    "    })\n",
    "    return label_dict[emotion]"
   ]
  },
  {
   "cell_type": "markdown",
   "metadata": {},
   "source": [
    "## CK+ dataset"
   ]
  },
  {
   "cell_type": "code",
   "execution_count": 3,
   "metadata": {},
   "outputs": [
    {
     "name": "stdout",
     "output_type": "stream",
     "text": [
      "Loaded the images of dataset-anger\n",
      "\n",
      "Loaded the images of dataset-contempt\n",
      "\n",
      "Loaded the images of dataset-disgust\n",
      "\n",
      "Loaded the images of dataset-fear\n",
      "\n",
      "Loaded the images of dataset-happy\n",
      "\n",
      "Loaded the images of dataset-sadness\n",
      "\n",
      "Loaded the images of dataset-surprise\n",
      "\n"
     ]
    },
    {
     "data": {
      "text/plain": [
       "(327, 48, 48)"
      ]
     },
     "execution_count": 3,
     "metadata": {},
     "output_type": "execute_result"
    }
   ],
   "source": [
    "data_path = 'dataset/CK+48'\n",
    "data_dir_list = os.listdir(data_path)\n",
    "\n",
    "img_data_list=[]\n",
    "\n",
    "for dataset in data_dir_list:\n",
    "    img_list=os.listdir(data_path+'/'+ dataset)\n",
    "    print ('Loaded the images of dataset-'+'{}\\n'.format(dataset))\n",
    "    for img in img_list:\n",
    "        input_img=cv2.imread(data_path + '/'+ dataset + '/'+ img )\n",
    "        input_img=cv2.cvtColor(input_img, cv2.COLOR_BGR2GRAY)\n",
    "        input_img_resize=cv2.resize(input_img,(48,48))\n",
    "        img_data_list.append(input_img_resize)\n",
    "        labels.append(getLabelNum(dataset))\n",
    "        \n",
    "img_data = np.array(img_data_list)\n",
    "img_data = img_data.astype('float32')\n",
    "img_data = img_data/255\n",
    "img_data.shape"
   ]
  },
  {
   "cell_type": "markdown",
   "metadata": {},
   "source": [
    "## FER dataset"
   ]
  },
  {
   "cell_type": "code",
   "execution_count": 4,
   "metadata": {},
   "outputs": [
    {
     "name": "stdout",
     "output_type": "stream",
     "text": [
      "Loaded the images of dataset-angry\n",
      "\n",
      "Loaded the images of dataset-disgust\n",
      "\n",
      "Loaded the images of dataset-fear\n",
      "\n",
      "Loaded the images of dataset-happy\n",
      "\n",
      "Loaded the images of dataset-neutral\n",
      "\n",
      "Loaded the images of dataset-sad\n",
      "\n",
      "Loaded the images of dataset-surprise\n",
      "\n"
     ]
    },
    {
     "data": {
      "text/plain": [
       "(36214, 48, 48)"
      ]
     },
     "execution_count": 4,
     "metadata": {},
     "output_type": "execute_result"
    }
   ],
   "source": [
    "data_path = 'dataset/fer'\n",
    "data_dir_list = os.listdir(data_path)\n",
    "\n",
    "for dataset in data_dir_list:\n",
    "    img_list=os.listdir(data_path+'/'+ dataset)\n",
    "    print ('Loaded the images of dataset-'+'{}\\n'.format(dataset))\n",
    "    for img in img_list:\n",
    "        input_img=cv2.imread(data_path + '/'+ dataset + '/'+ img )\n",
    "        input_img=cv2.cvtColor(input_img, cv2.COLOR_BGR2GRAY)\n",
    "        input_img_resize=cv2.resize(input_img,(48,48))\n",
    "        img_data_list.append(input_img_resize)\n",
    "        labels.append(getLabelNum(dataset))\n",
    "        \n",
    "img_data = np.array(img_data_list)\n",
    "img_data = img_data.astype('float32')\n",
    "img_data = img_data/255\n",
    "img_data.shape"
   ]
  },
  {
   "cell_type": "code",
   "execution_count": 5,
   "metadata": {},
   "outputs": [
    {
     "data": {
      "text/plain": [
       "(36214, (36214,))"
      ]
     },
     "execution_count": 5,
     "metadata": {},
     "output_type": "execute_result"
    }
   ],
   "source": [
    "num_of_samples = img_data.shape[0]\n",
    "labels = np.array(labels)\n",
    "num_of_samples, labels.shape"
   ]
  },
  {
   "cell_type": "markdown",
   "metadata": {},
   "source": [
    "# dividing into training and testing"
   ]
  },
  {
   "cell_type": "code",
   "execution_count": 6,
   "metadata": {},
   "outputs": [
    {
     "name": "stdout",
     "output_type": "stream",
     "text": [
      "(36214, 8)\n",
      "(25349, 48, 48, 1)\n",
      "(10865, 48, 48, 1)\n"
     ]
    }
   ],
   "source": [
    "Y = np_utils.to_categorical(labels, num_classes)\n",
    "\n",
    "X_train, X_test, y_train, y_test = train_test_split(img_data, Y, test_size=0.30, shuffle=True, random_state=42)\n",
    "X_train = np.reshape(X_train, (X_train.shape[0], 48, 48, 1))\n",
    "X_test = np.reshape(X_test, (X_test.shape[0], 48, 48, 1))\n",
    "\n",
    "print(Y.shape)\n",
    "print(X_train.shape)\n",
    "print(X_test.shape)"
   ]
  },
  {
   "cell_type": "markdown",
   "metadata": {},
   "source": [
    "# creating model"
   ]
  },
  {
   "cell_type": "code",
   "execution_count": 20,
   "metadata": {},
   "outputs": [
    {
     "name": "stdout",
     "output_type": "stream",
     "text": [
      "Model: \"sequential_1\"\n",
      "_________________________________________________________________\n",
      "Layer (type)                 Output Shape              Param #   \n",
      "=================================================================\n",
      "conv2d_3 (Conv2D)            (None, 45, 45, 6)         102       \n",
      "_________________________________________________________________\n",
      "activation_4 (Activation)    (None, 45, 45, 6)         0         \n",
      "_________________________________________________________________\n",
      "conv2d_4 (Conv2D)            (None, 45, 45, 16)        2416      \n",
      "_________________________________________________________________\n",
      "activation_5 (Activation)    (None, 45, 45, 16)        0         \n",
      "_________________________________________________________________\n",
      "max_pooling2d_2 (MaxPooling2 (None, 22, 22, 16)        0         \n",
      "_________________________________________________________________\n",
      "activation_6 (Activation)    (None, 22, 22, 16)        0         \n",
      "_________________________________________________________________\n",
      "conv2d_5 (Conv2D)            (None, 20, 20, 64)        9280      \n",
      "_________________________________________________________________\n",
      "activation_7 (Activation)    (None, 20, 20, 64)        0         \n",
      "_________________________________________________________________\n",
      "max_pooling2d_3 (MaxPooling2 (None, 10, 10, 64)        0         \n",
      "_________________________________________________________________\n",
      "flatten_1 (Flatten)          (None, 6400)              0         \n",
      "_________________________________________________________________\n",
      "dense_2 (Dense)              (None, 128)               819328    \n",
      "_________________________________________________________________\n",
      "dense_3 (Dense)              (None, 8)                 1032      \n",
      "=================================================================\n",
      "Total params: 832,158\n",
      "Trainable params: 832,158\n",
      "Non-trainable params: 0\n",
      "_________________________________________________________________\n"
     ]
    }
   ],
   "source": [
    "input_shape=(48,48,1)\n",
    "\n",
    "model = Sequential()\n",
    "\n",
    "model.add(Conv2D(6, (4, 4), input_shape = input_shape))\n",
    "model.add(Activation('relu'))\n",
    "model.add(Conv2D(16, (5, 5), padding = 'same'))\n",
    "model.add(Activation('relu'))\n",
    "model.add(MaxPooling2D(pool_size=(2, 2)))\n",
    "model.add(Activation('relu'))\n",
    "model.add(Conv2D(64, (3, 3)))\n",
    "model.add(Activation('relu'))\n",
    "model.add(MaxPooling2D(pool_size=(2, 2)))\n",
    "model.add(Flatten())\n",
    "model.add(Dense(128, activation = 'relu'))\n",
    "# model.add(Dropout(0.7))\n",
    "model.add(Dense(8, activation = 'softmax'))\n",
    "\n",
    "model.summary()\n",
    "\n",
    "visualizer(model, format='png')"
   ]
  },
  {
   "cell_type": "markdown",
   "metadata": {},
   "source": [
    "# training the model"
   ]
  },
  {
   "cell_type": "code",
   "execution_count": 21,
   "metadata": {},
   "outputs": [],
   "source": [
    "filename='model_train_new.csv'\n",
    "filepath = os.path.join(\"./emotion_detector_models/model_v6_{epoch}.hdf5\")\n",
    "\n",
    "checkpoint = keras.callbacks.ModelCheckpoint(filepath,\n",
    "                                             monitor='val_acc',\n",
    "                                             verbose=1,\n",
    "                                             save_best_only=True,\n",
    "                                             mode='max')\n",
    "# callbacks = [checkpoint]\n",
    "\n",
    "\n",
    "csv_log=callbacks.CSVLogger(filename, separator=',', append=False)\n",
    "# checkpoint = callbacks.ModelCheckpoint(filepath, monitor='val_loss', verbose=1, save_best_only=True, mode='min')\n",
    "callbacks_list = [csv_log,checkpoint]\n",
    "callbacks_list = [csv_log]"
   ]
  },
  {
   "cell_type": "code",
   "execution_count": 22,
   "metadata": {},
   "outputs": [],
   "source": [
    "model.compile(loss='categorical_crossentropy', optimizer='adam', metrics=['accuracy', 'MeanSquaredError'])"
   ]
  },
  {
   "cell_type": "code",
   "execution_count": 24,
   "metadata": {},
   "outputs": [
    {
     "name": "stdout",
     "output_type": "stream",
     "text": [
      "Epoch 1/5\n",
      "25349/25349 [==============================] - 177s 7ms/step - loss: 1.2246 - accuracy: 0.5351 - mean_squared_error: 0.0735 - val_loss: 1.3735 - val_accuracy: 0.4836 - val_mean_squared_error: 0.0802\n",
      "Epoch 2/5\n",
      "25349/25349 [==============================] - 204s 8ms/step - loss: 1.1504 - accuracy: 0.5676 - mean_squared_error: 0.0695 - val_loss: 1.4350 - val_accuracy: 0.4852 - val_mean_squared_error: 0.0816\n",
      "Epoch 3/5\n",
      "25349/25349 [==============================] - 196s 8ms/step - loss: 1.0752 - accuracy: 0.5991 - mean_squared_error: 0.0655 - val_loss: 1.4290 - val_accuracy: 0.4913 - val_mean_squared_error: 0.0815\n",
      "Epoch 4/5\n",
      "25349/25349 [==============================] - 191s 8ms/step - loss: 1.0032 - accuracy: 0.6272 - mean_squared_error: 0.0615 - val_loss: 1.4769 - val_accuracy: 0.4869 - val_mean_squared_error: 0.0824\n",
      "Epoch 5/5\n",
      "25349/25349 [==============================] - 192s 8ms/step - loss: 0.9445 - accuracy: 0.6493 - mean_squared_error: 0.0581 - val_loss: 1.4965 - val_accuracy: 0.4737 - val_mean_squared_error: 0.0842\n"
     ]
    }
   ],
   "source": [
    "model_info = model.fit(X_train, y_train, batch_size=1, epochs=5, validation_data=(X_test, y_test), callbacks=callbacks_list)"
   ]
  },
  {
   "cell_type": "markdown",
   "metadata": {},
   "source": [
    "# predict model"
   ]
  },
  {
   "cell_type": "code",
   "execution_count": 25,
   "metadata": {},
   "outputs": [
    {
     "name": "stdout",
     "output_type": "stream",
     "text": [
      "793/793 [==============================] - 20s 23ms/step - loss: 0.8937 - accuracy: 0.6729 - mean_squared_error: 0.0555\n",
      "Accuracy (train): 67.29\n",
      "340/340 [==============================] - 8s 24ms/step - loss: 1.4965 - accuracy: 0.4737 - mean_squared_error: 0.0842\n",
      "Accuracy (test): 47.37\n"
     ]
    }
   ],
   "source": [
    "# evaluate the model\n",
    "score = model.evaluate(X_train, y_train)\n",
    "print('Accuracy (train): %.2f' % (score[1]*100))\n",
    "\n",
    "score = model.evaluate(X_test, y_test)\n",
    "print('Accuracy (test): %.2f' % (score[1]*100))"
   ]
  },
  {
   "cell_type": "code",
   "execution_count": 26,
   "metadata": {},
   "outputs": [
    {
     "data": {
      "image/png": "[encoded data removed]",
      "text/plain": [
       "<Figure size 432x288 with 1 Axes>"
      ]
     },
     "metadata": {
      "needs_background": "light"
     },
     "output_type": "display_data"
    }
   ],
   "source": [
    "plt.plot(model_info.history['loss'], 'r', label='train')\n",
    "plt.plot(model_info.history['val_loss'], 'b', label='test')\n",
    "plt.title('model loss')\n",
    "plt.ylabel('loss')\n",
    "plt.xlabel('epoch')\n",
    "plt.legend()\n",
    "plt.show()"
   ]
  },
  {
   "cell_type": "code",
   "execution_count": 27,
   "metadata": {},
   "outputs": [
    {
     "data": {
      "image/png": "[encoded data removed]",
      "text/plain": [
       "<Figure size 432x288 with 1 Axes>"
      ]
     },
     "metadata": {
      "needs_background": "light"
     },
     "output_type": "display_data"
    }
   ],
   "source": [
    "plt.plot(model_info.history['accuracy'], 'r', label='train')\n",
    "plt.plot(model_info.history['val_accuracy'], 'b', label='test')\n",
    "plt.title('model accuracy')\n",
    "plt.ylabel('accuracy')\n",
    "plt.xlabel('epoch')\n",
    "plt.legend()\n",
    "plt.show()"
   ]
  },
  {
   "cell_type": "code",
   "execution_count": 14,
   "metadata": {},
   "outputs": [
    {
     "name": "stdout",
     "output_type": "stream",
     "text": [
      "(1, 48, 48, 1)\n",
      "[[2.2509131e-03 0.0000000e+00 1.1144415e-10 7.5816855e-02 1.9462772e-01\n",
      "  6.9677693e-01 2.7091393e-05 3.0500516e-02]]\n",
      "[5]\n",
      "[[0. 0. 0. 1. 0. 0. 0. 0.]]\n"
     ]
    },
    {
     "data": {
      "image/png": "[encoded data removed]",
      "text/plain": [
       "<Figure size 432x288 with 1 Axes>"
      ]
     },
     "metadata": {
      "needs_background": "light"
     },
     "output_type": "display_data"
    }
   ],
   "source": [
    "test_image = X_test[0:1]\n",
    "print (test_image.shape)\n",
    "\n",
    "print(model.predict(test_image))\n",
    "print(np.argmax(model.predict(test_image), axis=-1))\n",
    "print(y_test[0:1])\n",
    "\n",
    "plt.imshow(test_image[0],cmap=plt.get_cmap('gray'))\n",
    "plt.ylabel('prediction = %s' % getLabel(np.argmax(model.predict(test_image), axis=-1)[0]), fontsize=14)\n",
    "plt.xlabel('actual = %s' % getLabel(1 in y_test[0:1]), fontsize=14)\n",
    "plt.show()"
   ]
  },
  {
   "cell_type": "code",
   "execution_count": 15,
   "metadata": {},
   "outputs": [
    {
     "name": "stdout",
     "output_type": "stream",
     "text": [
      "(1, 48, 48, 1)\n",
      "[[0. 0. 0. 0. 0. 0. 1. 0.]]\n",
      "[6]\n",
      "[[0. 0. 0. 1. 0. 0. 0. 0.]]\n"
     ]
    },
    {
     "data": {
      "image/png": "[encoded data removed]",
      "text/plain": [
       "<Figure size 432x288 with 1 Axes>"
      ]
     },
     "metadata": {
      "needs_background": "light"
     },
     "output_type": "display_data"
    }
   ],
   "source": [
    "test_image = cv2.imread('test_images/surprise.jpg')\n",
    "test_img_gray = cv2.cvtColor(test_image, cv2.COLOR_BGR2GRAY)\n",
    "test_image_resize = cv2.resize(test_img_gray,(48,48))\n",
    "test_image_resize = np.reshape(test_image_resize, (1, 48, 48, 1))\n",
    "print (test_image_resize.shape)\n",
    "\n",
    "print(model.predict(test_image_resize))\n",
    "print(np.argmax(model.predict(test_image_resize), axis=-1))\n",
    "print(y_test[0:1])\n",
    "\n",
    "plt.imshow(test_image_resize[0],cmap=plt.get_cmap('gray'))\n",
    "plt.ylabel('prediction = %s' % getLabel(np.argmax(model.predict(test_image_resize), axis=-1)[0]), fontsize=14)\n",
    "plt.xlabel('actual = %s' % 'surprise', fontsize=14)\n",
    "plt.show()"
   ]
  },
  {
   "cell_type": "code",
   "execution_count": 16,
   "metadata": {},
   "outputs": [
    {
     "name": "stdout",
     "output_type": "stream",
     "text": [
      "(1, 48, 48, 1)\n",
      "[[8.2583231e-04 0.0000000e+00 2.0647208e-12 1.7266488e-04 9.9333596e-01\n",
      "  3.7138399e-03 2.3529431e-06 1.9493054e-03]]\n",
      "[4]\n",
      "[[0. 0. 0. 0. 0. 1. 0. 0.]]\n"
     ]
    },
    {
     "data": {
      "image/png": "[encoded data removed]",
      "text/plain": [
       "<Figure size 432x288 with 1 Axes>"
      ]
     },
     "metadata": {
      "needs_background": "light"
     },
     "output_type": "display_data"
    }
   ],
   "source": [
    "test_image = X_test[33:34]\n",
    "print (test_image.shape)\n",
    "\n",
    "print(model.predict(test_image))\n",
    "print(np.argmax(model.predict(test_image), axis=-1))\n",
    "print(y_test[33:34])\n",
    "\n",
    "plt.imshow(test_image[0],cmap=plt.get_cmap('gray'))\n",
    "plt.ylabel('prediction = %s' % getLabel(np.argmax(model.predict(test_image), axis=-1)[0]), fontsize=14)\n",
    "plt.xlabel('actual = %s' % getLabel(1 in y_test[33:34]), fontsize=14)\n",
    "\n",
    "plt.show()"
   ]
  },
  {
   "cell_type": "code",
   "execution_count": 17,
   "metadata": {},
   "outputs": [],
   "source": [
    "model.save('my_model_2.hdf5')"
   ]
  }
 ],
 "metadata": {
  "interpreter": {
   "hash": "ac59ebe37160ed0dfa835113d9b8498d9f09ceb179beaac4002f036b9467c963"
  },
  "kernelspec": {
   "display_name": "Python 3.9.7 64-bit",
   "name": "python3"
  },
  "language_info": {
   "codemirror_mode": {
    "name": "ipython",
    "version": 3
   },
   "file_extension": ".py",
   "mimetype": "text/x-python",
   "name": "python",
   "nbconvert_exporter": "python",
   "pygments_lexer": "ipython3",
   "version": "3.9.7"
  },
  "orig_nbformat": 2
 },
 "nbformat": 4,
 "nbformat_minor": 2
}
